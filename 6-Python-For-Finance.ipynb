{
 "cells": [
  {
   "cell_type": "markdown",
   "metadata": {},
   "source": [
    "# Imports"
   ]
  },
  {
   "cell_type": "code",
   "execution_count": 1,
   "metadata": {},
   "outputs": [],
   "source": [
    "# Provides ways to work with large multidimensional arrays\n",
    "import numpy as np \n",
    "# Allows for further data manipulation and analysis\n",
    "import pandas as pd\n",
    "from pandas_datareader import data as web # Reads stock data \n",
    "import matplotlib.pyplot as plt # Plotting\n",
    "import matplotlib.dates as mdates # Styling dates\n",
    "%matplotlib inline\n",
    "\n",
    "import datetime as dt # For defining dates\n",
    "import mplfinance as mpf # Matplotlib finance\n",
    "\n",
    "import time\n",
    "\n",
    "# Used to get data from a directory\n",
    "import os\n",
    "from os import listdir\n",
    "from os.path import isfile, join\n",
    "\n",
    "#Statsmodels is a great library we can use to run regressions.\n",
    "import statsmodels.api as sm\n",
    "# Seaborn extends the capabilities of Matplotlib\n",
    "import seaborn as sns\n",
    "# Used for calculating regressions\n",
    "from statsmodels.tsa.ar_model import AutoReg, ar_select_order"
   ]
  },
  {
   "cell_type": "markdown",
   "metadata": {},
   "source": [
    "# Dates & Other Constants"
   ]
  },
  {
   "cell_type": "code",
   "execution_count": 2,
   "metadata": {},
   "outputs": [],
   "source": [
    "PATH = \"./Stocks/\"\n",
    "\n",
    "# Start date defaults\n",
    "S_YEAR = 2017\n",
    "S_MONTH = 1\n",
    "S_DAY = 3\n",
    "S_DATE_STR = \"2017-01-03\"\n",
    "S_DATE_DATETIME = dt.datetime(S_YEAR, S_MONTH, S_DAY)\n",
    "\n",
    "# End date defaults\n",
    "E_YEAR = 2021\n",
    "E_MONTH = 8\n",
    "E_DAY = 19\n",
    "E_DATE_STR = \"2021-10-29\"\n",
    "E_DATE_DATETIME = dt.datetime(E_YEAR, E_MONTH, E_DAY)"
   ]
  },
  {
   "cell_type": "markdown",
   "metadata": {},
   "source": [
    "# Get Stock File Names in a List"
   ]
  },
  {
   "cell_type": "code",
   "execution_count": 3,
   "metadata": {},
   "outputs": [
    {
     "data": {
      "text/plain": [
       "3029"
      ]
     },
     "execution_count": 3,
     "metadata": {},
     "output_type": "execute_result"
    }
   ],
   "source": [
    "files = [x for x in listdir(PATH) if isfile(join(PATH, x))]\n",
    "tickers = [os.path.splitext(x)[0] for x in files]\n",
    "len(tickers) # 2886 total stocks"
   ]
  },
  {
   "cell_type": "markdown",
   "metadata": {},
   "source": [
    "# Function that Returns a Dataframe from a CSV"
   ]
  },
  {
   "cell_type": "code",
   "execution_count": 4,
   "metadata": {},
   "outputs": [],
   "source": [
    "def get_df_from_csv(folder, ticker):\n",
    "    try:\n",
    "        df = pd.read_csv(folder + ticker + '.csv', \n",
    "                         index_col='Date', \n",
    "                         parse_dates=True)\n",
    "    except FileNotFoundError:\n",
    "        pass\n",
    "        # print(\"File Doesn't Exist\")\n",
    "    else:\n",
    "        return df"
   ]
  },
  {
   "cell_type": "markdown",
   "metadata": {},
   "source": [
    "# Save Dataframe to CSV"
   ]
  },
  {
   "cell_type": "code",
   "execution_count": 5,
   "metadata": {},
   "outputs": [],
   "source": [
    "def save_dataframe_to_csv(df, folder, ticker):\n",
    "    df.to_csv(folder + ticker + '.csv')"
   ]
  },
  {
   "cell_type": "markdown",
   "metadata": {},
   "source": [
    "# Add Daily Return to Dataframe"
   ]
  },
  {
   "cell_type": "code",
   "execution_count": 6,
   "metadata": {},
   "outputs": [],
   "source": [
    "# We calculate a percentage rate of return for each day to compare investments.\n",
    "# Simple Rate of Return = (End Price - Beginning Price) / Beginning Price OR (EP / BP) - 1\n",
    "\n",
    "# Shift provides the value from the previous day\n",
    "# NaN is displayed because there was no previous day price for the 1st calculation\n",
    "def add_daily_return_to_df(df, ticker):\n",
    "    df['daily_return'] = (df['Adj Close'] / df['Adj Close'].shift(1)) - 1\n",
    "    # Save data to a CSV file\n",
    "    df.to_csv(PATH + ticker + '.csv')\n",
    "    return df"
   ]
  },
  {
   "cell_type": "markdown",
   "metadata": {},
   "source": [
    "# Regression Time Series Example with AutoReg"
   ]
  },
  {
   "cell_type": "code",
   "execution_count": 7,
   "metadata": {},
   "outputs": [],
   "source": [
    "def calc_projected_roi(ticker):\n",
    "    a_df = get_df_from_csv(PATH, ticker) \n",
    "\n",
    "    a_df = a_df.asfreq('d') # Change frequency to day\n",
    "    a_df.index # Check frequency\n",
    "    a_df = a_df.fillna(method='ffill') # Fill missing values\n",
    "\n",
    "    # Delete unnamed column\n",
    "    a_df.drop(a_df.columns[a_df.columns.str.contains('unnamed',case = False)],\n",
    "          axis = 1, inplace = True)\n",
    "\n",
    "    # Delete daily return column\n",
    "    a_df = a_df.drop(['daily_return'], axis=1)\n",
    "    \n",
    "    # Figure out optimum lags which will be 1 or 2 for this data set\n",
    "    lags = ar_select_order(a_df, maxlag=30)\n",
    "\n",
    "    # Create our model using whole data set\n",
    "    model = AutoReg(a_df['Adj Close'], lags.ar_lags)\n",
    "    model_fit = model.fit()\n",
    "\n",
    "    # Define training and testing area\n",
    "    train_df = a_df.iloc[50:1369] # 80% minus 1st 50\n",
    "    test_df = a_df.iloc[1369:] # Last 20%\n",
    "\n",
    "    # Define training model for 500 days (Play with Number & Test)\n",
    "    # and White's covariance estimator\n",
    "    train_model = AutoReg(a_df['Adj Close'], 500).fit(cov_type=\"HC0\")\n",
    "\n",
    "    # Define start and end for prediction \n",
    "    start = len(train_df)\n",
    "    end = len(train_df) + len(test_df) - 1\n",
    "\n",
    "    prediction = train_model.predict(start=start, end=end, dynamic=True)\n",
    "\n",
    "    # Predict 160 days into the future\n",
    "    forecast = train_model.predict(start=end, end=end+60, dynamic=True)\n",
    "\n",
    "    # Get starting price of prediction\n",
    "    s_price = forecast.head(1).iloc[0]\n",
    "\n",
    "    # Get the last price of prediction\n",
    "    e_price = forecast.iloc[-1]\n",
    "\n",
    "    # Get return over prediction\n",
    "    return (e_price - s_price) / s_price"
   ]
  },
  {
   "cell_type": "code",
   "execution_count": 8,
   "metadata": {},
   "outputs": [
    {
     "name": "stdout",
     "output_type": "stream",
     "text": [
      "Projected ROI in Next 160 days : 0.03655617012954882\n"
     ]
    }
   ],
   "source": [
    "print(\"Projected ROI in Next 160 days :\", calc_projected_roi(\"AAPL\")) # For Apple Stock Data"
   ]
  },
  {
   "cell_type": "code",
   "execution_count": 9,
   "metadata": {},
   "outputs": [],
   "source": [
    "def get_proj_rois():\n",
    "    # Will hold all tickers & stock rois\n",
    "    ticker = []\n",
    "    roi = []\n",
    "    \n",
    "    for x in tickers:\n",
    "        try:\n",
    "            the_roi = calc_projected_roi(x)\n",
    "        except Exception as ex:\n",
    "            print(f\"{x} : Stock Data Corrupted\")\n",
    "        else:\n",
    "            ticker.append(x)\n",
    "            roi.append(the_roi)\n",
    "        \n",
    "    return pd.DataFrame({'Ticker':ticker, 'ROI':roi})"
   ]
  },
  {
   "cell_type": "code",
   "execution_count": 10,
   "metadata": {},
   "outputs": [],
   "source": [
    "'''proj_roi_df = get_proj_rois()\n",
    "proj_roi_df'''\n",
    "# The Reason for Corrupted Data is that these Stocks are Newer and Do Not have Stock Data starting from 2017\n",
    "# As we defined our starting data as 2017-01-03 it gives Data Corrupted Error.\n",
    "\n",
    "proj_roi_df = pd.read_csv(\"projected_stock_roi.csv\")"
   ]
  },
  {
   "cell_type": "code",
   "execution_count": 11,
   "metadata": {},
   "outputs": [
    {
     "data": {
      "text/html": [
       "<div>\n",
       "<style scoped>\n",
       "    .dataframe tbody tr th:only-of-type {\n",
       "        vertical-align: middle;\n",
       "    }\n",
       "\n",
       "    .dataframe tbody tr th {\n",
       "        vertical-align: top;\n",
       "    }\n",
       "\n",
       "    .dataframe thead th {\n",
       "        text-align: right;\n",
       "    }\n",
       "</style>\n",
       "<table border=\"1\" class=\"dataframe\">\n",
       "  <thead>\n",
       "    <tr style=\"text-align: right;\">\n",
       "      <th></th>\n",
       "      <th>Ticker</th>\n",
       "      <th>ROI</th>\n",
       "    </tr>\n",
       "  </thead>\n",
       "  <tbody>\n",
       "    <tr>\n",
       "      <th>0</th>\n",
       "      <td>MIC</td>\n",
       "      <td>21.955019</td>\n",
       "    </tr>\n",
       "    <tr>\n",
       "      <th>1</th>\n",
       "      <td>CPSH</td>\n",
       "      <td>6.198566</td>\n",
       "    </tr>\n",
       "    <tr>\n",
       "      <th>2</th>\n",
       "      <td>GME</td>\n",
       "      <td>4.787613</td>\n",
       "    </tr>\n",
       "    <tr>\n",
       "      <th>3</th>\n",
       "      <td>CEI</td>\n",
       "      <td>4.627012</td>\n",
       "    </tr>\n",
       "    <tr>\n",
       "      <th>4</th>\n",
       "      <td>CYTR</td>\n",
       "      <td>3.153769</td>\n",
       "    </tr>\n",
       "    <tr>\n",
       "      <th>5</th>\n",
       "      <td>CCXI</td>\n",
       "      <td>1.531457</td>\n",
       "    </tr>\n",
       "    <tr>\n",
       "      <th>6</th>\n",
       "      <td>MSTR</td>\n",
       "      <td>1.508713</td>\n",
       "    </tr>\n",
       "    <tr>\n",
       "      <th>7</th>\n",
       "      <td>SPWR</td>\n",
       "      <td>1.443123</td>\n",
       "    </tr>\n",
       "    <tr>\n",
       "      <th>8</th>\n",
       "      <td>AEHR</td>\n",
       "      <td>1.386954</td>\n",
       "    </tr>\n",
       "    <tr>\n",
       "      <th>9</th>\n",
       "      <td>APPS</td>\n",
       "      <td>1.241436</td>\n",
       "    </tr>\n",
       "    <tr>\n",
       "      <th>10</th>\n",
       "      <td>REPH</td>\n",
       "      <td>1.175994</td>\n",
       "    </tr>\n",
       "    <tr>\n",
       "      <th>11</th>\n",
       "      <td>CATB</td>\n",
       "      <td>1.077912</td>\n",
       "    </tr>\n",
       "    <tr>\n",
       "      <th>12</th>\n",
       "      <td>MCRB</td>\n",
       "      <td>1.054789</td>\n",
       "    </tr>\n",
       "    <tr>\n",
       "      <th>13</th>\n",
       "      <td>PTE</td>\n",
       "      <td>1.038631</td>\n",
       "    </tr>\n",
       "    <tr>\n",
       "      <th>14</th>\n",
       "      <td>ACY</td>\n",
       "      <td>1.013952</td>\n",
       "    </tr>\n",
       "    <tr>\n",
       "      <th>15</th>\n",
       "      <td>ODT</td>\n",
       "      <td>0.907857</td>\n",
       "    </tr>\n",
       "    <tr>\n",
       "      <th>16</th>\n",
       "      <td>DSS</td>\n",
       "      <td>0.880707</td>\n",
       "    </tr>\n",
       "    <tr>\n",
       "      <th>17</th>\n",
       "      <td>CORR</td>\n",
       "      <td>0.876136</td>\n",
       "    </tr>\n",
       "    <tr>\n",
       "      <th>18</th>\n",
       "      <td>EYEG</td>\n",
       "      <td>0.862355</td>\n",
       "    </tr>\n",
       "    <tr>\n",
       "      <th>19</th>\n",
       "      <td>IRTC</td>\n",
       "      <td>0.861395</td>\n",
       "    </tr>\n",
       "  </tbody>\n",
       "</table>\n",
       "</div>"
      ],
      "text/plain": [
       "   Ticker        ROI\n",
       "0     MIC  21.955019\n",
       "1    CPSH   6.198566\n",
       "2     GME   4.787613\n",
       "3     CEI   4.627012\n",
       "4    CYTR   3.153769\n",
       "5    CCXI   1.531457\n",
       "6    MSTR   1.508713\n",
       "7    SPWR   1.443123\n",
       "8    AEHR   1.386954\n",
       "9    APPS   1.241436\n",
       "10   REPH   1.175994\n",
       "11   CATB   1.077912\n",
       "12   MCRB   1.054789\n",
       "13    PTE   1.038631\n",
       "14    ACY   1.013952\n",
       "15    ODT   0.907857\n",
       "16    DSS   0.880707\n",
       "17   CORR   0.876136\n",
       "18   EYEG   0.862355\n",
       "19   IRTC   0.861395"
      ]
     },
     "execution_count": 11,
     "metadata": {},
     "output_type": "execute_result"
    }
   ],
   "source": [
    "# As Calsulating ROI is a very CPU intensive and a Time Consuming Process \n",
    "# Saving the ROI Data in csv file\n",
    "'''proj_roi_df.to_csv(\"./projected_stock_roi.csv\", index=None)'''\n",
    "\n",
    "# Top 20 Stoks that would have hightest ROI as Per Our Prediction\n",
    "proj_roi_df.sort_values(by=\"ROI\", ascending=False).reset_index(drop=True)[:20]"
   ]
  }
 ],
 "metadata": {
  "interpreter": {
   "hash": "c910ff1971d1a35b86d57fc264bbf5a30ca5984c3d733b151c172360a879289c"
  },
  "kernelspec": {
   "display_name": "Python 3.9.7 64-bit",
   "name": "python3"
  },
  "language_info": {
   "codemirror_mode": {
    "name": "ipython",
    "version": 3
   },
   "file_extension": ".py",
   "mimetype": "text/x-python",
   "name": "python",
   "nbconvert_exporter": "python",
   "pygments_lexer": "ipython3",
   "version": "3.9.7"
  },
  "orig_nbformat": 4
 },
 "nbformat": 4,
 "nbformat_minor": 2
}
