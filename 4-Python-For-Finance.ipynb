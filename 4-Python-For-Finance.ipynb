{
 "cells": [
  {
   "cell_type": "markdown",
   "metadata": {},
   "source": [
    "# Imports"
   ]
  },
  {
   "cell_type": "code",
   "execution_count": 1,
   "metadata": {},
   "outputs": [],
   "source": [
    "# Provides ways to work with large multidimensional arrays\n",
    "import numpy as np \n",
    "# Allows for further data manipulation and analysis\n",
    "import pandas as pd\n",
    "from pandas_datareader import data as web # Reads stock data \n",
    "import seaborn as sns\n",
    "sns.set_style(\"darkgrid\")\n",
    "import matplotlib.pyplot as plt # Plotting\n",
    "import matplotlib.dates as mdates # Styling dates\n",
    "%matplotlib inline\n",
    "\n",
    "import datetime as dt # For defining dates\n",
    "import mplfinance as mpf # Matplotlib finance\n",
    "\n",
    "import time\n",
    "\n",
    "# Used to get data from a directory\n",
    "import os\n",
    "from os import listdir\n",
    "from os.path import isfile, join\n",
    "\n",
    "import warnings\n",
    "warnings.filterwarnings(\"ignore\")"
   ]
  },
  {
   "cell_type": "markdown",
   "metadata": {},
   "source": [
    "# Dates and Other Constants"
   ]
  },
  {
   "cell_type": "code",
   "execution_count": 2,
   "metadata": {},
   "outputs": [],
   "source": [
    "PATH = \"./Stocks/\"\n",
    "\n",
    "# Start date defaults\n",
    "S_YEAR = 2017\n",
    "S_MONTH = 1\n",
    "S_DAY = 3\n",
    "S_DATE_STR = \"2017-01-03\"\n",
    "S_DATE_DATETIME = dt.datetime(S_YEAR, S_MONTH, S_DAY)\n",
    "\n",
    "# End date defaults\n",
    "E_YEAR = 2021\n",
    "E_MONTH = 8\n",
    "E_DAY = 19\n",
    "E_DATE_STR = \"2021-08-19\"\n",
    "E_DATE_DATETIME = dt.datetime(E_YEAR, E_MONTH, E_DAY)"
   ]
  },
  {
   "cell_type": "markdown",
   "metadata": {},
   "source": [
    "# Get Stock File Names in a List"
   ]
  },
  {
   "cell_type": "code",
   "execution_count": 3,
   "metadata": {},
   "outputs": [
    {
     "name": "stdout",
     "output_type": "stream",
     "text": [
      "['A', 'AA', 'AAL', 'AAME', 'AAOI', 'AAON', 'AAP', 'AAPL', 'AAT', 'AAWW', 'ABBV', 'ABC', 'ABCB', 'ABEO', 'ABG', 'ABIO', 'ABM', 'ABMD', 'ABR', 'ABT', 'ABTX', 'AC', 'ACAD', 'ACBI', 'ACC', 'ACCO', 'ACER', 'ACGL', 'ACHC', 'ACHV', 'ACIW', 'ACLS', 'ACM', 'ACMR', 'ACN', 'ACNB', 'ACOR', 'ACRE', 'ACRS', 'ACRX', 'ACTG', 'ACU', 'ACY', 'ADBE', 'ADC', 'ADES', 'ADI', 'ADM', 'ADMA', 'ADMP', 'ADMS', 'ADNT', 'ADP', 'ADS', 'ADSK', 'ADTN', 'ADUS', 'ADVM', 'ADXS', 'AE', 'AEE', 'AEHR', 'AEIS', 'AEL', 'AEMD', 'AEO', 'AEP', 'AERI', 'AES', 'AEY', 'AFG', 'AFI', 'AFL', 'AGCO', 'AGEN', 'AGFS', 'AGIO', 'AGLE', 'AGM', 'AGNC', 'AGO', 'AGR', 'AGRX', 'AGTC', 'AGX', 'AGYS', 'AHH', 'AHT', 'AIG', 'AIMC', 'AIN', 'AINC', 'AIR', 'AIRG', 'AIRI', 'AIRT', 'AIT', 'AIV', 'AIZ', 'AJG', 'AJRD', 'AJX', 'AKAM', 'AKBA', 'AKR', 'AKTS', 'AL', 'ALB', 'ALBO', 'ALCO', 'ALDX', 'ALE', 'ALEX', 'ALG', 'ALGN', 'ALGT', 'ALJJ', 'ALK', 'ALKS', 'ALL', 'ALLE', 'ALLY', 'ALNA', 'ALNY', 'ALOT', 'ALPN', 'ALRM', 'ALSN', 'ALT', 'ALTR', 'ALV', 'ALX', 'ALXN', 'AM', 'AMAT', 'AMBC', 'AMC', 'AMCR', 'AMCX', 'AMD', 'AME', 'AMED', 'AMG', 'AMGN', 'AMH', 'AMKR', 'AMN', 'AMNB', 'AMOT', 'AMP', 'AMPE', 'AMPH', 'AMRC', 'AMRK', 'AMRS', 'AMS', 'AMSC', 'AMSF', 'AMSWA', 'AMT', 'AMTX', 'AMWD', 'AMZN', 'AN', 'ANAB', 'ANAT', 'ANDE', 'ANET', 'ANF', 'ANGI', 'ANGO', 'ANIK', 'ANIP', 'ANIX', 'ANSS', 'ANTM', 'AON', 'AOS', 'AOSL', 'AP', 'APA', 'APAM', 'APD', 'APDN', 'APEI', 'APEN', 'APH', 'APLE', 'APLS', 'APOG', 'APPF', 'APPN', 'APPS', 'APRN', 'APT', 'APTS', 'APTV', 'APVO', 'AQB', 'AQMS', 'AQUA', 'AR', 'ARAV', 'ARAY', 'ARC', 'ARCB', 'ARCH', 'ARDX', 'ARE', 'ARES', 'ARGO', 'ARI', 'ARKR', 'ARL', 'ARMK', 'ARNA', 'AROC', 'AROW', 'ARR', 'ARTNA', 'ARTW', 'ARW', 'ARWR', 'ASB', 'ASGN', 'ASH', 'ASIX', 'ASMB', 'ASPN', 'ASPS', 'ASRT', 'ASRV', 'ASTC', 'ASTE', 'ASUR', 'ASYS', 'ATEC', 'ATEN', 'ATGE', 'ATH', 'ATHX', 'ATI', 'ATKR', 'ATLC', 'ATLO', 'ATNI', 'ATNM', 'ATNX', 'ATO', 'ATOS', 'ATR', 'ATRA', 'ATRC', 'ATRI', 'ATRO', 'ATRS', 'ATSG', 'ATUS', 'ATVI', 'AUBN', 'AUMN', 'AUTO', 'AVA', 'AVAV', 'AVB', 'AVD', 'AVEO', 'AVGO', 'AVGR', 'AVID', 'AVNS', 'AVNW', 'AVT', 'AVXL', 'AVY', 'AVYA', 'AWI', 'AWK', 'AWR', 'AWRE', 'AX', 'AXAS', 'AXDX', 'AXGN', 'AXL', 'AXP', 'AXR', 'AXS', 'AXSM', 'AXTA', 'AXTI', 'AYI', 'AYX', 'AZO', 'AZPN', 'AZZ', 'B', 'BA', 'BAC', 'BAH', 'BANC', 'BAND', 'BANF', 'BANR', 'BATRA', 'BATRK', 'BAX', 'BBBY', 'BBCP', 'BBGI', 'BBSI', 'BBW', 'BBWI', 'BBY', 'BC', 'BCBP', 'BCC', 'BCEI', 'BCLI', 'BCO', 'BCOR', 'BCOV', 'BCPC', 'BCRX', 'BDC', 'BDL', 'BDN', 'BDSI', 'BDX', 'BECN', 'BELFA', 'BELFB', 'BEN', 'BERY', 'BF-B', 'BFAM', 'BFIN', 'BFS', 'BG', 'BGCP', 'BGFV', 'BGS', 'BGSF', 'BH', 'BHB', 'BHE', 'BHF', 'BHLB', 'BHR', 'BHVN', 'BIG', 'BIIB', 'BIO', 'BIOC', 'BIOL', 'BJRI', 'BK', 'BKD', 'BKE', 'BKH', 'BKI', 'BKNG', 'BKR', 'BKSC', 'BKTI', 'BKU', 'BL', 'BLBD', 'BLCM', 'BLD', 'BLDR', 'BLFS', 'BLK', 'BLKB', 'BLL', 'BLMN', 'BLUE', 'BMI', 'BMRC', 'BMRN', 'BMTC', 'BMY', 'BNED', 'BNFT', 'BOCH', 'BOH', 'BOKF', 'BOMN', 'BOOM', 'BOOT', 'BOTJ', 'BOX', 'BPFH', 'BPMC', 'BPOP', 'BPRN', 'BPTH', 'BR', 'BRC', 'BRG', 'BRID', 'BRK-B', 'BRKL', 'BRKR', 'BRKS', 'BRN', 'BRO', 'BRT', 'BRX', 'BSET', 'BSGM', 'BSQR', 'BSRR', 'BSX', 'BTN', 'BTU', 'BURL', 'BUSE', 'BW', 'BWA', 'BWEN', 'BWFG', 'BWXT', 'BXC', 'BXMT', 'BXP', 'BXS', 'BY', 'BYD', 'BYFC', 'BZH', 'C', 'CABO', 'CAC', 'CACC', 'CACI', 'CADE', 'CAG', 'CAH', 'CAI', 'CAKE', 'CAL', 'CALA', 'CALM', 'CALX', 'CAMP', 'CAPR', 'CAR', 'CARA', 'CARG', 'CARR', 'CARS', 'CASA', 'CASH', 'CASI', 'CASS', 'CASY', 'CAT', 'CATB', 'CATC', 'CATO', 'CATY', 'CB', 'CBAN', 'CBAY', 'CBB', 'CBFV', 'CBIO', 'CBLI', 'CBOE', 'CBRE', 'CBRL', 'CBSH', 'CBT', 'CBTX', 'CBU', 'CBZ', 'CC', 'CCBG', 'CCF', 'CCI', 'CCK', 'CCL', 'CCMP', 'CCNE', 'CCO', 'CCOI', 'CCRN', 'CCS', 'CCXI', 'CDE', 'CDEV', 'CDK', 'CDMO', 'CDNA', 'CDNS', 'CDR', 'CDTX', 'CDW', 'CDXC', 'CDXS', 'CDZI', 'CE', 'CECE', 'CEI', 'CEIX', 'CELC', 'CELH', 'CEMI', 'CENT', 'CENTA', 'CENX', 'CERC', 'CERN', 'CERS', 'CETX', 'CEVA', 'CF', 'CFBK', 'CFFI', 'CFFN', 'CFG', 'CFMS', 'CFR', 'CFX', 'CGNX', 'CHCI', 'CHCO', 'CHCT', 'CHD', 'CHDN', 'CHE', 'CHEF', 'CHGG', 'CHH', 'CHMA', 'CHMG', 'CHMI', 'CHRS', 'CHRW', 'CHS', 'CHTR', 'CHUY', 'CI', 'CIA', 'CIDM', 'CIEN', 'CIM', 'CINF', 'CIO', 'CIR', 'CIT', 'CIVB', 'CIX', 'CIZN', 'CKX', 'CL', 'CLAR', 'CLB', 'CLBS', 'CLDR', 'CLDT', 'CLDX', 'CLF', 'CLFD', 'CLH', 'CLI', 'CLIR', 'CLNE', 'CLPR', 'CLR', 'CLRB', 'CLRO', 'CLSN', 'CLVS', 'CLW', 'CLX', 'CLXT', 'CMA', 'CMC', 'CMCO', 'CMCSA', 'CMCT', 'CME', 'CMG', 'CMI', 'CMO', 'CMP', 'CMRX', 'CMS', 'CMT', 'CMTL', 'CNA', 'CNBKA', 'CNC', 'CNCE', 'CNDT', 'CNFR', 'CNK', 'CNMD', 'CNNE', 'CNO', 'CNOB', 'CNP', 'CNS', 'CNSL', 'CNTY', 'CNX', 'CNXN', 'CODA', 'COF', 'COG', 'COHN', 'COHR', 'COHU', 'COKE', 'COLB', 'COLL', 'COLM', 'COMM', 'CONE', 'CONN', 'COO', 'COOP', 'COP', 'COR', 'CORE', 'CORR', 'CORT', 'COST', 'COTY', 'COUP', 'COWN', 'CPB', 'CPE', 'CPF', 'CPHC', 'CPIX', 'CPK', 'CPRI', 'CPRT', 'CPRX', 'CPS', 'CPSH', 'CPSI', 'CPSS', 'CPT', 'CR', 'CRAI', 'CRBP', 'CREE', 'CRI', 'CRIS', 'CRK', 'CRL', 'CRM', 'CRMD', 'CRMT', 'CROX', 'CRS', 'CRUS', 'CRVL', 'CRVS', 'CRWS', 'CRY', 'CSCO', 'CSGP', 'CSGS', 'CSII', 'CSL', 'CSLT', 'CSOD', 'CSPI', 'CSTR', 'CSU', 'CSV', 'CSWI', 'CSX', 'CTAS', 'CTBI', 'CTG', 'CTHR', 'CTIB', 'CTIC', 'CTLT', 'CTMX', 'CTO', 'CTRE', 'CTRN', 'CTS', 'CTSH', 'CTSO', 'CTT', 'CTVA', 'CTXS', 'CUBE', 'CUBI', 'CULP', 'CURO', 'CUTR', 'CUZ', 'CVA', 'CVBF', 'CVCO', 'CVCY', 'CVGI', 'CVGW', 'CVI', 'CVLT', 'CVLY', 'CVM', 'CVNA', 'CVR', 'CVS', 'CVU', 'CVV', 'CVX', 'CW', 'CWBC', 'CWBR', 'CWEN', 'CWH', 'CWST', 'CWT', 'CXP', 'CXW', 'CYAN', 'CYBE', 'CYCC', 'CYH', 'CYRX', 'CYTK', 'CYTR', 'CZNC', 'CZR', 'CZWI', 'D', 'DAIO', 'DAKT', 'DAL', 'DAN', 'DAR', 'DARE', 'DBD', 'DBI', 'DCI', 'DCO', 'DCOM', 'DCPH', 'DD', 'DDD', 'DDS', 'DE', 'DEA', 'DECK', 'DEI', 'DELL', 'DENN', 'DFIN', 'DFS', 'DG', 'DGICA', 'DGII', 'DGLY', 'DGX', 'DHI', 'DHIL', 'DHR', 'DHX', 'DIN', 'DIOD', 'DIS', 'DISCA', 'DISCK', 'DISH', 'DIT', 'DJCO', 'DK', 'DKS', 'DLA', 'DLB', 'DLHC', 'DLR', 'DLTH', 'DLTR', 'DLX', 'DMRC', 'DNLI', 'DNOW', 'DOC', 'DOOR', 'DORM', 'DOV', 'DOW', 'DPZ', 'DRE', 'DRH', 'DRI', 'DRNA', 'DRQ', 'DRRX', 'DS', 'DSKE', 'DSPG', 'DSS', 'DTE', 'DUK', 'DVA', 'DVAX', 'DVD', 'DVN', 'DWSN', 'DX', 'DXC', 'DXCM', 'DXLG', 'DXPE', 'DXYN', 'DY', 'DZSI', 'EA', 'EARN', 'EAT', 'EBAY', 'EBF', 'EBIX', 'EBMT', 'EBS', 'EBSB', 'EBTC', 'ECHO', 'ECL', 'ECOL', 'ECOM', 'ECPG', 'ED', 'EDIT', 'EDUC', 'EEFT', 'EEX', 'EFC', 'EFOI', 'EFSC', 'EFX', 'EGAN', 'EGBN', 'EGHT', 'EGLE', 'EGP', 'EGRX', 'EGY', 'EHC', 'EHTH', 'EIG', 'EIGR', 'EIX', 'EKSO', 'EL', 'ELF', 'ELMD', 'ELOX', 'ELS', 'ELSE', 'ELVT', 'ELY', 'EMAN', 'EMCF', 'EME', 'EMKR', 'EML', 'EMMS', 'EMN', 'EMR', 'ENDP', 'ENG', 'ENPH', 'ENR', 'ENS', 'ENSG', 'ENSV', 'ENTA', 'ENTG', 'ENV', 'ENVA', 'ENZ', 'EOG', 'EPAM', 'EPAY', 'EPC', 'EPM', 'EPR', 'EPZM', 'EQBK', 'EQC', 'EQIX', 'EQR', 'EQT', 'ERIE', 'ERII', 'ES', 'ESBK', 'ESCA', 'ESE', 'ESGR', 'ESNT', 'ESP', 'ESPR', 'ESRT', 'ESS', 'ESSA', 'ESTE', 'ESXB', 'ETH', 'ETN', 'ETR', 'ETSY', 'EVBG', 'EVBN', 'EVC', 'EVFM', 'EVH', 'EVI', 'EVOK', 'EVOL', 'EVR', 'EVRG', 'EVRI', 'EVTC', 'EW', 'EWBC', 'EXAS', 'EXC', 'EXEL', 'EXLS', 'EXP', 'EXPD', 'EXPE', 'EXPO', 'EXPR', 'EXR', 'EXTN', 'EXTR', 'EYE', 'EYEG', 'EYES', 'EYPT', 'EZPW', 'F', 'FAF', 'FANG', 'FARM', 'FARO', 'FAST', 'FATE', 'FB', 'FBC', 'FBHS', 'FBIO', 'FBIZ', 'FBK', 'FBMS', 'FBNC', 'FBP', 'FC', 'FCAP', 'FCBC', 'FCBP', 'FCCO', 'FCCY', 'FCEL', 'FCF', 'FCFS', 'FCN', 'FCNCA', 'FCPT', 'FCX', 'FDBC', 'FDP', 'FDS', 'FDX', 'FE', 'FEIM', 'FELE', 'FET', 'FEYE', 'FF', 'FFBC', 'FFIC', 'FFIN', 'FFIV', 'FFNW', 'FFWM', 'FGBI', 'FGEN', 'FHB', 'FHN', 'FI', 'FIBK', 'FICO', 'FIS', 'FISI', 'FISV', 'FITB', 'FIVE', 'FIVN', 'FIX', 'FIZZ', 'FL', 'FLDM', 'FLIC', 'FLL', 'FLMN', 'FLNT', 'FLO', 'FLOW', 'FLR', 'FLS', 'FLT', 'FLWS', 'FLXN', 'FLXS', 'FMAO', 'FMBH', 'FMBI', 'FMC', 'FMNB', 'FN', 'FNB', 'FNCB', 'FND', 'FNF', 'FNHC', 'FNKO', 'FNLC', 'FNWB', 'FOE', 'FOLD', 'FONR', 'FOR', 'FORD', 'FORM', 'FORR', 'FOSL', 'FOX', 'FOXA', 'FOXF', 'FPI', 'FR', 'FRBA', 'FRBK', 'FRC', 'FRD', 'FRGI', 'FRME', 'FRPH', 'FRPT', 'FRT', 'FRTA', 'FSBW', 'FSFG', 'FSLR', 'FSP', 'FSS', 'FSTR', 'FTEK', 'FTI', 'FTK', 'FTNT', 'FTV', 'FUL', 'FULT', 'FUNC', 'FUSB', 'FVE', 'FWONA', 'FWONK', 'FWRD', 'G', 'GABC', 'GAIA', 'GALT', 'GATX', 'GBCI', 'GBL', 'GBLI', 'GBT', 'GBX', 'GCBC', 'GCI', 'GCO', 'GCP', 'GD', 'GDDY', 'GDEN', 'GDOT', 'GDP', 'GE', 'GEF', 'GENC', 'GEO', 'GEOS', 'GERN', 'GES', 'GEVO', 'GFED', 'GFF', 'GGG', 'GHC', 'GHL', 'GHM', 'GIFI', 'GIII', 'GILD', 'GIS', 'GKOS', 'GL', 'GLBZ', 'GLDD', 'GLPI', 'GLRE', 'GLT', 'GLW', 'GLYC', 'GM', 'GME', 'GMED', 'GMRE', 'GMS', 'GNCA', 'GNE', 'GNK', 'GNL', 'GNRC', 'GNTX', 'GNTY', 'GNW', 'GOGO', 'GOLF', 'GOOD', 'GOOG', 'GOOGL', 'GORO', 'GPC', 'GPI', 'GPK', 'GPMT', 'GPN', 'GPRE', 'GPRO', 'GPS', 'GPX', 'GRA', 'GRBK', 'GRC', 'GRMN', 'GROW', 'GRPN', 'GS', 'GSAT', 'GSBC', 'GSIT', 'GT', 'GTHX', 'GTIM', 'GTLS', 'GTN', 'GTS', 'GTT', 'GTY', 'GTYH', 'GVA', 'GVP', 'GWB', 'GWGH', 'GWRE', 'GWRS', 'GWW', 'H', 'HA', 'HAE', 'HAFC', 'HAIN', 'HAL', 'HALL', 'HALO', 'HAS', 'HASI', 'HAYN', 'HBAN', 'HBB', 'HBCP', 'HBI', 'HBIO', 'HBMD', 'HBNC', 'HBP', 'HCA', 'HCC', 'HCCI', 'HCHC', 'HCI', 'HCKT', 'HCSG', 'HD', 'HDSN', 'HE', 'HEAR', 'HEES', 'HEI', 'HELE', 'HES', 'HFBL', 'HFC', 'HFWA', 'HGV', 'HHC', 'HI', 'HIBB', 'HIFS', 'HIG', 'HII', 'HIL', 'HIW', 'HL', 'HLF', 'HLI', 'HLIT', 'HLNE', 'HLT', 'HLX', 'HMHC', 'HMN', 'HMNF', 'HMST', 'HMTV', 'HNI', 'HNRG', 'HOFT', 'HOG', 'HOLX', 'HOMB', 'HOME', 'HON', 'HONE', 'HOPE', 'HOV', 'HP', 'HPE', 'HPP', 'HPQ', 'HQY', 'HR', 'HRB', 'HRC', 'HRI', 'HRL', 'HROW', 'HRTG', 'HRTX', 'HSC', 'HSIC', 'HSII', 'HSKA', 'HSON', 'HST', 'HSTM', 'HSY', 'HT', 'HTA', 'HTBI', 'HTBK', 'HTBX', 'HTGM', 'HTH', 'HTLD', 'HTLF', 'HUBB', 'HUBG', 'HUBS', 'HUM', 'HUN', 'HURC', 'HURN', 'HUSA', 'HVT', 'HWBK', 'HWC', 'HWKN', 'HWM', 'HXL', 'HY', 'HZN', 'HZNP', 'HZO', 'IAC', 'IART', 'IBCP', 'IBIO', 'IBKR', 'IBM', 'IBOC', 'IBP', 'IBTX', 'ICAD', 'ICBK', 'ICCC', 'ICD', 'ICE', 'ICFI', 'ICHR', 'ICON', 'ICPT', 'ICUI', 'IDA', 'IDCC', 'IDN', 'IDRA', 'IDT', 'IDXG', 'IDXX', 'IEC', 'IESC', 'IEX', 'IFF', 'IHC', 'III', 'IIIN', 'IIN', 'IIPR', 'IIVI', 'IKNX', 'ILMN', 'IMGN', 'IMH', 'IMKTA', 'IMMR', 'IMXI', 'INBK', 'INCY', 'INDB', 'INFI', 'INFN', 'INFO', 'INFU', 'INGN', 'INGR', 'INN', 'INO', 'INOD', 'INOV', 'INPX', 'INS', 'INSE', 'INSG', 'INSM', 'INSW', 'INT', 'INTC', 'INTG', 'INTT', 'INTU', 'INUV', 'INVA', 'INVE', 'INVH', 'IO', 'IONS', 'IOR', 'IOSP', 'IOVA', 'IP', 'IPAR', 'IPG', 'IPGP', 'IPI', 'IPWR', 'IQV', 'IR', 'IRBT', 'IRDM', 'IRIX', 'IRM', 'IRMD', 'IROQ', 'IRT', 'IRTC', 'IRWD', 'ISBC', 'ISDR', 'ISIG', 'ISNS', 'ISR', 'ISRG', 'ISSC', 'ISTR', 'IT', 'ITCI', 'ITGR', 'ITI', 'ITIC', 'ITRI', 'ITT', 'ITW', 'IVAC', 'IVC', 'IVR', 'IVZ', 'IZEA', 'J', 'JACK', 'JAGX', 'JAKK', 'JAX', 'JAZZ', 'JBGS', 'JBHT', 'JBL', 'JBLU', 'JBSS', 'JBT', 'JCI', 'JCOM', 'JCS', 'JCTCF', 'JEF', 'JELD', 'JHG', 'JILL', 'JJSF', 'JKHY', 'JLL', 'JNCE', 'JNJ', 'JNPR', 'JOB', 'JOE', 'JOUT', 'JPM', 'JRVR', 'JVA', 'JWN', 'JYNT', 'K', 'KAI', 'KALA', 'KALU', 'KALV', 'KAMN', 'KAR', 'KBAL', 'KBH', 'KBR', 'KDMN', 'KDP', 'KE', 'KELYA', 'KEQU', 'KEX', 'KEY', 'KEYS', 'KFFB', 'KFRC', 'KFY', 'KHC', 'KIDS', 'KIM', 'KIN', 'KINS', 'KIRK', 'KKR', 'KLAC', 'KLIC', 'KMB', 'KMI', 'KMPH', 'KMPR', 'KMT', 'KMX', 'KN', 'KNL', 'KNSL', 'KNX', 'KO', 'KODK', 'KOP', 'KOPN', 'KOS', 'KPTI', 'KR', 'KRA', 'KRC', 'KREF', 'KRG', 'KRNY', 'KRO', 'KRYS', 'KSS', 'KSU', 'KTCC', 'KTOS', 'KURA', 'KVHI', 'KW', 'KWR', 'L', 'LAD', 'LADR', 'LAKE', 'LAMR', 'LANC', 'LAND', 'LARK', 'LAUR', 'LAWS', 'LAZ', 'LB', 'LBAI', 'LBC', 'LBRDA', 'LBRDK', 'LBTYA', 'LBTYK', 'LC', 'LCI', 'LCII', 'LCNB', 'LCUT', 'LDL', 'LDOS', 'LE', 'LEA', 'LECO', 'LEE', 'LEG', 'LEN', 'LEU', 'LFUS', 'LFVN', 'LGIH', 'LGL', 'LGND', 'LH', 'LHCG', 'LHX', 'LIFE', 'LII', 'LILA', 'LILAK', 'LIN', 'LINC', 'LIND', 'LIQT', 'LITE', 'LIVE', 'LIVN', 'LIVX', 'LJPC', 'LKFN', 'LKQ', 'LL', 'LLNW', 'LLY', 'LMAT', 'LMFA', 'LMNR', 'LMNX', 'LMT', 'LNC', 'LNDC', 'LNG', 'LNN', 'LNT', 'LNTH', 'LOAN', 'LOB', 'LOCO', 'LODE', 'LOOP', 'LOPE', 'LORL', 'LOW', 'LPCN', 'LPG', 'LPI', 'LPLA', 'LPSN', 'LPTH', 'LPX', 'LQDT', 'LRCX', 'LRN', 'LSBK', 'LSCC', 'LSI', 'LSTR', 'LSXMA', 'LSXMK', 'LTBR', 'LTC', 'LTRPA', 'LTRX', 'LUB', 'LULU', 'LUMN', 'LUNA', 'LUV', 'LVS', 'LW', 'LWAY', 'LXP', 'LXRX', 'LXU', 'LYB', 'LYTS', 'LYV', 'LZB', 'M', 'MA', 'MAA', 'MAC', 'MACK', 'MAN', 'MANH', 'MANT', 'MAR', 'MARA', 'MARK', 'MAS', 'MASI', 'MAT', 'MATW', 'MATX', 'MAYS', 'MBCN', 'MBI', 'MBII', 'MBIN', 'MBIO', 'MBOT', 'MBUU', 'MBWM', 'MC', 'MCB', 'MCBC', 'MCD', 'MCF', 'MCFT', 'MCHP', 'MCHX', 'MCK', 'MCO', 'MCRB', 'MCRI', 'MCS', 'MCY', 'MD', 'MDB', 'MDC', 'MDGL', 'MDLY', 'MDLZ', 'MDP', 'MDRX', 'MDT', 'MDU', 'MED', 'MEDP', 'MEI', 'MEIP', 'MERC', 'MET', 'MFA', 'MFNC', 'MG', 'MGEE', 'MGI', 'MGLN', 'MGM', 'MGNX', 'MGPI', 'MGRC', 'MGY', 'MGYR', 'MHH', 'MHK', 'MHLD', 'MHO', 'MIC', 'MICR', 'MICT', 'MIDD', 'MIND', 'MITK', 'MITT', 'MKC', 'MKL', 'MKSI', 'MKTX', 'MLAB', 'MLHR', 'MLI', 'MLM', 'MLND', 'MLP', 'MLR', 'MLSS', 'MLVF', 'MMAC', 'MMC', 'MMI', 'MMM', 'MMS', 'MMSI', 'MN', 'MNKD', 'MNOV', 'MNR', 'MNRO', 'MNST', 'MNTX', 'MO', 'MOBL', 'MOD', 'MODN', 'MOFG', 'MOH', 'MORN', 'MOS', 'MOSY', 'MOV', 'MPAA', 'MPB', 'MPC', 'MPW', 'MPWR', 'MPX', 'MRAM', 'MRC', 'MRCY', 'MRIN', 'MRK', 'MRKR', 'MRLN', 'MRNA', 'MRNS', 'MRO', 'MRSN', 'MRTN', 'MRTX', 'MRVL', 'MS', 'MSA', 'MSBI', 'MSCI', 'MSEX', 'MSFT', 'MSGN', 'MSI', 'MSM', 'MSN', 'MSON', 'MSTR', 'MTB', 'MTCH', 'MTD', 'MTDR', 'MTEM', 'MTEX', 'MTG', 'MTH', 'MTN', 'MTNB', 'MTOR', 'MTRN', 'MTRX', 'MTSI', 'MTW', 'MTX', 'MTZ', 'MU', 'MUR', 'MUSA', 'MUX', 'MVBF', 'MVIS', 'MWA', 'MXIM', 'MXL', 'MYE', 'MYGN', 'MYRG', 'NAII', 'NATH', 'NATI', 'NATR', 'NAV', 'NAVB', 'NAVI', 'NBEV', 'NBHC', 'NBIX', 'NBN', 'NBR', 'NBTB', 'NBY', 'NC', 'NCBS', 'NCLH', 'NCMI', 'NCR', 'NCSM', 'NDAQ', 'NDLS', 'NDSN', 'NEE', 'NEM', 'NEO', 'NEOG', 'NEON', 'NERV', 'NETE', 'NEU', 'NEWR', 'NFBK', 'NFG', 'NFLX', 'NGS', 'NGVC', 'NGVT', 'NHC', 'NHI', 'NHTC', 'NI', 'NICK', 'NJR', 'NKE', 'NKSH', 'NKTR', 'NL', 'NLOK', 'NLS', 'NLSN', 'NLY', 'NMIH', 'NMRK', 'NNBR', 'NNI', 'NNN', 'NNVC', 'NOC', 'NODK', 'NOG', 'NOV', 'NOVT', 'NOW', 'NP', 'NPK', 'NPO', 'NPTN', 'NR', 'NRC', 'NRG', 'NRIM', 'NRZ', 'NSA', 'NSC', 'NSEC', 'NSIT', 'NSP', 'NSSC', 'NSTG', 'NTAP', 'NTCT', 'NTGR', 'NTIC', 'NTIP', 'NTLA', 'NTNX', 'NTRA', 'NTRS', 'NTWK', 'NUAN', 'NUE', 'NURO', 'NUS', 'NUVA', 'NVAX', 'NVDA', 'NVEC', 'NVEE', 'NVFY', 'NVIV', 'NVR', 'NVRO', 'NVTA', 'NWBI', 'NWE', 'NWFL', 'NWHM', 'NWL', 'NWLI', 'NWN', 'NWPX', 'NWS', 'NWSA', 'NX', 'NXGN', 'NXPI', 'NXRT', 'NXST', 'NXTD', 'NYCB', 'NYMT', 'NYT', 'O', 'OAS', 'OBCI', 'OC', 'OCC', 'OCFC', 'OCN', 'OCUL', 'OCX', 'ODC', 'ODFL', 'ODP', 'ODT', 'OESX', 'OFC', 'OFED', 'OFG', 'OFIX', 'OFLX', 'OGE', 'OGEN', 'OGS', 'OHI', 'OI', 'OII', 'OIS', 'OKE', 'OKTA', 'OLED', 'OLLI', 'OLN', 'OLP', 'OMC', 'OMCL', 'OMER', 'OMEX', 'OMF', 'OMI', 'ON', 'ONB', 'ONCS', 'ONTX', 'ONVO', 'OOMA', 'OPGN', 'OPI', 'OPK', 'OPOF', 'OPRX', 'OPTN', 'OPTT', 'OPY', 'ORA', 'ORBC', 'ORC', 'ORCL', 'ORGO', 'ORI', 'ORLY', 'ORN', 'ORRF', 'OSBC', 'OSG', 'OSIS', 'OSK', 'OSPN', 'OSTK', 'OSUR', 'OTIC', 'OTIS', 'OTTR', 'OUT', 'OVBC', 'OVLY', 'OXM', 'OXY', 'OZK', 'PACB', 'PACW', 'PAG', 'PAHC', 'PANL', 'PANW', 'PAR', 'PARR', 'PATI', 'PATK', 'PAYC', 'PAYX', 'PB', 'PBCT', 'PBF', 'PBH', 'PBHC', 'PBI', 'PBIP', 'PBPB', 'PBYI', 'PCAR', 'PCH', 'PCRX', 'PCSB', 'PCTI', 'PCTY', 'PCYG', 'PCYO', 'PDCE', 'PDCO', 'PDEX', 'PDFS', 'PDLB', 'PDM', 'PEAK', 'PEB', 'PEBK', 'PEBO', 'PED', 'PEG', 'PEGA', 'PEI', 'PEN', 'PENN', 'PEP', 'PESI', 'PETQ', 'PETS', 'PFBC', 'PFBI', 'PFE', 'PFG', 'PFGC', 'PFIE', 'PFIN', 'PFIS', 'PFMT', 'PFPT', 'PFS', 'PFSW', 'PG', 'PGC', 'PGR', 'PGRE', 'PGTI', 'PH', 'PHIO', 'PHM', 'PHX', 'PI', 'PII', 'PINC', 'PJT', 'PK', 'PKBK', 'PKE', 'PKG', 'PKI', 'PKOH', 'PLAB', 'PLAY', 'PLBC', 'PLCE', 'PLD', 'PLNT', 'PLOW', 'PLPC', 'PLSE', 'PLUG', 'PLUS', 'PLXP', 'PLXS', 'PLYA', 'PLYM', 'PM', 'PMBC', 'PMD', 'PMT', 'PMTS', 'PNBK', 'PNC', 'PNFP', 'PNM', 'PNR', 'PNRG', 'PNW', 'PODD', 'POOL', 'POR', 'POST', 'POWI', 'POWL', 'PPBI', 'PPC', 'PPG', 'PPIH', 'PPL', 'PPSI', 'PQG', 'PRA', 'PRAA', 'PRAH', 'PRFT', 'PRGO', 'PRGS', 'PRI', 'PRIM', 'PRK', 'PRLB', 'PRMW', 'PRO', 'PROV', 'PRPH', 'PRTA', 'PRTK', 'PRTS', 'PRTY', 'PRU', 'PSA', 'PSB', 'PSMT', 'PSTG', 'PSX', 'PTC', 'PTCT', 'PTE', 'PTEN', 'PTGX', 'PTN', 'PTSI', 'PULM', 'PUMP', 'PVAC', 'PVBC', 'PVH', 'PW', 'PWOD', 'PWR', 'PXD', 'PXLW', 'PYPL', 'PZG', 'PZN', 'PZZA', 'QADA', 'QADB', 'QCOM', 'QCRH', 'QDEL', 'QLYS', 'QNST', 'QRHC', 'QRTEA', 'QRVO', 'QTRX', 'QTS', 'QTWO', 'QUAD', 'QUIK', 'QUMU', 'QUOT', 'R', 'RAD', 'RAIL', 'RAMP', 'RARE', 'RAVE', 'RAVN', 'RBB', 'RBBN', 'RBC', 'RBCAA', 'RBCN', 'RBNC', 'RC', 'RCII', 'RCKT', 'RCKY', 'RCL', 'RCM', 'RCMT', 'RDFN', 'RDI', 'RDN', 'RDNT', 'RDUS', 'RE', 'REED', 'REFR', 'REG', 'REGI', 'REGN', 'REI', 'RELL', 'RELV', 'REPH', 'RES', 'RESN', 'RETA', 'REV', 'REVG', 'REX', 'REXR', 'RF', 'RFIL', 'RFP', 'RGA', 'RGCO', 'RGEN', 'RGLD', 'RGLS', 'RGNX', 'RGR', 'RGS', 'RH', 'RHE', 'RHI', 'RHP', 'RIBT', 'RICK', 'RIG', 'RIGL', 'RILY', 'RIOT', 'RJF', 'RKDA', 'RL', 'RLGT', 'RLGY', 'RLI', 'RLJ', 'RM', 'RMAX', 'RMBS', 'RMCF', 'RMD', 'RMR', 'RMTI', 'RNDB', 'RNG', 'RNR', 'RNST', 'RNWK', 'ROCK', 'ROG', 'ROIC', 'ROK', 'ROKU', 'ROL', 'ROLL', 'ROP', 'ROST', 'RPAI', 'RPD', 'RPM', 'RPT', 'RRC', 'RRD', 'RRGB', 'RRR', 'RRTS', 'RS', 'RSG', 'RTX', 'RUN', 'RUSHA', 'RUSHB', 'RUTH', 'RVNC', 'RVP', 'RVSB', 'RWT', 'RXN', 'RYAM', 'RYI', 'RYN', 'RYTM', 'SABR', 'SACH', 'SAFE', 'SAFM', 'SAFT', 'SAGE', 'SAH', 'SAIA', 'SAIC', 'SAIL', 'SAL', 'SALM', 'SAM', 'SAMG', 'SANM', 'SANW', 'SASR', 'SATS', 'SAVE', 'SBAC', 'SBCF', 'SBFG', 'SBGI', 'SBH', 'SBNY', 'SBOW', 'SBRA', 'SBSI', 'SBT', 'SBUX', 'SC', 'SCHL', 'SCHN', 'SCHW', 'SCI', 'SCL', 'SCON', 'SCOR', 'SCS', 'SCSC', 'SCVL', 'SCWX', 'SCX', 'SCYX', 'SD', 'SDPI', 'SEAC', 'SEAS', 'SEB', 'SEDG', 'SEE', 'SEIC', 'SELB', 'SELF', 'SEM', 'SENEA', 'SENEB', 'SENS', 'SESN', 'SF', 'SFBC', 'SFBS', 'SFE', 'SFIX', 'SFM', 'SFNC', 'SFST', 'SGA', 'SGC', 'SGEN', 'SGH', 'SGMA', 'SGMO', 'SGMS', 'SGRP', 'SGRY', 'SHAK', 'SHBI', 'SHEN', 'SHO', 'SHOO', 'SHSP', 'SHW', 'SIEB', 'SIEN', 'SIF', 'SIG', 'SIGA', 'SIGI', 'SINT', 'SIRI', 'SITC', 'SITE', 'SIVB', 'SIX', 'SJI', 'SJM', 'SJW', 'SKT', 'SKX', 'SKY', 'SKYW', 'SLAB', 'SLB', 'SLCA', 'SLCT', 'SLG', 'SLGN', 'SLM', 'SLNO', 'SLP', 'SLS', 'SM', 'SMBC', 'SMBK', 'SMED', 'SMG', 'SMIT', 'SMMF', 'SMP', 'SMPL', 'SMSI', 'SMTC', 'SNA', 'SNAP', 'SNBR', 'SNCR', 'SND', 'SNDR', 'SNDX', 'SNFCA', 'SNOA', 'SNPS', 'SNR', 'SNV', 'SNX', 'SO', 'SOHO', 'SOI', 'SON', 'SP', 'SPB', 'SPG', 'SPGI', 'SPKE', 'SPLK', 'SPNE', 'SPOK', 'SPPI', 'SPR', 'SPRO', 'SPRT', 'SPSC', 'SPTN', 'SPWH', 'SPWR', 'SPXC', 'SQ', 'SQBG', 'SR', 'SRC', 'SRCE', 'SRCL', 'SRDX', 'SRE', 'SREV', 'SRG', 'SRI', 'SRNE', 'SRPT', 'SRT', 'SRTS', 'SSB', 'SSBI', 'SSD', 'SSKN', 'SSNC', 'SSP', 'SSTI', 'SSTK', 'ST', 'STAA', 'STAG', 'STAR', 'STBA', 'STC', 'STCN', 'STE', 'STFC', 'STKS', 'STL', 'STLD', 'STMP', 'STOR', 'STRA', 'STRL', 'STRM', 'STRS', 'STRT', 'STT', 'STWD', 'STX', 'STZ', 'SUI', 'SUM', 'SUMR', 'SUNW', 'SUP', 'SUPN', 'SVBI', 'SVRA', 'SVT', 'SWCH', 'SWK', 'SWKS', 'SWM', 'SWN', 'SWX', 'SXC', 'SXI', 'SXT', 'SYBT', 'SYBX', 'SYF', 'SYK', 'SYKE', 'SYN', 'SYNA', 'SYNH', 'SYNL', 'SYPR', 'SYRS', 'SYX', 'SYY', 'T', 'TACO', 'TACT', 'TAIT', 'TAP', 'TAST', 'TAYD', 'TBBK', 'TBI', 'TBK', 'TBNK', 'TBPH', 'TCBI', 'TCBK', 'TCFC', 'TCI', 'TCMD', 'TCON', 'TCS', 'TDC', 'TDG', 'TDOC', 'TDS', 'TDW', 'TDY', 'TECH', 'TEL', 'TELL', 'TEN', 'TENX', 'TER', 'TESS', 'TEUM', 'TEX', 'TFC', 'TFSL', 'TFX', 'TG', 'TGEN', 'TGI', 'TGLS', 'TGNA', 'TGT', 'TGTX', 'THC', 'THFF', 'THG', 'THO', 'THR', 'THRM', 'THS', 'TILE', 'TIPT', 'TISI', 'TITN', 'TJX', 'TKR', 'TLGT', 'TLYS', 'TMHC', 'TMO', 'TMP', 'TMST', 'TMUS', 'TNC', 'TNDM', 'TNET', 'TNXP', 'TOL', 'TOWN', 'TPB', 'TPC', 'TPH', 'TPHS', 'TPIC', 'TPR', 'TPX', 'TR', 'TRC', 'TRCH', 'TREC', 'TREE', 'TREX', 'TRGP', 'TRHC', 'TRIP', 'TRMB', 'TRMK', 'TRN', 'TRNO', 'TRNS', 'TROW', 'TROX', 'TRS', 'TRST', 'TRT', 'TRTN', 'TRTX', 'TRU', 'TRUP', 'TRV', 'TRVN', 'TSBK', 'TSC', 'TSCO', 'TSE', 'TSLA', 'TSN', 'TSQ', 'TT', 'TTC', 'TTD', 'TTEC', 'TTEK', 'TTGT', 'TTI', 'TTMI', 'TTNP', 'TTOO', 'TTWO', 'TUP', 'TUSK', 'TVTY', 'TWI', 'TWIN', 'TWLO', 'TWNK', 'TWO', 'TWOU', 'TWTR', 'TXMD', 'TXN', 'TXRH', 'TXT', 'TYL', 'TYME', 'TZOO', 'UA', 'UAA', 'UAL', 'UAMY', 'UBA', 'UBCP', 'UBFO', 'UBOH', 'UBSI', 'UCBI', 'UCTT', 'UDR', 'UE', 'UEC', 'UEIC', 'UFAB', 'UFCS', 'UFI', 'UFPI', 'UFPT', 'UFS', 'UG', 'UGI', 'UHAL', 'UHS', 'UHT', 'UIHC', 'UIS', 'ULBI', 'ULH', 'ULTA', 'UMBF', 'UMH', 'UMPQ', 'UNAM', 'UNB', 'UNF', 'UNFI', 'UNH', 'UNIT', 'UNM', 'UNP', 'UNTY', 'UNVR', 'UONE', 'UONEK', 'UPLD', 'UPS', 'URBN', 'URI', 'USAK', 'USAP', 'USB', 'USCR', 'USEG', 'USFD', 'USIO', 'USLM', 'USM', 'USNA', 'USPH', 'UTHR', 'UTI', 'UTL', 'UTMD', 'UUU', 'UVE', 'UVSP', 'UVV', 'V', 'VAC', 'VALU', 'VBFC', 'VBIV', 'VBTX', 'VC', 'VCEL', 'VCRA', 'VCYT', 'VEC', 'VECO', 'VEEV', 'VER', 'VERI', 'VERU', 'VFC', 'VG', 'VGR', 'VHC', 'VIAC', 'VIAV', 'VICR', 'VIRC', 'VIRT', 'VISL', 'VIVO', 'VKTX', 'VLGEA', 'VLO', 'VLY', 'VMC', 'VMI', 'VMW', 'VNCE', 'VNDA', 'VNO', 'VNRX', 'VNTR', 'VOXX', 'VOYA', 'VPG', 'VRA', 'VRAY', 'VREX', 'VRNS', 'VRNT', 'VRRM', 'VRS', 'VRSK', 'VRSN', 'VRTS', 'VRTV', 'VRTX', 'VSAT', 'VSEC', 'VSH', 'VST', 'VSTM', 'VSTO', 'VTNR', 'VTR', 'VTRS', 'VTVT', 'VUZI', 'VVI', 'VVV', 'VXRT', 'VYGR', 'VZ', 'W', 'WAB', 'WABC', 'WAFD', 'WAL', 'WASH', 'WAT', 'WATT', 'WBA', 'WBS', 'WBT', 'WCC', 'WD', 'WDAY', 'WDC', 'WDFC', 'WEC', 'WELL', 'WEN', 'WERN', 'WETF', 'WEX', 'WEYS', 'WFC', 'WGO', 'WHG', 'WHLM', 'WHLR', 'WHR', 'WINA', 'WING', 'WIRE', 'WK', 'WKHS', 'WLDN', 'WLFC', 'WLK', 'WLL', 'WLTW', 'WM', 'WMB', 'WMC', 'WMK', 'WMS', 'WMT', 'WNC', 'WNEB', 'WOR', 'WOW', 'WPC', 'WPG', 'WRB', 'WRE', 'WRI', 'WRK', 'WRLD', 'WSBC', 'WSBF', 'WSC', 'WSFS', 'WSM', 'WSO', 'WSR', 'WST', 'WSTG', 'WSTL', 'WTBA', 'WTFC', 'WTI', 'WTM', 'WTRH', 'WTS', 'WTT', 'WTTR', 'WU', 'WVE', 'WVFC', 'WVVI', 'WW', 'WWD', 'WWE', 'WWR', 'WWW', 'WY', 'WYNN', 'WYY', 'X', 'XBIT', 'XEC', 'XEL', 'XELA', 'XELB', 'XENT', 'XFOR', 'XHR', 'XLNX', 'XLRN', 'XNCR', 'XOM', 'XOMA', 'XONE', 'XPER', 'XPL', 'XPO', 'XRAY', 'XRX', 'XSPA', 'XTNT', 'XXII', 'XYL', 'Y', 'YELP', 'YEXT', 'YORW', 'YTEN', 'YUM', 'Z', 'ZBH', 'ZBRA', 'ZDGE', 'ZEN', 'ZEUS', 'ZG', 'ZGNX', 'ZION', 'ZIOP', 'ZIXI', 'ZNGA', 'ZSAN', 'ZTS', 'ZUMZ', 'ZYNE', 'ZYXI']\n"
     ]
    }
   ],
   "source": [
    "files = [x for x in listdir(PATH) if isfile(join(PATH, x))]\n",
    "tickers = [os.path.splitext(x)[0] for x in files]\n",
    "\n",
    "tickers.sort()\n",
    "print(tickers)"
   ]
  },
  {
   "cell_type": "markdown",
   "metadata": {},
   "source": [
    "# Function that Returns a Dataframe from a CSV"
   ]
  },
  {
   "cell_type": "code",
   "execution_count": 4,
   "metadata": {},
   "outputs": [],
   "source": [
    "# Reads a dataframe from the CSV file, changes index to date and returns it\n",
    "def get_df_from_csv(ticker):\n",
    "    # Try to get the file and if it doesn't exist issue a warning\n",
    "    try:\n",
    "        df = pd.read_csv(PATH + ticker + '.csv')\n",
    "    except FileNotFoundError:\n",
    "        print(\"File Doesn't Exist\")\n",
    "    else:\n",
    "        return df\n",
    "    \n",
    "    print(PATH + ticker + '.csv')"
   ]
  },
  {
   "cell_type": "markdown",
   "metadata": {},
   "source": [
    "# Function that Saves Dataframe to CSV"
   ]
  },
  {
   "cell_type": "code",
   "execution_count": 5,
   "metadata": {},
   "outputs": [],
   "source": [
    "def save_dataframe_to_csv(df, ticker):\n",
    "    df.to_csv(PATH + ticker + '.csv')"
   ]
  },
  {
   "cell_type": "markdown",
   "metadata": {},
   "source": [
    "# Return 1st Valid Date in Dataframe"
   ]
  },
  {
   "cell_type": "code",
   "execution_count": 6,
   "metadata": {},
   "outputs": [],
   "source": [
    "# Receives a start and end date and returns the 1st date in that range\n",
    "def get_valid_dates(df, sdate, edate):\n",
    "    try:\n",
    "        mask = (df[\"Date\"] > sdate) & (df[\"Date\"] <= edate)\n",
    "        sm_df = df.loc[mask]\n",
    "        sm_df = sm_df.set_index([\"Date\"])\n",
    "        \n",
    "        # Get smallest date that matches\n",
    "        sm_date = sm_df.index.min()\n",
    "        last_date = sm_df.index.max()\n",
    "        \n",
    "        # Add leading zeros to date\n",
    "        # Split string on - and if a number is less than 2 add a zero in front\n",
    "        date_leading = '-'.join(('0' if len(x)<2 else '')+x for x in sm_date.split('-'))\n",
    "        date_ending = '-'.join(('0' if len(x)<2 else '')+x for x in last_date.split('-'))\n",
    "    except Exception:\n",
    "        print(\"Date Corrupted\")\n",
    "    else:\n",
    "        return date_leading, date_ending"
   ]
  },
  {
   "cell_type": "markdown",
   "metadata": {},
   "source": [
    "# Returns Return on Investment over Time"
   ]
  },
  {
   "cell_type": "code",
   "execution_count": 7,
   "metadata": {},
   "outputs": [],
   "source": [
    "def roi_between_dates(df, sdate, edate):\n",
    "    try:\n",
    "        start_val = df.loc[sdate, \"Adj Close\"]\n",
    "        end_val = df.loc[edate, \"Adj Close\"]\n",
    "        \n",
    "        roi = ((end_val - start_val) / start_val)\n",
    "    except Exception:\n",
    "        print(\"Data Corrupted\")\n",
    "    else:\n",
    "        return roi"
   ]
  },
  {
   "cell_type": "markdown",
   "metadata": {},
   "source": [
    "# Get Mean Between Dates"
   ]
  },
  {
   "cell_type": "code",
   "execution_count": 8,
   "metadata": {},
   "outputs": [],
   "source": [
    "def get_mean_between_dates(df, sdate, edate):\n",
    "    mask = (df[\"Date\"] > sdate) & (df[\"Date\"] <= edate)\n",
    "    \n",
    "    return df.loc[mask][\"Adj Close\"].mean()"
   ]
  },
  {
   "cell_type": "markdown",
   "metadata": {},
   "source": [
    "# Get Standard Deviation Between Dates"
   ]
  },
  {
   "cell_type": "code",
   "execution_count": 9,
   "metadata": {},
   "outputs": [],
   "source": [
    "def get_std_between_dates(df, sdate, edate):\n",
    "    mask = (df[\"Date\"] > sdate) & (df[\"Date\"] <= edate)\n",
    "    \n",
    "    return df.loc[mask][\"Adj Close\"].std()"
   ]
  },
  {
   "cell_type": "markdown",
   "metadata": {},
   "source": [
    "# Get Coefficient of Variation Between Dates"
   ]
  },
  {
   "cell_type": "code",
   "execution_count": 10,
   "metadata": {},
   "outputs": [],
   "source": [
    "def get_cov_between_dates(df, sdate, edate):\n",
    "    mask = (df[\"Date\"] > sdate) & (df[\"Date\"] <= edate)\n",
    "    \n",
    "    mean = df.loc[mask][\"Adj Close\"].mean()\n",
    "    std = df.loc[mask][\"Adj Close\"].std()\n",
    "    \n",
    "    cov = std / mean\n",
    "    return cov"
   ]
  },
  {
   "cell_type": "markdown",
   "metadata": {},
   "source": [
    "# Merge Multiple Stocks in One Dataframe by Column Name"
   ]
  },
  {
   "cell_type": "code",
   "execution_count": 11,
   "metadata": {},
   "outputs": [],
   "source": [
    "def merge_df_by_column_name(col_name, sdate, edate, *tickers):\n",
    "    # Will hold data for all dataframes with the same column name\n",
    "    mult_df = pd.DataFrame()\n",
    "    \n",
    "    for x in tickers:\n",
    "        df = get_df_from_csv(x)\n",
    "        df['Date'] = pd.to_datetime(df['Date'])\n",
    "        # Use a mask to grab data between defined dates\n",
    "        mask = (df['Date'] >= sdate) & (df['Date'] <= edate)\n",
    "        mult_df[x] = df.loc[mask][col_name]\n",
    "        \n",
    "    return mult_df"
   ]
  },
  {
   "cell_type": "markdown",
   "metadata": {},
   "source": [
    "# 11 Stock Market Sectors\n",
    "<b>Technology</b> : Manufacturing of electronics, software, or related to information technology\n",
    "\n",
    "<b>Health Care</b> : Biotech, hospitals, medical devices, drugs\n",
    "\n",
    "<b>Financials</b> : Banks, investment funds, and insurance\n",
    "\n",
    "<b>Real Estate</b> : Residential, industrial, and retail real estate\n",
    "\n",
    "<b>Energy</b> : Production and supply of energy\n",
    "\n",
    "<b>Materials</b> : Mining, refining, chemical, and forestry\n",
    "\n",
    "<b>Consumer Discretionary</b> : Retailers, apparel, media, durables and services\n",
    "\n",
    "<b>Industrials</b> : Construction, machinery, fabrication, manufacturing, defense, and aerospace\n",
    "\n",
    "<b>Utilities</b> : Direct providers of electric, gas, and water\n",
    "\n",
    "<b>Consumer Staples</b> : Food, beverage as well as products consumers deem essential\n",
    "\n",
    "<b>Telecommunication</b> : Cable, internet providers, wireless, and satellite"
   ]
  },
  {
   "cell_type": "markdown",
   "metadata": {},
   "source": [
    "# Get Sector Stocks"
   ]
  },
  {
   "cell_type": "code",
   "execution_count": 12,
   "metadata": {},
   "outputs": [
    {
     "data": {
      "text/html": [
       "<div>\n",
       "<style scoped>\n",
       "    .dataframe tbody tr th:only-of-type {\n",
       "        vertical-align: middle;\n",
       "    }\n",
       "\n",
       "    .dataframe tbody tr th {\n",
       "        vertical-align: top;\n",
       "    }\n",
       "\n",
       "    .dataframe thead th {\n",
       "        text-align: right;\n",
       "    }\n",
       "</style>\n",
       "<table border=\"1\" class=\"dataframe\">\n",
       "  <thead>\n",
       "    <tr style=\"text-align: right;\">\n",
       "      <th></th>\n",
       "      <th>Symbol</th>\n",
       "      <th>Name</th>\n",
       "      <th>Sector</th>\n",
       "    </tr>\n",
       "  </thead>\n",
       "  <tbody>\n",
       "    <tr>\n",
       "      <th>0</th>\n",
       "      <td>MMM</td>\n",
       "      <td>3M</td>\n",
       "      <td>Industrials</td>\n",
       "    </tr>\n",
       "    <tr>\n",
       "      <th>1</th>\n",
       "      <td>AOS</td>\n",
       "      <td>A. O. Smith</td>\n",
       "      <td>Industrials</td>\n",
       "    </tr>\n",
       "    <tr>\n",
       "      <th>2</th>\n",
       "      <td>ABT</td>\n",
       "      <td>Abbott Laboratories</td>\n",
       "      <td>Health Care</td>\n",
       "    </tr>\n",
       "    <tr>\n",
       "      <th>3</th>\n",
       "      <td>ABBV</td>\n",
       "      <td>AbbVie</td>\n",
       "      <td>Health Care</td>\n",
       "    </tr>\n",
       "    <tr>\n",
       "      <th>4</th>\n",
       "      <td>ABMD</td>\n",
       "      <td>Abiomed</td>\n",
       "      <td>Health Care</td>\n",
       "    </tr>\n",
       "    <tr>\n",
       "      <th>...</th>\n",
       "      <td>...</td>\n",
       "      <td>...</td>\n",
       "      <td>...</td>\n",
       "    </tr>\n",
       "    <tr>\n",
       "      <th>500</th>\n",
       "      <td>YUM</td>\n",
       "      <td>Yum! Brands</td>\n",
       "      <td>Consumer Discretionary</td>\n",
       "    </tr>\n",
       "    <tr>\n",
       "      <th>501</th>\n",
       "      <td>ZBRA</td>\n",
       "      <td>Zebra Technologies</td>\n",
       "      <td>Information Technology</td>\n",
       "    </tr>\n",
       "    <tr>\n",
       "      <th>502</th>\n",
       "      <td>ZBH</td>\n",
       "      <td>Zimmer Biomet</td>\n",
       "      <td>Health Care</td>\n",
       "    </tr>\n",
       "    <tr>\n",
       "      <th>503</th>\n",
       "      <td>ZION</td>\n",
       "      <td>Zions Bancorp</td>\n",
       "      <td>Financials</td>\n",
       "    </tr>\n",
       "    <tr>\n",
       "      <th>504</th>\n",
       "      <td>ZTS</td>\n",
       "      <td>Zoetis</td>\n",
       "      <td>Health Care</td>\n",
       "    </tr>\n",
       "  </tbody>\n",
       "</table>\n",
       "<p>505 rows × 3 columns</p>\n",
       "</div>"
      ],
      "text/plain": [
       "    Symbol                 Name                  Sector\n",
       "0      MMM                   3M             Industrials\n",
       "1      AOS          A. O. Smith             Industrials\n",
       "2      ABT  Abbott Laboratories             Health Care\n",
       "3     ABBV               AbbVie             Health Care\n",
       "4     ABMD              Abiomed             Health Care\n",
       "..     ...                  ...                     ...\n",
       "500    YUM          Yum! Brands  Consumer Discretionary\n",
       "501   ZBRA   Zebra Technologies  Information Technology\n",
       "502    ZBH        Zimmer Biomet             Health Care\n",
       "503   ZION        Zions Bancorp              Financials\n",
       "504    ZTS               Zoetis             Health Care\n",
       "\n",
       "[505 rows x 3 columns]"
      ]
     },
     "execution_count": 12,
     "metadata": {},
     "output_type": "execute_result"
    }
   ],
   "source": [
    "sec_df = pd.read_csv('./stock_sectors.csv')\n",
    "sec_df"
   ]
  },
  {
   "cell_type": "code",
   "execution_count": 13,
   "metadata": {},
   "outputs": [],
   "source": [
    "# Get Industrials DF\n",
    "indus_df = sec_df.loc[sec_df['Sector'] == \"Industrials\"]\n",
    "health_df = sec_df.loc[sec_df['Sector'] == \"Health Care\"]\n",
    "it_df = sec_df.loc[sec_df['Sector'] == \"Information Technology\"]\n",
    "comm_df = sec_df.loc[sec_df['Sector'] == \"Communication Services\"]\n",
    "staple_df = sec_df.loc[sec_df['Sector'] == \"Consumer Staples\"]\n",
    "discretion_df = sec_df.loc[sec_df['Sector'] == \"Consumer Discretionary\"]\n",
    "utility_df = sec_df.loc[sec_df['Sector'] == \"Utilities\"]\n",
    "financial_df = sec_df.loc[sec_df['Sector'] == \"Financials\"]\n",
    "material_df = sec_df.loc[sec_df['Sector'] == \"Materials\"]\n",
    "restate_df = sec_df.loc[sec_df['Sector'] == \"Real Estate\"]\n",
    "energy_df = sec_df.loc[sec_df['Sector'] == \"Energy\"]"
   ]
  },
  {
   "cell_type": "markdown",
   "metadata": {},
   "source": [
    "# Returns a DF with ROIs for all Stock"
   ]
  },
  {
   "cell_type": "code",
   "execution_count": 14,
   "metadata": {},
   "outputs": [],
   "source": [
    "def get_rois_for_stocks(stock_df):\n",
    "    # Will hold all tickers & stock rois\n",
    "    tickers = []\n",
    "    rois = []\n",
    "    \n",
    "    # iterrows provides the index and column for each row in the DF\n",
    "    for index, row in stock_df.iterrows():\n",
    "        df = get_df_from_csv(row[\"Symbol\"])\n",
    "        \n",
    "        # If we can't find the ticker delete it from the dataframe\n",
    "        if df is None:\n",
    "            pass\n",
    "            # print(row['Symbol'], \" is not available\")\n",
    "        else:\n",
    "            tickers.append(row[\"Symbol\"])\n",
    "            sdate, edate = get_valid_dates(df, \"2018-01-01\", \"2020-12-31\")\n",
    "            df = df.set_index([\"Date\"])\n",
    "            roi = roi_between_dates(df, sdate, edate)\n",
    "            rois.append(roi)\n",
    "            \n",
    "    return pd.DataFrame({\"Ticker\": tickers, \"ROI\": rois}) "
   ]
  },
  {
   "cell_type": "code",
   "execution_count": 15,
   "metadata": {},
   "outputs": [
    {
     "name": "stdout",
     "output_type": "stream",
     "text": [
      "File Doesn't Exist\n",
      "./Stocks/OGN.csv\n"
     ]
    }
   ],
   "source": [
    "industrial = get_rois_for_stocks(indus_df)\n",
    "health_care = get_rois_for_stocks(health_df)\n",
    "it = get_rois_for_stocks(it_df)\n",
    "commun = get_rois_for_stocks(comm_df)\n",
    "staple = get_rois_for_stocks(staple_df)\n",
    "discretion = get_rois_for_stocks(discretion_df)\n",
    "utility = get_rois_for_stocks(utility_df)\n",
    "finance = get_rois_for_stocks(financial_df)\n",
    "material = get_rois_for_stocks(material_df)\n",
    "restate = get_rois_for_stocks(restate_df)\n",
    "energy = get_rois_for_stocks(energy_df)"
   ]
  },
  {
   "cell_type": "markdown",
   "metadata": {},
   "source": [
    "# Top Industrials"
   ]
  },
  {
   "cell_type": "code",
   "execution_count": 16,
   "metadata": {},
   "outputs": [
    {
     "data": {
      "text/html": [
       "<div>\n",
       "<style scoped>\n",
       "    .dataframe tbody tr th:only-of-type {\n",
       "        vertical-align: middle;\n",
       "    }\n",
       "\n",
       "    .dataframe tbody tr th {\n",
       "        vertical-align: top;\n",
       "    }\n",
       "\n",
       "    .dataframe thead th {\n",
       "        text-align: right;\n",
       "    }\n",
       "</style>\n",
       "<table border=\"1\" class=\"dataframe\">\n",
       "  <thead>\n",
       "    <tr style=\"text-align: right;\">\n",
       "      <th></th>\n",
       "      <th>Ticker</th>\n",
       "      <th>ROI</th>\n",
       "    </tr>\n",
       "  </thead>\n",
       "  <tbody>\n",
       "    <tr>\n",
       "      <th>25</th>\n",
       "      <td>GNRC</td>\n",
       "      <td>3.734749</td>\n",
       "    </tr>\n",
       "    <tr>\n",
       "      <th>8</th>\n",
       "      <td>CARR</td>\n",
       "      <td>2.172381</td>\n",
       "    </tr>\n",
       "    <tr>\n",
       "      <th>11</th>\n",
       "      <td>CPRT</td>\n",
       "      <td>1.918578</td>\n",
       "    </tr>\n",
       "    <tr>\n",
       "      <th>64</th>\n",
       "      <td>TDG</td>\n",
       "      <td>1.518984</td>\n",
       "    </tr>\n",
       "    <tr>\n",
       "      <th>10</th>\n",
       "      <td>CTAS</td>\n",
       "      <td>1.325593</td>\n",
       "    </tr>\n",
       "  </tbody>\n",
       "</table>\n",
       "</div>"
      ],
      "text/plain": [
       "   Ticker       ROI\n",
       "25   GNRC  3.734749\n",
       "8    CARR  2.172381\n",
       "11   CPRT  1.918578\n",
       "64    TDG  1.518984\n",
       "10   CTAS  1.325593"
      ]
     },
     "execution_count": 16,
     "metadata": {},
     "output_type": "execute_result"
    }
   ],
   "source": [
    "industrial.sort_values(by=\"ROI\", ascending=False).head(5)"
   ]
  },
  {
   "cell_type": "markdown",
   "metadata": {},
   "source": [
    "# Top Healthcare"
   ]
  },
  {
   "cell_type": "code",
   "execution_count": 17,
   "metadata": {},
   "outputs": [
    {
     "data": {
      "text/html": [
       "<div>\n",
       "<style scoped>\n",
       "    .dataframe tbody tr th:only-of-type {\n",
       "        vertical-align: middle;\n",
       "    }\n",
       "\n",
       "    .dataframe tbody tr th {\n",
       "        vertical-align: top;\n",
       "    }\n",
       "\n",
       "    .dataframe thead th {\n",
       "        text-align: right;\n",
       "    }\n",
       "</style>\n",
       "<table border=\"1\" class=\"dataframe\">\n",
       "  <thead>\n",
       "    <tr style=\"text-align: right;\">\n",
       "      <th></th>\n",
       "      <th>Ticker</th>\n",
       "      <th>ROI</th>\n",
       "    </tr>\n",
       "  </thead>\n",
       "  <tbody>\n",
       "    <tr>\n",
       "      <th>25</th>\n",
       "      <td>DXCM</td>\n",
       "      <td>5.375582</td>\n",
       "    </tr>\n",
       "    <tr>\n",
       "      <th>44</th>\n",
       "      <td>MRNA</td>\n",
       "      <td>4.616667</td>\n",
       "    </tr>\n",
       "    <tr>\n",
       "      <th>33</th>\n",
       "      <td>IDXX</td>\n",
       "      <td>2.167543</td>\n",
       "    </tr>\n",
       "    <tr>\n",
       "      <th>61</th>\n",
       "      <td>WST</td>\n",
       "      <td>1.887307</td>\n",
       "    </tr>\n",
       "    <tr>\n",
       "      <th>50</th>\n",
       "      <td>RMD</td>\n",
       "      <td>1.575014</td>\n",
       "    </tr>\n",
       "  </tbody>\n",
       "</table>\n",
       "</div>"
      ],
      "text/plain": [
       "   Ticker       ROI\n",
       "25   DXCM  5.375582\n",
       "44   MRNA  4.616667\n",
       "33   IDXX  2.167543\n",
       "61    WST  1.887307\n",
       "50    RMD  1.575014"
      ]
     },
     "execution_count": 17,
     "metadata": {},
     "output_type": "execute_result"
    }
   ],
   "source": [
    "health_care.sort_values(by=['ROI'], ascending=False).head(5)"
   ]
  },
  {
   "cell_type": "markdown",
   "metadata": {},
   "source": [
    "# Top Information Tech"
   ]
  },
  {
   "cell_type": "code",
   "execution_count": 18,
   "metadata": {},
   "outputs": [
    {
     "data": {
      "text/html": [
       "<div>\n",
       "<style scoped>\n",
       "    .dataframe tbody tr th:only-of-type {\n",
       "        vertical-align: middle;\n",
       "    }\n",
       "\n",
       "    .dataframe tbody tr th {\n",
       "        vertical-align: top;\n",
       "    }\n",
       "\n",
       "    .dataframe thead th {\n",
       "        text-align: right;\n",
       "    }\n",
       "</style>\n",
       "<table border=\"1\" class=\"dataframe\">\n",
       "  <thead>\n",
       "    <tr style=\"text-align: right;\">\n",
       "      <th></th>\n",
       "      <th>Ticker</th>\n",
       "      <th>ROI</th>\n",
       "    </tr>\n",
       "  </thead>\n",
       "  <tbody>\n",
       "    <tr>\n",
       "      <th>21</th>\n",
       "      <td>ENPH</td>\n",
       "      <td>66.488464</td>\n",
       "    </tr>\n",
       "    <tr>\n",
       "      <th>2</th>\n",
       "      <td>AMD</td>\n",
       "      <td>7.352459</td>\n",
       "    </tr>\n",
       "    <tr>\n",
       "      <th>52</th>\n",
       "      <td>PAYC</td>\n",
       "      <td>4.622203</td>\n",
       "    </tr>\n",
       "    <tr>\n",
       "      <th>59</th>\n",
       "      <td>NOW</td>\n",
       "      <td>3.178471</td>\n",
       "    </tr>\n",
       "    <tr>\n",
       "      <th>72</th>\n",
       "      <td>ZBRA</td>\n",
       "      <td>2.705814</td>\n",
       "    </tr>\n",
       "  </tbody>\n",
       "</table>\n",
       "</div>"
      ],
      "text/plain": [
       "   Ticker        ROI\n",
       "21   ENPH  66.488464\n",
       "2     AMD   7.352459\n",
       "52   PAYC   4.622203\n",
       "59    NOW   3.178471\n",
       "72   ZBRA   2.705814"
      ]
     },
     "execution_count": 18,
     "metadata": {},
     "output_type": "execute_result"
    }
   ],
   "source": [
    "it.sort_values(by=['ROI'], ascending=False).head(5)"
   ]
  },
  {
   "cell_type": "markdown",
   "metadata": {},
   "source": [
    "# Top Communications"
   ]
  },
  {
   "cell_type": "code",
   "execution_count": 19,
   "metadata": {},
   "outputs": [
    {
     "data": {
      "text/html": [
       "<div>\n",
       "<style scoped>\n",
       "    .dataframe tbody tr th:only-of-type {\n",
       "        vertical-align: middle;\n",
       "    }\n",
       "\n",
       "    .dataframe tbody tr th {\n",
       "        vertical-align: top;\n",
       "    }\n",
       "\n",
       "    .dataframe thead th {\n",
       "        text-align: right;\n",
       "    }\n",
       "</style>\n",
       "<table border=\"1\" class=\"dataframe\">\n",
       "  <thead>\n",
       "    <tr style=\"text-align: right;\">\n",
       "      <th></th>\n",
       "      <th>Ticker</th>\n",
       "      <th>ROI</th>\n",
       "    </tr>\n",
       "  </thead>\n",
       "  <tbody>\n",
       "    <tr>\n",
       "      <th>16</th>\n",
       "      <td>NFLX</td>\n",
       "      <td>1.689262</td>\n",
       "    </tr>\n",
       "    <tr>\n",
       "      <th>23</th>\n",
       "      <td>TWTR</td>\n",
       "      <td>1.209302</td>\n",
       "    </tr>\n",
       "    <tr>\n",
       "      <th>20</th>\n",
       "      <td>TMUS</td>\n",
       "      <td>1.105715</td>\n",
       "    </tr>\n",
       "    <tr>\n",
       "      <th>4</th>\n",
       "      <td>CHTR</td>\n",
       "      <td>0.895722</td>\n",
       "    </tr>\n",
       "    <tr>\n",
       "      <th>21</th>\n",
       "      <td>TTWO</td>\n",
       "      <td>0.840804</td>\n",
       "    </tr>\n",
       "    <tr>\n",
       "      <th>14</th>\n",
       "      <td>LYV</td>\n",
       "      <td>0.722861</td>\n",
       "    </tr>\n",
       "    <tr>\n",
       "      <th>22</th>\n",
       "      <td>DIS</td>\n",
       "      <td>0.666390</td>\n",
       "    </tr>\n",
       "    <tr>\n",
       "      <th>2</th>\n",
       "      <td>GOOG</td>\n",
       "      <td>0.644958</td>\n",
       "    </tr>\n",
       "    <tr>\n",
       "      <th>1</th>\n",
       "      <td>GOOGL</td>\n",
       "      <td>0.633082</td>\n",
       "    </tr>\n",
       "    <tr>\n",
       "      <th>10</th>\n",
       "      <td>FB</td>\n",
       "      <td>0.505677</td>\n",
       "    </tr>\n",
       "    <tr>\n",
       "      <th>0</th>\n",
       "      <td>ATVI</td>\n",
       "      <td>0.472510</td>\n",
       "    </tr>\n",
       "    <tr>\n",
       "      <th>5</th>\n",
       "      <td>CMCSA</td>\n",
       "      <td>0.353947</td>\n",
       "    </tr>\n",
       "    <tr>\n",
       "      <th>13</th>\n",
       "      <td>IPG</td>\n",
       "      <td>0.324076</td>\n",
       "    </tr>\n",
       "    <tr>\n",
       "      <th>9</th>\n",
       "      <td>EA</td>\n",
       "      <td>0.313763</td>\n",
       "    </tr>\n",
       "    <tr>\n",
       "      <th>6</th>\n",
       "      <td>DISCA</td>\n",
       "      <td>0.302034</td>\n",
       "    </tr>\n",
       "    <tr>\n",
       "      <th>24</th>\n",
       "      <td>VZ</td>\n",
       "      <td>0.250683</td>\n",
       "    </tr>\n",
       "    <tr>\n",
       "      <th>7</th>\n",
       "      <td>DISCK</td>\n",
       "      <td>0.199725</td>\n",
       "    </tr>\n",
       "    <tr>\n",
       "      <th>17</th>\n",
       "      <td>NWSA</td>\n",
       "      <td>0.144258</td>\n",
       "    </tr>\n",
       "    <tr>\n",
       "      <th>18</th>\n",
       "      <td>NWS</td>\n",
       "      <td>0.105516</td>\n",
       "    </tr>\n",
       "    <tr>\n",
       "      <th>19</th>\n",
       "      <td>OMC</td>\n",
       "      <td>-0.043219</td>\n",
       "    </tr>\n",
       "  </tbody>\n",
       "</table>\n",
       "</div>"
      ],
      "text/plain": [
       "   Ticker       ROI\n",
       "16   NFLX  1.689262\n",
       "23   TWTR  1.209302\n",
       "20   TMUS  1.105715\n",
       "4    CHTR  0.895722\n",
       "21   TTWO  0.840804\n",
       "14    LYV  0.722861\n",
       "22    DIS  0.666390\n",
       "2    GOOG  0.644958\n",
       "1   GOOGL  0.633082\n",
       "10     FB  0.505677\n",
       "0    ATVI  0.472510\n",
       "5   CMCSA  0.353947\n",
       "13    IPG  0.324076\n",
       "9      EA  0.313763\n",
       "6   DISCA  0.302034\n",
       "24     VZ  0.250683\n",
       "7   DISCK  0.199725\n",
       "17   NWSA  0.144258\n",
       "18    NWS  0.105516\n",
       "19    OMC -0.043219"
      ]
     },
     "execution_count": 19,
     "metadata": {},
     "output_type": "execute_result"
    }
   ],
   "source": [
    "commun.sort_values(by=['ROI'], ascending=False).head(20)"
   ]
  },
  {
   "cell_type": "markdown",
   "metadata": {},
   "source": [
    "# Top Staples"
   ]
  },
  {
   "cell_type": "code",
   "execution_count": 20,
   "metadata": {},
   "outputs": [
    {
     "data": {
      "text/html": [
       "<div>\n",
       "<style scoped>\n",
       "    .dataframe tbody tr th:only-of-type {\n",
       "        vertical-align: middle;\n",
       "    }\n",
       "\n",
       "    .dataframe tbody tr th {\n",
       "        vertical-align: top;\n",
       "    }\n",
       "\n",
       "    .dataframe thead th {\n",
       "        text-align: right;\n",
       "    }\n",
       "</style>\n",
       "<table border=\"1\" class=\"dataframe\">\n",
       "  <thead>\n",
       "    <tr style=\"text-align: right;\">\n",
       "      <th></th>\n",
       "      <th>Ticker</th>\n",
       "      <th>ROI</th>\n",
       "    </tr>\n",
       "  </thead>\n",
       "  <tbody>\n",
       "    <tr>\n",
       "      <th>11</th>\n",
       "      <td>EL</td>\n",
       "      <td>1.145196</td>\n",
       "    </tr>\n",
       "    <tr>\n",
       "      <th>10</th>\n",
       "      <td>COST</td>\n",
       "      <td>1.112863</td>\n",
       "    </tr>\n",
       "    <tr>\n",
       "      <th>20</th>\n",
       "      <td>MKC</td>\n",
       "      <td>0.977708</td>\n",
       "    </tr>\n",
       "    <tr>\n",
       "      <th>4</th>\n",
       "      <td>CHD</td>\n",
       "      <td>0.838448</td>\n",
       "    </tr>\n",
       "    <tr>\n",
       "      <th>26</th>\n",
       "      <td>PG</td>\n",
       "      <td>0.674050</td>\n",
       "    </tr>\n",
       "  </tbody>\n",
       "</table>\n",
       "</div>"
      ],
      "text/plain": [
       "   Ticker       ROI\n",
       "11     EL  1.145196\n",
       "10   COST  1.112863\n",
       "20    MKC  0.977708\n",
       "4     CHD  0.838448\n",
       "26     PG  0.674050"
      ]
     },
     "execution_count": 20,
     "metadata": {},
     "output_type": "execute_result"
    }
   ],
   "source": [
    "staple.sort_values(by=['ROI'], ascending=False).head(5)"
   ]
  },
  {
   "cell_type": "markdown",
   "metadata": {},
   "source": [
    "# Top Discretionary"
   ]
  },
  {
   "cell_type": "code",
   "execution_count": 21,
   "metadata": {},
   "outputs": [
    {
     "data": {
      "text/html": [
       "<div>\n",
       "<style scoped>\n",
       "    .dataframe tbody tr th:only-of-type {\n",
       "        vertical-align: middle;\n",
       "    }\n",
       "\n",
       "    .dataframe tbody tr th {\n",
       "        vertical-align: top;\n",
       "    }\n",
       "\n",
       "    .dataframe thead th {\n",
       "        text-align: right;\n",
       "    }\n",
       "</style>\n",
       "<table border=\"1\" class=\"dataframe\">\n",
       "  <thead>\n",
       "    <tr style=\"text-align: right;\">\n",
       "      <th></th>\n",
       "      <th>Ticker</th>\n",
       "      <th>ROI</th>\n",
       "    </tr>\n",
       "  </thead>\n",
       "  <tbody>\n",
       "    <tr>\n",
       "      <th>53</th>\n",
       "      <td>TSLA</td>\n",
       "      <td>10.007861</td>\n",
       "    </tr>\n",
       "    <tr>\n",
       "      <th>18</th>\n",
       "      <td>ETSY</td>\n",
       "      <td>7.541047</td>\n",
       "    </tr>\n",
       "    <tr>\n",
       "      <th>11</th>\n",
       "      <td>CMG</td>\n",
       "      <td>3.733606</td>\n",
       "    </tr>\n",
       "    <tr>\n",
       "      <th>44</th>\n",
       "      <td>POOL</td>\n",
       "      <td>1.931030</td>\n",
       "    </tr>\n",
       "    <tr>\n",
       "      <th>52</th>\n",
       "      <td>TGT</td>\n",
       "      <td>1.839621</td>\n",
       "    </tr>\n",
       "  </tbody>\n",
       "</table>\n",
       "</div>"
      ],
      "text/plain": [
       "   Ticker        ROI\n",
       "53   TSLA  10.007861\n",
       "18   ETSY   7.541047\n",
       "11    CMG   3.733606\n",
       "44   POOL   1.931030\n",
       "52    TGT   1.839621"
      ]
     },
     "execution_count": 21,
     "metadata": {},
     "output_type": "execute_result"
    }
   ],
   "source": [
    "discretion.sort_values(by=['ROI'], ascending=False).head(5)"
   ]
  },
  {
   "cell_type": "markdown",
   "metadata": {},
   "source": [
    "# Top Utilities"
   ]
  },
  {
   "cell_type": "code",
   "execution_count": 22,
   "metadata": {},
   "outputs": [
    {
     "data": {
      "text/html": [
       "<div>\n",
       "<style scoped>\n",
       "    .dataframe tbody tr th:only-of-type {\n",
       "        vertical-align: middle;\n",
       "    }\n",
       "\n",
       "    .dataframe tbody tr th {\n",
       "        vertical-align: top;\n",
       "    }\n",
       "\n",
       "    .dataframe thead th {\n",
       "        text-align: right;\n",
       "    }\n",
       "</style>\n",
       "<table border=\"1\" class=\"dataframe\">\n",
       "  <thead>\n",
       "    <tr style=\"text-align: right;\">\n",
       "      <th></th>\n",
       "      <th>Ticker</th>\n",
       "      <th>ROI</th>\n",
       "    </tr>\n",
       "  </thead>\n",
       "  <tbody>\n",
       "    <tr>\n",
       "      <th>0</th>\n",
       "      <td>AES</td>\n",
       "      <td>1.402997</td>\n",
       "    </tr>\n",
       "    <tr>\n",
       "      <th>18</th>\n",
       "      <td>NEE</td>\n",
       "      <td>1.136332</td>\n",
       "    </tr>\n",
       "    <tr>\n",
       "      <th>4</th>\n",
       "      <td>AWK</td>\n",
       "      <td>0.819223</td>\n",
       "    </tr>\n",
       "    <tr>\n",
       "      <th>26</th>\n",
       "      <td>WEC</td>\n",
       "      <td>0.530405</td>\n",
       "    </tr>\n",
       "    <tr>\n",
       "      <th>27</th>\n",
       "      <td>XEL</td>\n",
       "      <td>0.519897</td>\n",
       "    </tr>\n",
       "  </tbody>\n",
       "</table>\n",
       "</div>"
      ],
      "text/plain": [
       "   Ticker       ROI\n",
       "0     AES  1.402997\n",
       "18    NEE  1.136332\n",
       "4     AWK  0.819223\n",
       "26    WEC  0.530405\n",
       "27    XEL  0.519897"
      ]
     },
     "execution_count": 22,
     "metadata": {},
     "output_type": "execute_result"
    }
   ],
   "source": [
    "utility.sort_values(by=['ROI'], ascending=False).head(5)"
   ]
  },
  {
   "cell_type": "markdown",
   "metadata": {},
   "source": [
    "# Top Finance"
   ]
  },
  {
   "cell_type": "code",
   "execution_count": 23,
   "metadata": {},
   "outputs": [
    {
     "data": {
      "text/html": [
       "<div>\n",
       "<style scoped>\n",
       "    .dataframe tbody tr th:only-of-type {\n",
       "        vertical-align: middle;\n",
       "    }\n",
       "\n",
       "    .dataframe tbody tr th {\n",
       "        vertical-align: top;\n",
       "    }\n",
       "\n",
       "    .dataframe thead th {\n",
       "        text-align: right;\n",
       "    }\n",
       "</style>\n",
       "<table border=\"1\" class=\"dataframe\">\n",
       "  <thead>\n",
       "    <tr style=\"text-align: right;\">\n",
       "      <th></th>\n",
       "      <th>Ticker</th>\n",
       "      <th>ROI</th>\n",
       "    </tr>\n",
       "  </thead>\n",
       "  <tbody>\n",
       "    <tr>\n",
       "      <th>41</th>\n",
       "      <td>MSCI</td>\n",
       "      <td>2.612068</td>\n",
       "    </tr>\n",
       "    <tr>\n",
       "      <th>36</th>\n",
       "      <td>MKTX</td>\n",
       "      <td>1.860333</td>\n",
       "    </tr>\n",
       "    <tr>\n",
       "      <th>6</th>\n",
       "      <td>AJG</td>\n",
       "      <td>1.112315</td>\n",
       "    </tr>\n",
       "    <tr>\n",
       "      <th>39</th>\n",
       "      <td>MCO</td>\n",
       "      <td>1.044882</td>\n",
       "    </tr>\n",
       "    <tr>\n",
       "      <th>51</th>\n",
       "      <td>SPGI</td>\n",
       "      <td>1.012123</td>\n",
       "    </tr>\n",
       "  </tbody>\n",
       "</table>\n",
       "</div>"
      ],
      "text/plain": [
       "   Ticker       ROI\n",
       "41   MSCI  2.612068\n",
       "36   MKTX  1.860333\n",
       "6     AJG  1.112315\n",
       "39    MCO  1.044882\n",
       "51   SPGI  1.012123"
      ]
     },
     "execution_count": 23,
     "metadata": {},
     "output_type": "execute_result"
    }
   ],
   "source": [
    "finance.sort_values(by=['ROI'], ascending=False).head(5)"
   ]
  },
  {
   "cell_type": "markdown",
   "metadata": {},
   "source": [
    "# Top Materials"
   ]
  },
  {
   "cell_type": "code",
   "execution_count": 24,
   "metadata": {},
   "outputs": [
    {
     "data": {
      "text/html": [
       "<div>\n",
       "<style scoped>\n",
       "    .dataframe tbody tr th:only-of-type {\n",
       "        vertical-align: middle;\n",
       "    }\n",
       "\n",
       "    .dataframe tbody tr th {\n",
       "        vertical-align: top;\n",
       "    }\n",
       "\n",
       "    .dataframe thead th {\n",
       "        text-align: right;\n",
       "    }\n",
       "</style>\n",
       "<table border=\"1\" class=\"dataframe\">\n",
       "  <thead>\n",
       "    <tr style=\"text-align: right;\">\n",
       "      <th></th>\n",
       "      <th>Ticker</th>\n",
       "      <th>ROI</th>\n",
       "    </tr>\n",
       "  </thead>\n",
       "  <tbody>\n",
       "    <tr>\n",
       "      <th>4</th>\n",
       "      <td>BLL</td>\n",
       "      <td>1.474668</td>\n",
       "    </tr>\n",
       "    <tr>\n",
       "      <th>24</th>\n",
       "      <td>SHW</td>\n",
       "      <td>0.824243</td>\n",
       "    </tr>\n",
       "    <tr>\n",
       "      <th>16</th>\n",
       "      <td>LIN</td>\n",
       "      <td>0.785525</td>\n",
       "    </tr>\n",
       "    <tr>\n",
       "      <th>0</th>\n",
       "      <td>APD</td>\n",
       "      <td>0.771644</td>\n",
       "    </tr>\n",
       "    <tr>\n",
       "      <th>19</th>\n",
       "      <td>NEM</td>\n",
       "      <td>0.689577</td>\n",
       "    </tr>\n",
       "  </tbody>\n",
       "</table>\n",
       "</div>"
      ],
      "text/plain": [
       "   Ticker       ROI\n",
       "4     BLL  1.474668\n",
       "24    SHW  0.824243\n",
       "16    LIN  0.785525\n",
       "0     APD  0.771644\n",
       "19    NEM  0.689577"
      ]
     },
     "execution_count": 24,
     "metadata": {},
     "output_type": "execute_result"
    }
   ],
   "source": [
    "material.sort_values(by=['ROI'], ascending=False).head(5)"
   ]
  },
  {
   "cell_type": "markdown",
   "metadata": {},
   "source": [
    "# Top Real Estate"
   ]
  },
  {
   "cell_type": "code",
   "execution_count": 25,
   "metadata": {},
   "outputs": [
    {
     "data": {
      "text/html": [
       "<div>\n",
       "<style scoped>\n",
       "    .dataframe tbody tr th:only-of-type {\n",
       "        vertical-align: middle;\n",
       "    }\n",
       "\n",
       "    .dataframe tbody tr th {\n",
       "        vertical-align: top;\n",
       "    }\n",
       "\n",
       "    .dataframe thead th {\n",
       "        text-align: right;\n",
       "    }\n",
       "</style>\n",
       "<table border=\"1\" class=\"dataframe\">\n",
       "  <thead>\n",
       "    <tr style=\"text-align: right;\">\n",
       "      <th></th>\n",
       "      <th>Ticker</th>\n",
       "      <th>ROI</th>\n",
       "    </tr>\n",
       "  </thead>\n",
       "  <tbody>\n",
       "    <tr>\n",
       "      <th>22</th>\n",
       "      <td>SBAC</td>\n",
       "      <td>0.772695</td>\n",
       "    </tr>\n",
       "    <tr>\n",
       "      <th>8</th>\n",
       "      <td>EQIX</td>\n",
       "      <td>0.692928</td>\n",
       "    </tr>\n",
       "    <tr>\n",
       "      <th>18</th>\n",
       "      <td>PLD</td>\n",
       "      <td>0.689758</td>\n",
       "    </tr>\n",
       "    <tr>\n",
       "      <th>1</th>\n",
       "      <td>AMT</td>\n",
       "      <td>0.685782</td>\n",
       "    </tr>\n",
       "    <tr>\n",
       "      <th>5</th>\n",
       "      <td>CCI</td>\n",
       "      <td>0.622156</td>\n",
       "    </tr>\n",
       "  </tbody>\n",
       "</table>\n",
       "</div>"
      ],
      "text/plain": [
       "   Ticker       ROI\n",
       "22   SBAC  0.772695\n",
       "8    EQIX  0.692928\n",
       "18    PLD  0.689758\n",
       "1     AMT  0.685782\n",
       "5     CCI  0.622156"
      ]
     },
     "execution_count": 25,
     "metadata": {},
     "output_type": "execute_result"
    }
   ],
   "source": [
    "restate.sort_values(by=['ROI'], ascending=False).head(5)"
   ]
  },
  {
   "cell_type": "markdown",
   "metadata": {},
   "source": [
    "# Top Energy"
   ]
  },
  {
   "cell_type": "code",
   "execution_count": 26,
   "metadata": {},
   "outputs": [
    {
     "data": {
      "text/html": [
       "<div>\n",
       "<style scoped>\n",
       "    .dataframe tbody tr th:only-of-type {\n",
       "        vertical-align: middle;\n",
       "    }\n",
       "\n",
       "    .dataframe tbody tr th {\n",
       "        vertical-align: top;\n",
       "    }\n",
       "\n",
       "    .dataframe thead th {\n",
       "        text-align: right;\n",
       "    }\n",
       "</style>\n",
       "<table border=\"1\" class=\"dataframe\">\n",
       "  <thead>\n",
       "    <tr style=\"text-align: right;\">\n",
       "      <th></th>\n",
       "      <th>Ticker</th>\n",
       "      <th>ROI</th>\n",
       "    </tr>\n",
       "  </thead>\n",
       "  <tbody>\n",
       "    <tr>\n",
       "      <th>10</th>\n",
       "      <td>HES</td>\n",
       "      <td>0.168441</td>\n",
       "    </tr>\n",
       "    <tr>\n",
       "      <th>16</th>\n",
       "      <td>OKE</td>\n",
       "      <td>-0.131482</td>\n",
       "    </tr>\n",
       "    <tr>\n",
       "      <th>11</th>\n",
       "      <td>KMI</td>\n",
       "      <td>-0.146362</td>\n",
       "    </tr>\n",
       "    <tr>\n",
       "      <th>4</th>\n",
       "      <td>COP</td>\n",
       "      <td>-0.217487</td>\n",
       "    </tr>\n",
       "    <tr>\n",
       "      <th>21</th>\n",
       "      <td>WMB</td>\n",
       "      <td>-0.218709</td>\n",
       "    </tr>\n",
       "  </tbody>\n",
       "</table>\n",
       "</div>"
      ],
      "text/plain": [
       "   Ticker       ROI\n",
       "10    HES  0.168441\n",
       "16    OKE -0.131482\n",
       "11    KMI -0.146362\n",
       "4     COP -0.217487\n",
       "21    WMB -0.218709"
      ]
     },
     "execution_count": 26,
     "metadata": {},
     "output_type": "execute_result"
    }
   ],
   "source": [
    "energy.sort_values(by=['ROI'], ascending=False).head(5)"
   ]
  },
  {
   "cell_type": "markdown",
   "metadata": {},
   "source": [
    "# Portfolio List"
   ]
  },
  {
   "cell_type": "code",
   "execution_count": 27,
   "metadata": {},
   "outputs": [],
   "source": [
    "port_list = [\"GNRC\", \"DXCM\", \"AMD\", \"NFLX\", \"COST\", \n",
    "             \"TGT\", \"AES\", \"MSCI\", \"NEM\", \"SBAC\", \"HES\"]"
   ]
  },
  {
   "cell_type": "markdown",
   "metadata": {},
   "source": [
    "# Check for Correlation"
   ]
  },
  {
   "cell_type": "code",
   "execution_count": 28,
   "metadata": {},
   "outputs": [
    {
     "data": {
      "text/html": [
       "<div>\n",
       "<style scoped>\n",
       "    .dataframe tbody tr th:only-of-type {\n",
       "        vertical-align: middle;\n",
       "    }\n",
       "\n",
       "    .dataframe tbody tr th {\n",
       "        vertical-align: top;\n",
       "    }\n",
       "\n",
       "    .dataframe thead th {\n",
       "        text-align: right;\n",
       "    }\n",
       "</style>\n",
       "<table border=\"1\" class=\"dataframe\">\n",
       "  <thead>\n",
       "    <tr style=\"text-align: right;\">\n",
       "      <th></th>\n",
       "      <th>GNRC</th>\n",
       "      <th>DXCM</th>\n",
       "      <th>AMD</th>\n",
       "      <th>NFLX</th>\n",
       "      <th>COST</th>\n",
       "      <th>TGT</th>\n",
       "      <th>AES</th>\n",
       "      <th>MSCI</th>\n",
       "      <th>NEM</th>\n",
       "      <th>SBAC</th>\n",
       "      <th>HES</th>\n",
       "    </tr>\n",
       "  </thead>\n",
       "  <tbody>\n",
       "    <tr>\n",
       "      <th>251</th>\n",
       "      <td>-0.030089</td>\n",
       "      <td>0.010455</td>\n",
       "      <td>0.068093</td>\n",
       "      <td>0.047458</td>\n",
       "      <td>0.011820</td>\n",
       "      <td>0.036475</td>\n",
       "      <td>0.004617</td>\n",
       "      <td>0.009009</td>\n",
       "      <td>0.017057</td>\n",
       "      <td>-0.016711</td>\n",
       "      <td>0.008005</td>\n",
       "    </tr>\n",
       "    <tr>\n",
       "      <th>252</th>\n",
       "      <td>0.035395</td>\n",
       "      <td>0.001552</td>\n",
       "      <td>0.051913</td>\n",
       "      <td>0.019794</td>\n",
       "      <td>0.012001</td>\n",
       "      <td>-0.006802</td>\n",
       "      <td>-0.000919</td>\n",
       "      <td>0.015194</td>\n",
       "      <td>-0.008386</td>\n",
       "      <td>0.012513</td>\n",
       "      <td>0.032393</td>\n",
       "    </tr>\n",
       "    <tr>\n",
       "      <th>253</th>\n",
       "      <td>0.006837</td>\n",
       "      <td>-0.100379</td>\n",
       "      <td>0.049351</td>\n",
       "      <td>0.002829</td>\n",
       "      <td>-0.007766</td>\n",
       "      <td>-0.019652</td>\n",
       "      <td>-0.003680</td>\n",
       "      <td>0.015738</td>\n",
       "      <td>0.011099</td>\n",
       "      <td>-0.005472</td>\n",
       "      <td>0.024089</td>\n",
       "    </tr>\n",
       "    <tr>\n",
       "      <th>254</th>\n",
       "      <td>0.006790</td>\n",
       "      <td>0.019330</td>\n",
       "      <td>-0.019802</td>\n",
       "      <td>0.021203</td>\n",
       "      <td>-0.007139</td>\n",
       "      <td>0.010630</td>\n",
       "      <td>0.003694</td>\n",
       "      <td>0.010406</td>\n",
       "      <td>0.003659</td>\n",
       "      <td>0.006924</td>\n",
       "      <td>0.031034</td>\n",
       "    </tr>\n",
       "    <tr>\n",
       "      <th>255</th>\n",
       "      <td>-0.017457</td>\n",
       "      <td>0.040931</td>\n",
       "      <td>0.033670</td>\n",
       "      <td>0.009810</td>\n",
       "      <td>0.003888</td>\n",
       "      <td>0.009466</td>\n",
       "      <td>0.000000</td>\n",
       "      <td>0.001353</td>\n",
       "      <td>-0.001042</td>\n",
       "      <td>0.000123</td>\n",
       "      <td>0.006327</td>\n",
       "    </tr>\n",
       "    <tr>\n",
       "      <th>...</th>\n",
       "      <td>...</td>\n",
       "      <td>...</td>\n",
       "      <td>...</td>\n",
       "      <td>...</td>\n",
       "      <td>...</td>\n",
       "      <td>...</td>\n",
       "      <td>...</td>\n",
       "      <td>...</td>\n",
       "      <td>...</td>\n",
       "      <td>...</td>\n",
       "      <td>...</td>\n",
       "    </tr>\n",
       "    <tr>\n",
       "      <th>1002</th>\n",
       "      <td>0.027268</td>\n",
       "      <td>-0.002725</td>\n",
       "      <td>0.002840</td>\n",
       "      <td>-0.000991</td>\n",
       "      <td>0.007433</td>\n",
       "      <td>0.001601</td>\n",
       "      <td>-0.009366</td>\n",
       "      <td>0.008935</td>\n",
       "      <td>0.011710</td>\n",
       "      <td>0.007473</td>\n",
       "      <td>-0.012177</td>\n",
       "    </tr>\n",
       "    <tr>\n",
       "      <th>1003</th>\n",
       "      <td>-0.000686</td>\n",
       "      <td>0.020534</td>\n",
       "      <td>-0.002287</td>\n",
       "      <td>0.010020</td>\n",
       "      <td>0.017774</td>\n",
       "      <td>0.006850</td>\n",
       "      <td>0.001289</td>\n",
       "      <td>0.009041</td>\n",
       "      <td>-0.010913</td>\n",
       "      <td>0.004472</td>\n",
       "      <td>-0.013261</td>\n",
       "    </tr>\n",
       "    <tr>\n",
       "      <th>1004</th>\n",
       "      <td>-0.050077</td>\n",
       "      <td>-0.014932</td>\n",
       "      <td>-0.010699</td>\n",
       "      <td>0.022634</td>\n",
       "      <td>0.004474</td>\n",
       "      <td>-0.007654</td>\n",
       "      <td>0.000429</td>\n",
       "      <td>-0.004125</td>\n",
       "      <td>-0.001505</td>\n",
       "      <td>-0.000905</td>\n",
       "      <td>-0.004921</td>\n",
       "    </tr>\n",
       "    <tr>\n",
       "      <th>1005</th>\n",
       "      <td>0.035326</td>\n",
       "      <td>0.016447</td>\n",
       "      <td>0.018429</td>\n",
       "      <td>-0.011830</td>\n",
       "      <td>0.004642</td>\n",
       "      <td>-0.006627</td>\n",
       "      <td>-0.022737</td>\n",
       "      <td>0.005569</td>\n",
       "      <td>0.011050</td>\n",
       "      <td>-0.005218</td>\n",
       "      <td>0.022827</td>\n",
       "    </tr>\n",
       "    <tr>\n",
       "      <th>1006</th>\n",
       "      <td>-0.007766</td>\n",
       "      <td>0.019158</td>\n",
       "      <td>-0.006285</td>\n",
       "      <td>0.030767</td>\n",
       "      <td>0.006222</td>\n",
       "      <td>0.015240</td>\n",
       "      <td>0.031607</td>\n",
       "      <td>0.021831</td>\n",
       "      <td>-0.008280</td>\n",
       "      <td>0.027572</td>\n",
       "      <td>-0.018226</td>\n",
       "    </tr>\n",
       "  </tbody>\n",
       "</table>\n",
       "<p>756 rows × 11 columns</p>\n",
       "</div>"
      ],
      "text/plain": [
       "          GNRC      DXCM       AMD      NFLX      COST       TGT       AES  \\\n",
       "251  -0.030089  0.010455  0.068093  0.047458  0.011820  0.036475  0.004617   \n",
       "252   0.035395  0.001552  0.051913  0.019794  0.012001 -0.006802 -0.000919   \n",
       "253   0.006837 -0.100379  0.049351  0.002829 -0.007766 -0.019652 -0.003680   \n",
       "254   0.006790  0.019330 -0.019802  0.021203 -0.007139  0.010630  0.003694   \n",
       "255  -0.017457  0.040931  0.033670  0.009810  0.003888  0.009466  0.000000   \n",
       "...        ...       ...       ...       ...       ...       ...       ...   \n",
       "1002  0.027268 -0.002725  0.002840 -0.000991  0.007433  0.001601 -0.009366   \n",
       "1003 -0.000686  0.020534 -0.002287  0.010020  0.017774  0.006850  0.001289   \n",
       "1004 -0.050077 -0.014932 -0.010699  0.022634  0.004474 -0.007654  0.000429   \n",
       "1005  0.035326  0.016447  0.018429 -0.011830  0.004642 -0.006627 -0.022737   \n",
       "1006 -0.007766  0.019158 -0.006285  0.030767  0.006222  0.015240  0.031607   \n",
       "\n",
       "          MSCI       NEM      SBAC       HES  \n",
       "251   0.009009  0.017057 -0.016711  0.008005  \n",
       "252   0.015194 -0.008386  0.012513  0.032393  \n",
       "253   0.015738  0.011099 -0.005472  0.024089  \n",
       "254   0.010406  0.003659  0.006924  0.031034  \n",
       "255   0.001353 -0.001042  0.000123  0.006327  \n",
       "...        ...       ...       ...       ...  \n",
       "1002  0.008935  0.011710  0.007473 -0.012177  \n",
       "1003  0.009041 -0.010913  0.004472 -0.013261  \n",
       "1004 -0.004125 -0.001505 -0.000905 -0.004921  \n",
       "1005  0.005569  0.011050 -0.005218  0.022827  \n",
       "1006  0.021831 -0.008280  0.027572 -0.018226  \n",
       "\n",
       "[756 rows x 11 columns]"
      ]
     },
     "execution_count": 28,
     "metadata": {},
     "output_type": "execute_result"
    }
   ],
   "source": [
    "mult_df = merge_df_by_column_name('daily_return',  '2018-01-01', '2020-12-31', *port_list)\n",
    "mult_df"
   ]
  },
  {
   "cell_type": "code",
   "execution_count": 29,
   "metadata": {},
   "outputs": [
    {
     "data": {
      "image/png": "[encoded data removed]",
      "text/plain": [
       "<Figure size 800x640 with 2 Axes>"
      ]
     },
     "metadata": {
      "needs_background": "light"
     },
     "output_type": "display_data"
    }
   ],
   "source": [
    "# Generate a Correlation Matrix\n",
    "plt.figure(figsize=(10, 8), dpi=80)\n",
    "sns.heatmap(mult_df.corr(), annot=True)\n",
    "plt.show()"
   ]
  },
  {
   "cell_type": "code",
   "execution_count": 30,
   "metadata": {},
   "outputs": [
    {
     "data": {
      "text/plain": [
       "756"
      ]
     },
     "execution_count": 30,
     "metadata": {},
     "output_type": "execute_result"
    }
   ],
   "source": [
    "# Get the number of samples\n",
    "days = len(mult_df.index)\n",
    "days"
   ]
  },
  {
   "cell_type": "code",
   "execution_count": 31,
   "metadata": {},
   "outputs": [],
   "source": [
    "def get_stock_price_on_date(ticker, date):\n",
    "    df = get_df_from_csv(ticker)\n",
    "    df = df.set_index(['Date'])\n",
    "    return df.loc[date,'Adj Close']"
   ]
  },
  {
   "cell_type": "code",
   "execution_count": 32,
   "metadata": {},
   "outputs": [
    {
     "name": "stdout",
     "output_type": "stream",
     "text": [
      "GNRC $ 224.5599975585937\n",
      "DXCM $ 357.739990234375\n",
      "AMD  $ 92.3000030517578\n",
      "NFLX $ 522.8599853515625\n",
      "COST $ 377.8815307617188\n",
      "TGT  $ 175.82254028320312\n",
      "AES  $ 22.82006454467773\n",
      "MSCI $ 435.3967590332031\n",
      "NEM  $ 62.0733871459961\n",
      "SBAC $ 274.4242248535156\n",
      "HES  $ 52.46865844726562\n"
     ]
    }
   ],
   "source": [
    "# 01-04-2021 is the 1st date in 2021\n",
    "print(\"GNRC $\", get_stock_price_on_date('GNRC', '2021-01-04')) # 2 Shares at - 224.5599 $\n",
    "print(\"DXCM $\", get_stock_price_on_date('DXCM', '2021-01-04')) # 1 Shares at - 357.7399 $\n",
    "print(\"AMD  $\", get_stock_price_on_date('AMD', '2021-01-04'))  # 4 Shares at - 92.3000 $\n",
    "print(\"NFLX $\", get_stock_price_on_date('NFLX', '2021-01-04')) # 1 Shares at - 522.8599 $\n",
    "print(\"COST $\", get_stock_price_on_date('COST', '2021-01-04')) # 1 Shares at - 377.8815 $\n",
    "print(\"TGT  $\", get_stock_price_on_date('TGT', '2021-01-04'))  # 3 Shares at - 175.8225 $\n",
    "print(\"AES  $\", get_stock_price_on_date('AES', '2021-01-04'))  # 18 Shares at - 22.8200 $\n",
    "print(\"MSCI $\", get_stock_price_on_date('MSCI', '2021-01-04')) # 1 Shares at - 435.3967 $\n",
    "print(\"NEM  $\", get_stock_price_on_date('NEM', '2021-01-04'))  # 7 Shares at - 62.0733 $\n",
    "print(\"SBAC $\", get_stock_price_on_date('SBAC', '2021-01-04')) # 2 Shares at - 274.4242 $\n",
    "print(\"HES  $\", get_stock_price_on_date('HES', '2021-01-04'))  # 9 Shares at - 52.4686 $"
   ]
  },
  {
   "cell_type": "code",
   "execution_count": 33,
   "metadata": {},
   "outputs": [
    {
     "data": {
      "text/plain": [
       "4906.007141113281"
      ]
     },
     "execution_count": 33,
     "metadata": {},
     "output_type": "execute_result"
    }
   ],
   "source": [
    "port_list_share_count = {\"GNRC\":2, \"DXCM\":1, \"AMD\":4, \"NFLX\":1, \"COST\":1, \n",
    "             \"TGT\":3, \"AES\":18, \"MSCI\":1, \"NEM\":7, \"SBAC\":2, \"HES\":9}\n",
    "\n",
    "def get_total_investment(port_list_share_count, date):\n",
    "    tot_inv = 0\n",
    "\n",
    "    for ticker in port_list_share_count.keys():\n",
    "        \n",
    "        df = get_df_from_csv(ticker)\n",
    "        df = df.set_index(['Date'])\n",
    "        \n",
    "        tot_inv += df.loc[date,'Adj Close'] * port_list_share_count[ticker]\n",
    "        \n",
    "    return tot_inv\n",
    "\n",
    "tot_inv = get_total_investment(port_list_share_count, '2021-01-04')\n",
    "tot_inv"
   ]
  },
  {
   "cell_type": "markdown",
   "metadata": {},
   "source": [
    "# Returns Portfolio Weight"
   ]
  },
  {
   "cell_type": "code",
   "execution_count": 34,
   "metadata": {},
   "outputs": [],
   "source": [
    "def get_port_weight(price, total):\n",
    "    return price / total"
   ]
  },
  {
   "cell_type": "code",
   "execution_count": 35,
   "metadata": {},
   "outputs": [],
   "source": [
    "gnrc_w = get_port_weight(449.12, tot_inv)\n",
    "dxcm_w = get_port_weight(357.74, tot_inv)\n",
    "amd_w = get_port_weight(369.2, tot_inv)\n",
    "nflx_w = get_port_weight(522.86, tot_inv)\n",
    "cost_w = get_port_weight(377.88, tot_inv)\n",
    "tgt_w = get_port_weight(527.46, tot_inv)\n",
    "aes_w = get_port_weight(410.76, tot_inv)\n",
    "msci_w = get_port_weight(435.40, tot_inv)\n",
    "nem_w = get_port_weight(434.49, tot_inv)\n",
    "sbac_w = get_port_weight(548.84, tot_inv)\n",
    "hes_w = get_port_weight(472.23, tot_inv)"
   ]
  },
  {
   "cell_type": "code",
   "execution_count": 36,
   "metadata": {},
   "outputs": [
    {
     "data": {
      "text/plain": [
       "array([0.09154491, 0.07291877, 0.07525468, 0.10657547, 0.07702394,\n",
       "       0.10751309, 0.08372593, 0.08874834, 0.08856286, 0.11187102,\n",
       "       0.09625547])"
      ]
     },
     "execution_count": 36,
     "metadata": {},
     "output_type": "execute_result"
    }
   ],
   "source": [
    "wts = np.array([gnrc_w, dxcm_w, amd_w, nflx_w, cost_w, tgt_w, aes_w, msci_w, \\\n",
    "                nem_w, sbac_w, hes_w])\n",
    "wts"
   ]
  },
  {
   "cell_type": "code",
   "execution_count": 37,
   "metadata": {},
   "outputs": [
    {
     "name": "stdout",
     "output_type": "stream",
     "text": [
      "Portfolio Covariance : 0.18220831772632134\n",
      "GNRC Var : 0.4394654360724252\n",
      "NFLX Var : 0.5477253623043382\n"
     ]
    }
   ],
   "source": [
    "port_var = np.dot(wts.T, np.dot(mult_df.cov() * 756, wts))\n",
    "print(\"Portfolio Covariance :\", port_var)\n",
    "print(\"GNRC Var :\", mult_df[\"GNRC\"].var() * 756)\n",
    "print(\"NFLX Var :\", mult_df[\"NFLX\"].var() * 756)"
   ]
  },
  {
   "cell_type": "markdown",
   "metadata": {},
   "source": [
    "# Different Types of Risk\n",
    "\n",
    "There is risk that you can limit through diversifaction (Idiosyncratic) and risk that you can't (Systematic). Systematic risk is caused by unforeseen conditions such as wars, recessions, natural disasters, dramatic changes in consumer actions, etc.\n",
    "\n",
    "Data tells us that if we make a portfolio made up of approximately 25 stocks that aren't correlated that we can dramatically lower idiosyncratic risk. That is one reason why people invest in indexes. You can further lower risk by investing in other countries, bonds and cash."
   ]
  },
  {
   "cell_type": "markdown",
   "metadata": {},
   "source": [
    "# Diversifiable Risk"
   ]
  },
  {
   "cell_type": "code",
   "execution_count": 38,
   "metadata": {},
   "outputs": [],
   "source": [
    "# Diversifiable Risk = Portfolio Variance - All Weighted Variances\n",
    "def calc_diversifiable_risk(df, tickers, weights):\n",
    "    # Gets number of days\n",
    "    days = len(mult_df.index)\n",
    "    # Calculate covariance of portfolio\n",
    "    port_covar = np.dot(weights.T, np.dot(df.cov() * days, weights)) \n",
    "    \n",
    "    i = 0\n",
    "    while i < len(tickers):\n",
    "        wt_sq = weights[i] ** 2\n",
    "        stk_var = mult_df[tickers[i]].var() * days\n",
    "        wt_var = wt_sq * stk_var\n",
    "        port_covar = port_covar - wt_var\n",
    "        i += 1\n",
    "    return port_covar"
   ]
  },
  {
   "cell_type": "code",
   "execution_count": 39,
   "metadata": {},
   "outputs": [
    {
     "name": "stdout",
     "output_type": "stream",
     "text": [
      "Diversifiable Risk : 0.13626503740806906\n"
     ]
    }
   ],
   "source": [
    "div_risk = calc_diversifiable_risk(mult_df, port_list, wts)\n",
    "print(\"Diversifiable Risk :\", div_risk)"
   ]
  },
  {
   "cell_type": "markdown",
   "metadata": {},
   "source": [
    "# Find Risk that Can't be Diversified"
   ]
  },
  {
   "cell_type": "code",
   "execution_count": 40,
   "metadata": {},
   "outputs": [
    {
     "name": "stdout",
     "output_type": "stream",
     "text": [
      "Systematic Risk : 0.04594328031825229\n"
     ]
    }
   ],
   "source": [
    "print(\"Systematic Risk :\", (port_var - div_risk))"
   ]
  }
 ],
 "metadata": {
  "interpreter": {
   "hash": "c910ff1971d1a35b86d57fc264bbf5a30ca5984c3d733b151c172360a879289c"
  },
  "kernelspec": {
   "display_name": "Python 3.9.7 64-bit",
   "name": "python3"
  },
  "language_info": {
   "codemirror_mode": {
    "name": "ipython",
    "version": 3
   },
   "file_extension": ".py",
   "mimetype": "text/x-python",
   "name": "python",
   "nbconvert_exporter": "python",
   "pygments_lexer": "ipython3",
   "version": "3.9.7"
  },
  "orig_nbformat": 4
 },
 "nbformat": 4,
 "nbformat_minor": 2
}
