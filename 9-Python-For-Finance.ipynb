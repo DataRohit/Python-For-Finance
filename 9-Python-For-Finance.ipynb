{
 "cells": [
  {
   "cell_type": "markdown",
   "metadata": {},
   "source": [
    "# Imports"
   ]
  },
  {
   "cell_type": "code",
   "execution_count": 1,
   "metadata": {},
   "outputs": [],
   "source": [
    "# Provides ways to work with large multidimensional arrays\n",
    "import numpy as np \n",
    "# Allows for further data manipulation and analysis\n",
    "import pandas as pd\n",
    "from pandas_datareader import data as web # Reads stock data \n",
    "import matplotlib.pyplot as plt # Plotting\n",
    "import matplotlib.dates as mdates # Styling dates\n",
    "%matplotlib inline\n",
    "\n",
    "import datetime as dt # For defining dates\n",
    "import mplfinance as mpf # Matplotlib finance\n",
    "\n",
    "import time\n",
    "\n",
    "# Used to get data from a directory\n",
    "import os\n",
    "from os import listdir\n",
    "from os.path import isfile, join\n",
    "\n",
    "#Statsmodels is a great library we can use to run regressions.\n",
    "import statsmodels.api as sm\n",
    "# Seaborn extends the capabilities of Matplotlib\n",
    "import seaborn as sns\n",
    "sns.set_style(\"darkgrid\")\n",
    "# Used for calculating regressions\n",
    "from statsmodels.tsa.ar_model import AutoReg, ar_select_order\n",
    "\n",
    "import plotly.express as px\n",
    "# Allows us to create graph objects for making more customized plots\n",
    "import plotly.graph_objects as go\n",
    "\n",
    "import warnings\n",
    "warnings.filterwarnings(\"ignore\")"
   ]
  },
  {
   "cell_type": "markdown",
   "metadata": {},
   "source": [
    "# Dates & Other Constants"
   ]
  },
  {
   "cell_type": "code",
   "execution_count": 2,
   "metadata": {},
   "outputs": [],
   "source": [
    "PATH = \"./Stocks/\"\n",
    "\n",
    "# Start date defaults\n",
    "S_YEAR = 2017\n",
    "S_MONTH = 1\n",
    "S_DAY = 3\n",
    "S_DATE_STR = \"2017-01-03\"\n",
    "S_DATE_DATETIME = dt.datetime(S_YEAR, S_MONTH, S_DAY)\n",
    "\n",
    "# End date defaults\n",
    "E_YEAR = 2021\n",
    "E_MONTH = 10\n",
    "E_DAY = 29\n",
    "E_DATE_STR = \"2021-10-29\"\n",
    "E_DATE_DATETIME = dt.datetime(E_YEAR, E_MONTH, E_DAY)\n",
    "\n",
    "risk_free_rate = 0.0125 # Approximate 10 year bond rate"
   ]
  },
  {
   "cell_type": "markdown",
   "metadata": {},
   "source": [
    "# Function that Saves Dataframe to CSV"
   ]
  },
  {
   "cell_type": "code",
   "execution_count": 3,
   "metadata": {},
   "outputs": [],
   "source": [
    "def save_dataframe_to_csv(df, ticker):\n",
    "    df.to_csv(PATH + ticker + '.csv')"
   ]
  },
  {
   "cell_type": "markdown",
   "metadata": {},
   "source": [
    "# Function that Returns a Dataframe from a CSV"
   ]
  },
  {
   "cell_type": "code",
   "execution_count": 4,
   "metadata": {},
   "outputs": [],
   "source": [
    "def get_df_from_csv(ticker):\n",
    "    try:\n",
    "        df = pd.read_csv(PATH + ticker + '.csv', index_col='Date', \n",
    "                         parse_dates=True)\n",
    "    except FileNotFoundError:\n",
    "        pass\n",
    "        # print(\"File Doesn't Exist\")\n",
    "    else:\n",
    "        return df"
   ]
  },
  {
   "cell_type": "markdown",
   "metadata": {},
   "source": [
    "# Add Daily Return to Dataframe"
   ]
  },
  {
   "cell_type": "code",
   "execution_count": 5,
   "metadata": {},
   "outputs": [],
   "source": [
    "# Shift provides the value from the previous day\n",
    "# NaN is displayed because there was no previous day price for the 1st calculation\n",
    "def add_daily_return_to_df(df, ticker):\n",
    "    df['daily_return'] = (df['Adj Close'] / df['Adj Close'].shift(1)) - 1\n",
    "    # Save data to a CSV file\n",
    "    save_dataframe_to_csv(df, ticker)\n",
    "    return df"
   ]
  },
  {
   "cell_type": "markdown",
   "metadata": {},
   "source": [
    "# Merge Multiple Stocks in One Dataframe by Column Name"
   ]
  },
  {
   "cell_type": "code",
   "execution_count": 6,
   "metadata": {},
   "outputs": [],
   "source": [
    "def merge_df_by_column_name(col_name, sdate, edate, *tickers):\n",
    "    # Will hold data for all dataframes with the same column name\n",
    "    mult_df = pd.DataFrame()\n",
    "    \n",
    "    for x in tickers:\n",
    "        df = get_df_from_csv(x)\n",
    "        \n",
    "        # NEW Check if your dataframe has duplicate indexes\n",
    "        if not df.index.is_unique:\n",
    "            # Delete duplicates \n",
    "            df = df.loc[~df.index.duplicated(), :]\n",
    "        \n",
    "        mask = (df.index >= sdate) & (df.index <= edate)\n",
    "        mult_df[x] = df.loc[mask][col_name]\n",
    "        \n",
    "    return mult_df"
   ]
  },
  {
   "cell_type": "code",
   "execution_count": 7,
   "metadata": {},
   "outputs": [
    {
     "data": {
      "text/html": [
       "<div>\n",
       "<style scoped>\n",
       "    .dataframe tbody tr th:only-of-type {\n",
       "        vertical-align: middle;\n",
       "    }\n",
       "\n",
       "    .dataframe tbody tr th {\n",
       "        vertical-align: top;\n",
       "    }\n",
       "\n",
       "    .dataframe thead th {\n",
       "        text-align: right;\n",
       "    }\n",
       "</style>\n",
       "<table border=\"1\" class=\"dataframe\">\n",
       "  <thead>\n",
       "    <tr style=\"text-align: right;\">\n",
       "      <th></th>\n",
       "      <th>AMD</th>\n",
       "      <th>CPRT</th>\n",
       "    </tr>\n",
       "    <tr>\n",
       "      <th>Date</th>\n",
       "      <th></th>\n",
       "      <th></th>\n",
       "    </tr>\n",
       "  </thead>\n",
       "  <tbody>\n",
       "    <tr>\n",
       "      <th>2018-01-02</th>\n",
       "      <td>0.068093</td>\n",
       "      <td>0.009493</td>\n",
       "    </tr>\n",
       "    <tr>\n",
       "      <th>2018-01-03</th>\n",
       "      <td>0.051913</td>\n",
       "      <td>-0.004816</td>\n",
       "    </tr>\n",
       "    <tr>\n",
       "      <th>2018-01-04</th>\n",
       "      <td>0.049351</td>\n",
       "      <td>0.008066</td>\n",
       "    </tr>\n",
       "    <tr>\n",
       "      <th>2018-01-05</th>\n",
       "      <td>-0.019802</td>\n",
       "      <td>-0.004801</td>\n",
       "    </tr>\n",
       "    <tr>\n",
       "      <th>2018-01-08</th>\n",
       "      <td>0.033670</td>\n",
       "      <td>0.000459</td>\n",
       "    </tr>\n",
       "    <tr>\n",
       "      <th>...</th>\n",
       "      <td>...</td>\n",
       "      <td>...</td>\n",
       "    </tr>\n",
       "    <tr>\n",
       "      <th>2021-10-25</th>\n",
       "      <td>0.021198</td>\n",
       "      <td>0.006633</td>\n",
       "    </tr>\n",
       "    <tr>\n",
       "      <th>2021-10-26</th>\n",
       "      <td>0.004658</td>\n",
       "      <td>-0.000391</td>\n",
       "    </tr>\n",
       "    <tr>\n",
       "      <th>2021-10-27</th>\n",
       "      <td>-0.005288</td>\n",
       "      <td>-0.010638</td>\n",
       "    </tr>\n",
       "    <tr>\n",
       "      <th>2021-10-28</th>\n",
       "      <td>-0.009159</td>\n",
       "      <td>0.008048</td>\n",
       "    </tr>\n",
       "    <tr>\n",
       "      <th>2021-10-29</th>\n",
       "      <td>-0.007676</td>\n",
       "      <td>0.016229</td>\n",
       "    </tr>\n",
       "  </tbody>\n",
       "</table>\n",
       "<p>965 rows × 2 columns</p>\n",
       "</div>"
      ],
      "text/plain": [
       "                 AMD      CPRT\n",
       "Date                          \n",
       "2018-01-02  0.068093  0.009493\n",
       "2018-01-03  0.051913 -0.004816\n",
       "2018-01-04  0.049351  0.008066\n",
       "2018-01-05 -0.019802 -0.004801\n",
       "2018-01-08  0.033670  0.000459\n",
       "...              ...       ...\n",
       "2021-10-25  0.021198  0.006633\n",
       "2021-10-26  0.004658 -0.000391\n",
       "2021-10-27 -0.005288 -0.010638\n",
       "2021-10-28 -0.009159  0.008048\n",
       "2021-10-29 -0.007676  0.016229\n",
       "\n",
       "[965 rows x 2 columns]"
      ]
     },
     "execution_count": 7,
     "metadata": {},
     "output_type": "execute_result"
    }
   ],
   "source": [
    "port_list = [\"AMD\", \"CPRT\"]\n",
    "mult_df = merge_df_by_column_name('daily_return',\n",
    "                                  '2018-01-02', \n",
    "                                  '2021-10-29',\n",
    "                                  *port_list)\n",
    "mult_df"
   ]
  },
  {
   "cell_type": "markdown",
   "metadata": {},
   "source": [
    "# Calculating Beta\n",
    "\n",
    "Beta provides the relationship between an investment and the overall market. Risky investments tend to fall further during bad times, but will increase quicker during good times.\n",
    "\n",
    "Beta is found by dividing the covariance of the stock and the market by the variance of the overall market. It is a measure of systematic risk that can't be diversified away.\n",
    "\n",
    "$ \\beta = \\frac{Cov(r_x, r_m)}{\\sigma_m^2} $\n",
    "\n",
    "$ \\beta = 0 $ : No relation to market\n",
    "\n",
    "$ \\beta < 1 $ : Less risky than market\n",
    "\n",
    "$ \\beta > 1 $ : More risky than the market\n",
    "# Examples\n",
    "\n",
    "Albertsons is a grocery store chain with a low beta of 0.5 because no matter what people need food and pharmecueticals.\n",
    "\n",
    "AMD manufacturers microchips and is a high beta stock at 1.4 because during hard times there is less demand for their products.\n"
   ]
  },
  {
   "cell_type": "markdown",
   "metadata": {},
   "source": [
    "# Get S&P 500 and AMD Data"
   ]
  },
  {
   "cell_type": "code",
   "execution_count": 8,
   "metadata": {},
   "outputs": [],
   "source": [
    "# # Download data from Yahoo\n",
    "# sp_df = web.DataReader('^GSPC', 'yahoo', \n",
    "#                        '2016-01-01', '2021-10-29')\n",
    "# sp_df[\"Date\"] = sp_df.index\n",
    "# sp_df = sp_df[[\"Date\", \"Adj Close\"]]\n",
    "# sp_df.to_csv(\"./Stocks/^GSPC.csv\", index=False)\n",
    "\n",
    "# # Download data from Yahoo\n",
    "# amd_df = web.DataReader('AMD', 'yahoo', \n",
    "#                        '2016-01-01', '2021-10-29')\n",
    "# amd_df[\"Date\"] = amd_df.index\n",
    "# amd_df = amd_df[[\"Date\", \"Adj Close\"]]\n",
    "# amd_df.to_csv(\"./Stocks/AMD.csv\", index=False)\n",
    "\n",
    "# add_daily_return_to_df(sp_df, \"^GSPC\")\n",
    "# add_daily_return_to_df(amd_df, \"AMD\")"
   ]
  },
  {
   "cell_type": "code",
   "execution_count": 9,
   "metadata": {},
   "outputs": [
    {
     "data": {
      "text/html": [
       "<div>\n",
       "<style scoped>\n",
       "    .dataframe tbody tr th:only-of-type {\n",
       "        vertical-align: middle;\n",
       "    }\n",
       "\n",
       "    .dataframe tbody tr th {\n",
       "        vertical-align: top;\n",
       "    }\n",
       "\n",
       "    .dataframe thead th {\n",
       "        text-align: right;\n",
       "    }\n",
       "</style>\n",
       "<table border=\"1\" class=\"dataframe\">\n",
       "  <thead>\n",
       "    <tr style=\"text-align: right;\">\n",
       "      <th></th>\n",
       "      <th>Date.1</th>\n",
       "      <th>Adj Close</th>\n",
       "      <th>daily_return</th>\n",
       "    </tr>\n",
       "    <tr>\n",
       "      <th>Date</th>\n",
       "      <th></th>\n",
       "      <th></th>\n",
       "      <th></th>\n",
       "    </tr>\n",
       "  </thead>\n",
       "  <tbody>\n",
       "    <tr>\n",
       "      <th>2015-12-31</th>\n",
       "      <td>2015-12-31</td>\n",
       "      <td>2.870000</td>\n",
       "      <td>NaN</td>\n",
       "    </tr>\n",
       "    <tr>\n",
       "      <th>2016-01-04</th>\n",
       "      <td>2016-01-04</td>\n",
       "      <td>2.770000</td>\n",
       "      <td>-0.034843</td>\n",
       "    </tr>\n",
       "    <tr>\n",
       "      <th>2016-01-05</th>\n",
       "      <td>2016-01-05</td>\n",
       "      <td>2.750000</td>\n",
       "      <td>-0.007220</td>\n",
       "    </tr>\n",
       "    <tr>\n",
       "      <th>2016-01-06</th>\n",
       "      <td>2016-01-06</td>\n",
       "      <td>2.510000</td>\n",
       "      <td>-0.087273</td>\n",
       "    </tr>\n",
       "    <tr>\n",
       "      <th>2016-01-07</th>\n",
       "      <td>2016-01-07</td>\n",
       "      <td>2.280000</td>\n",
       "      <td>-0.091633</td>\n",
       "    </tr>\n",
       "    <tr>\n",
       "      <th>...</th>\n",
       "      <td>...</td>\n",
       "      <td>...</td>\n",
       "      <td>...</td>\n",
       "    </tr>\n",
       "    <tr>\n",
       "      <th>2021-10-25</th>\n",
       "      <td>2021-10-25</td>\n",
       "      <td>122.360001</td>\n",
       "      <td>0.021198</td>\n",
       "    </tr>\n",
       "    <tr>\n",
       "      <th>2021-10-26</th>\n",
       "      <td>2021-10-26</td>\n",
       "      <td>122.930000</td>\n",
       "      <td>0.004658</td>\n",
       "    </tr>\n",
       "    <tr>\n",
       "      <th>2021-10-27</th>\n",
       "      <td>2021-10-27</td>\n",
       "      <td>122.279999</td>\n",
       "      <td>-0.005288</td>\n",
       "    </tr>\n",
       "    <tr>\n",
       "      <th>2021-10-28</th>\n",
       "      <td>2021-10-28</td>\n",
       "      <td>121.160004</td>\n",
       "      <td>-0.009159</td>\n",
       "    </tr>\n",
       "    <tr>\n",
       "      <th>2021-10-29</th>\n",
       "      <td>2021-10-29</td>\n",
       "      <td>120.230003</td>\n",
       "      <td>-0.007676</td>\n",
       "    </tr>\n",
       "  </tbody>\n",
       "</table>\n",
       "<p>1469 rows × 3 columns</p>\n",
       "</div>"
      ],
      "text/plain": [
       "                Date.1   Adj Close  daily_return\n",
       "Date                                            \n",
       "2015-12-31  2015-12-31    2.870000           NaN\n",
       "2016-01-04  2016-01-04    2.770000     -0.034843\n",
       "2016-01-05  2016-01-05    2.750000     -0.007220\n",
       "2016-01-06  2016-01-06    2.510000     -0.087273\n",
       "2016-01-07  2016-01-07    2.280000     -0.091633\n",
       "...                ...         ...           ...\n",
       "2021-10-25  2021-10-25  122.360001      0.021198\n",
       "2021-10-26  2021-10-26  122.930000      0.004658\n",
       "2021-10-27  2021-10-27  122.279999     -0.005288\n",
       "2021-10-28  2021-10-28  121.160004     -0.009159\n",
       "2021-10-29  2021-10-29  120.230003     -0.007676\n",
       "\n",
       "[1469 rows x 3 columns]"
      ]
     },
     "execution_count": 9,
     "metadata": {},
     "output_type": "execute_result"
    }
   ],
   "source": [
    "amd_df = get_df_from_csv('AMD')\n",
    "amd_df"
   ]
  },
  {
   "cell_type": "code",
   "execution_count": 10,
   "metadata": {},
   "outputs": [
    {
     "data": {
      "text/html": [
       "<div>\n",
       "<style scoped>\n",
       "    .dataframe tbody tr th:only-of-type {\n",
       "        vertical-align: middle;\n",
       "    }\n",
       "\n",
       "    .dataframe tbody tr th {\n",
       "        vertical-align: top;\n",
       "    }\n",
       "\n",
       "    .dataframe thead th {\n",
       "        text-align: right;\n",
       "    }\n",
       "</style>\n",
       "<table border=\"1\" class=\"dataframe\">\n",
       "  <thead>\n",
       "    <tr style=\"text-align: right;\">\n",
       "      <th></th>\n",
       "      <th>Date.1</th>\n",
       "      <th>Adj Close</th>\n",
       "      <th>daily_return</th>\n",
       "    </tr>\n",
       "    <tr>\n",
       "      <th>Date</th>\n",
       "      <th></th>\n",
       "      <th></th>\n",
       "      <th></th>\n",
       "    </tr>\n",
       "  </thead>\n",
       "  <tbody>\n",
       "    <tr>\n",
       "      <th>2015-12-31</th>\n",
       "      <td>2015-12-31</td>\n",
       "      <td>2043.939941</td>\n",
       "      <td>NaN</td>\n",
       "    </tr>\n",
       "    <tr>\n",
       "      <th>2016-01-04</th>\n",
       "      <td>2016-01-04</td>\n",
       "      <td>2012.660034</td>\n",
       "      <td>-0.015304</td>\n",
       "    </tr>\n",
       "    <tr>\n",
       "      <th>2016-01-05</th>\n",
       "      <td>2016-01-05</td>\n",
       "      <td>2016.709961</td>\n",
       "      <td>0.002012</td>\n",
       "    </tr>\n",
       "    <tr>\n",
       "      <th>2016-01-06</th>\n",
       "      <td>2016-01-06</td>\n",
       "      <td>1990.260010</td>\n",
       "      <td>-0.013115</td>\n",
       "    </tr>\n",
       "    <tr>\n",
       "      <th>2016-01-07</th>\n",
       "      <td>2016-01-07</td>\n",
       "      <td>1943.089966</td>\n",
       "      <td>-0.023700</td>\n",
       "    </tr>\n",
       "    <tr>\n",
       "      <th>...</th>\n",
       "      <td>...</td>\n",
       "      <td>...</td>\n",
       "      <td>...</td>\n",
       "    </tr>\n",
       "    <tr>\n",
       "      <th>2021-10-25</th>\n",
       "      <td>2021-10-25</td>\n",
       "      <td>4566.479980</td>\n",
       "      <td>0.004748</td>\n",
       "    </tr>\n",
       "    <tr>\n",
       "      <th>2021-10-26</th>\n",
       "      <td>2021-10-26</td>\n",
       "      <td>4574.790039</td>\n",
       "      <td>0.001820</td>\n",
       "    </tr>\n",
       "    <tr>\n",
       "      <th>2021-10-27</th>\n",
       "      <td>2021-10-27</td>\n",
       "      <td>4551.680176</td>\n",
       "      <td>-0.005052</td>\n",
       "    </tr>\n",
       "    <tr>\n",
       "      <th>2021-10-28</th>\n",
       "      <td>2021-10-28</td>\n",
       "      <td>4596.419922</td>\n",
       "      <td>0.009829</td>\n",
       "    </tr>\n",
       "    <tr>\n",
       "      <th>2021-10-29</th>\n",
       "      <td>2021-10-29</td>\n",
       "      <td>4605.379883</td>\n",
       "      <td>0.001949</td>\n",
       "    </tr>\n",
       "  </tbody>\n",
       "</table>\n",
       "<p>1469 rows × 3 columns</p>\n",
       "</div>"
      ],
      "text/plain": [
       "                Date.1    Adj Close  daily_return\n",
       "Date                                             \n",
       "2015-12-31  2015-12-31  2043.939941           NaN\n",
       "2016-01-04  2016-01-04  2012.660034     -0.015304\n",
       "2016-01-05  2016-01-05  2016.709961      0.002012\n",
       "2016-01-06  2016-01-06  1990.260010     -0.013115\n",
       "2016-01-07  2016-01-07  1943.089966     -0.023700\n",
       "...                ...          ...           ...\n",
       "2021-10-25  2021-10-25  4566.479980      0.004748\n",
       "2021-10-26  2021-10-26  4574.790039      0.001820\n",
       "2021-10-27  2021-10-27  4551.680176     -0.005052\n",
       "2021-10-28  2021-10-28  4596.419922      0.009829\n",
       "2021-10-29  2021-10-29  4605.379883      0.001949\n",
       "\n",
       "[1469 rows x 3 columns]"
      ]
     },
     "execution_count": 10,
     "metadata": {},
     "output_type": "execute_result"
    }
   ],
   "source": [
    "sp_df = get_df_from_csv('^GSPC')\n",
    "sp_df"
   ]
  },
  {
   "cell_type": "markdown",
   "metadata": {},
   "source": [
    "# Find Beta for Stock versus S&P"
   ]
  },
  {
   "cell_type": "code",
   "execution_count": 11,
   "metadata": {},
   "outputs": [],
   "source": [
    "def find_beta(ticker):\n",
    "    # Tickers analyzed being the S&P and the stock passed\n",
    "    port_list = [\"^GSPC\"]\n",
    "    port_list.append(ticker)\n",
    "    \n",
    "    mult_df = merge_df_by_column_name(\"daily_return\", \"2016-10-29\", \"2021-10-29\", *port_list)\n",
    "    \n",
    "    # Provides the covariance between the securities\n",
    "    cov = mult_df.cov() * 253\n",
    "    \n",
    "    # Get the covariance of the stock and the market\n",
    "    cov_vs_market = cov.iloc[0,1]\n",
    "    \n",
    "    # Get annualized variance of the S&P\n",
    "    sp_var = mult_df['^GSPC'].var() * 253\n",
    "    \n",
    "    # Beta is normally calculated over a 5 year period which is why you may see a difference\n",
    "    beta = cov_vs_market / sp_var\n",
    "    return beta"
   ]
  },
  {
   "cell_type": "markdown",
   "metadata": {},
   "source": [
    "# Get Stock Beta"
   ]
  },
  {
   "cell_type": "code",
   "execution_count": 12,
   "metadata": {},
   "outputs": [
    {
     "name": "stdout",
     "output_type": "stream",
     "text": [
      "AMD Beta : 1.4380733338389675\n"
     ]
    }
   ],
   "source": [
    "print(\"AMD Beta :\", find_beta('AMD')) # AMD Beta over 4 Year Data"
   ]
  },
  {
   "cell_type": "markdown",
   "metadata": {},
   "source": [
    "\n",
    "# Capital Asset Pricing Model\n",
    "\n",
    "Sharpe continued to create the CAPM based on the research of Markowitz. It focuses on investments in stocks and bonds. With it we can more exactly create portfolios that match the risk an investor is willing to assume. CAPM assumes a risk free asset which of course provides a small return. So if the investor wants less risk they simply buy more of the risk free assets.\n",
    "\n",
    "There is risk that you can limit through diversifaction (Idiosyncratic) and risk that you can't (Systematic). This portfolio contains no Idiosyncratic risk and like before it lies on the efficient frontier.\n",
    "\n",
    "To find this portfolio we will draw a line ( The Capital Market Line ) from the Y intercept to the efficient frontier.\n",
    "\n",
    "Here is the formula. The securities expected return equals the risk free asset plus Beta times the market return minus the risk free asset. it is common for $ r_m - r_f $ to be considered 5% which is called the Equity Risk Premium.\n",
    "\n",
    "$ r_i = r_f + \\beta_i (r_m - r_f) $"
   ]
  },
  {
   "cell_type": "markdown",
   "metadata": {},
   "source": [
    "# Calculate AMDs Expected Return"
   ]
  },
  {
   "cell_type": "code",
   "execution_count": 13,
   "metadata": {},
   "outputs": [
    {
     "data": {
      "text/plain": [
       "0.08440366669194838"
      ]
     },
     "execution_count": 13,
     "metadata": {},
     "output_type": "execute_result"
    }
   ],
   "source": [
    "ri = risk_free_rate + find_beta('AMD') * 0.05\n",
    "ri"
   ]
  },
  {
   "cell_type": "markdown",
   "metadata": {},
   "source": [
    "# Sharpe Ratio\n",
    "\n",
    "William Sharpe created the Sharpe Ratio to find the portfolio that provides the best return for the lowest amount of risk.\n",
    "\n",
    "Sharpe Ratio = $\\frac{r_i - r_f}{\\sigma_i}$\n",
    "\n",
    "$r_f = $ Risk Free Rate\n",
    "\n",
    "$r_i = $ Rate of Return of the stock\n",
    "\n",
    "$\\sigma_i = $ Standard Deviation of the Stock\n",
    "\n",
    "As return increases so does the Sharpe Ratio, but as Standard Deviation increase the Sharpe Ratio decreases."
   ]
  },
  {
   "cell_type": "code",
   "execution_count": 14,
   "metadata": {},
   "outputs": [
    {
     "data": {
      "text/plain": [
       "0.1296010512754255"
      ]
     },
     "execution_count": 14,
     "metadata": {},
     "output_type": "execute_result"
    }
   ],
   "source": [
    "# We can find the Sharpe ratio for AMD\n",
    "amd_sharpe = (ri - risk_free_rate) / (mult_df['AMD'].std() * 252 ** 0.5)\n",
    "amd_sharpe"
   ]
  },
  {
   "cell_type": "markdown",
   "metadata": {},
   "source": [
    "# Get Stock Prices on Date"
   ]
  },
  {
   "cell_type": "code",
   "execution_count": 15,
   "metadata": {},
   "outputs": [],
   "source": [
    "def get_prices_on_date(stocks_df, date):\n",
    "    return stocks_df.loc[pd.DatetimeIndex([date])]['Adj Close'].item()"
   ]
  },
  {
   "cell_type": "markdown",
   "metadata": {},
   "source": [
    "# Returns the Value of Portfolio by Date"
   ]
  },
  {
   "cell_type": "code",
   "execution_count": 16,
   "metadata": {},
   "outputs": [],
   "source": [
    "def get_port_val_by_date(date, shares, tickers):\n",
    "    port_prices = merge_df_by_column_name('Adj Close',  date, \n",
    "                                  date, *port_list)\n",
    "    # Convert from dataframe to Python list\n",
    "    port_prices = port_prices.values.tolist()\n",
    "    # Trick that converts a list of lists into a single list\n",
    "    port_prices = sum(port_prices, [])\n",
    "    \n",
    "    # Create a list of values by multiplying shares by price\n",
    "    value_list = []\n",
    "    for price, share in zip(port_prices, shares):\n",
    "        value_list.append(price * share)\n",
    "    \n",
    "    return sum(value_list)"
   ]
  },
  {
   "cell_type": "markdown",
   "metadata": {},
   "source": [
    "# Get Value of Portfolio at Beginning and End of Year"
   ]
  },
  {
   "cell_type": "code",
   "execution_count": 17,
   "metadata": {},
   "outputs": [
    {
     "name": "stdout",
     "output_type": "stream",
     "text": [
      "Portfolio Value at Start of January 2020 : $11719.24\n",
      "Portfolio Value at End of October 2021 : $30568.67\n"
     ]
    }
   ],
   "source": [
    "port_list = [\"GNRC\", \"CPRT\", \"ODFL\", \"AMD\", \"PAYC\", \"CHTR\",\n",
    "             \"MKC\", \"PG\", \"PGR\", \"NEM\", \"CCI\", \"COG\"]\n",
    "\n",
    "port_shares = [25, 20, 22, 26, 1, 1, 4, 1, 5, 28, 3, 7]\n",
    "\n",
    "# Portfolio value at start of 2020\n",
    "port_val_start = get_port_val_by_date('2020-01-02', port_shares, port_list)\n",
    "print(\"Portfolio Value at Start of January 2020 : $%2.2f\" % (port_val_start))\n",
    "\n",
    "# Portfolio value at end of 2020\n",
    "port_val_end = get_port_val_by_date('2021-10-29', port_shares, port_list)\n",
    "print(\"Portfolio Value at End of October 2021 : $%2.2f\" % (port_val_end))"
   ]
  },
  {
   "cell_type": "markdown",
   "metadata": {},
   "source": [
    "# Calculate Return on Investment\n",
    "\n",
    "ROI = <img src=\"https://render.githubusercontent.com/render/math?math=%5Cfrac%7BFinal%20Value%20-%20Initial%20Value%7D%7BInitial%20Value%7D&mode=inline\"/>"
   ]
  },
  {
   "cell_type": "code",
   "execution_count": 18,
   "metadata": {},
   "outputs": [
    {
     "name": "stdout",
     "output_type": "stream",
     "text": [
      "Portfolio End of October 2021 : 61.66 %\n",
      "S&P End of October 2021 : 29.26 %\n"
     ]
    }
   ],
   "source": [
    "# Rate of return for portfolio\n",
    "roi_port = (port_val_end - port_val_start) / port_val_end\n",
    "print(\"Portfolio End of October 2021 : %2.2f %%\" % (roi_port * 100))\n",
    "\n",
    "# S&P ROI\n",
    "sp_df = get_df_from_csv('^GSPC')\n",
    "sp_val_start = get_prices_on_date(sp_df, '2020-01-02')\n",
    "sp_val_end = get_prices_on_date(sp_df, '2021-10-29')\n",
    "sp_roi = (sp_val_end - sp_val_start) / sp_val_end\n",
    "print(\"S&P End of October 2021 : %2.2f %%\" % (sp_roi * 100))"
   ]
  },
  {
   "cell_type": "markdown",
   "metadata": {},
   "source": [
    "# Find Daily Return for Whole Portfolio\n",
    "\n",
    "To find the daily return for the whole portfolio, I must multiply the daily price by the number of shares for each security. Then sum those values for all stocks per day. This creates a portfolio list of daily prices. Then I can calculate the daily return.\n"
   ]
  },
  {
   "cell_type": "code",
   "execution_count": 19,
   "metadata": {},
   "outputs": [],
   "source": [
    "def get_port_daily_return(sdate, edate, shares, tickers):\n",
    "    # Merge all daily prices for all stocks into 1 dataframe\n",
    "    mult_df = merge_df_by_column_name('Adj Close',  sdate, \n",
    "                                  edate, *port_list)\n",
    "    \n",
    "    # Get the number of stocks in portfolio\n",
    "    num_cols = len(mult_df.columns)\n",
    "    \n",
    "    # Multiply each stock column by the number of shares\n",
    "    i = 0\n",
    "    while i < num_cols:\n",
    "        mult_df[tickers[i]] = mult_df[tickers[i]].apply(lambda x: x * shares[i])\n",
    "        i += 1\n",
    "        \n",
    "    # Create a new column with the sums of all stocks named Total\n",
    "    mult_df['Total'] = mult_df.iloc[:, 0:num_cols].sum(axis=1)\n",
    "    \n",
    "    # Add column for portfolio daily return\n",
    "    mult_df['daily_return'] = (mult_df['Total'] / mult_df['Total'].shift(1)) - 1\n",
    "    \n",
    "    return mult_df"
   ]
  },
  {
   "cell_type": "code",
   "execution_count": 20,
   "metadata": {},
   "outputs": [
    {
     "data": {
      "text/html": [
       "<div>\n",
       "<style scoped>\n",
       "    .dataframe tbody tr th:only-of-type {\n",
       "        vertical-align: middle;\n",
       "    }\n",
       "\n",
       "    .dataframe tbody tr th {\n",
       "        vertical-align: top;\n",
       "    }\n",
       "\n",
       "    .dataframe thead th {\n",
       "        text-align: right;\n",
       "    }\n",
       "</style>\n",
       "<table border=\"1\" class=\"dataframe\">\n",
       "  <thead>\n",
       "    <tr style=\"text-align: right;\">\n",
       "      <th></th>\n",
       "      <th>GNRC</th>\n",
       "      <th>CPRT</th>\n",
       "      <th>ODFL</th>\n",
       "      <th>AMD</th>\n",
       "      <th>PAYC</th>\n",
       "      <th>CHTR</th>\n",
       "      <th>MKC</th>\n",
       "      <th>PG</th>\n",
       "      <th>PGR</th>\n",
       "      <th>NEM</th>\n",
       "      <th>CCI</th>\n",
       "      <th>COG</th>\n",
       "      <th>Total</th>\n",
       "      <th>daily_return</th>\n",
       "    </tr>\n",
       "    <tr>\n",
       "      <th>Date</th>\n",
       "      <th></th>\n",
       "      <th></th>\n",
       "      <th></th>\n",
       "      <th></th>\n",
       "      <th></th>\n",
       "      <th></th>\n",
       "      <th></th>\n",
       "      <th></th>\n",
       "      <th></th>\n",
       "      <th></th>\n",
       "      <th></th>\n",
       "      <th></th>\n",
       "      <th></th>\n",
       "      <th></th>\n",
       "    </tr>\n",
       "  </thead>\n",
       "  <tbody>\n",
       "    <tr>\n",
       "      <th>2020-01-02</th>\n",
       "      <td>2550.250053</td>\n",
       "      <td>1869.600067</td>\n",
       "      <td>2801.878220</td>\n",
       "      <td>1276.599960</td>\n",
       "      <td>271.799988</td>\n",
       "      <td>490.429993</td>\n",
       "      <td>326.336029</td>\n",
       "      <td>117.481445</td>\n",
       "      <td>341.025391</td>\n",
       "      <td>1157.741852</td>\n",
       "      <td>403.065216</td>\n",
       "      <td>113.027060</td>\n",
       "      <td>11719.235273</td>\n",
       "      <td>NaN</td>\n",
       "    </tr>\n",
       "    <tr>\n",
       "      <th>2020-01-03</th>\n",
       "      <td>2541.749954</td>\n",
       "      <td>1853.200073</td>\n",
       "      <td>2768.464981</td>\n",
       "      <td>1263.599960</td>\n",
       "      <td>272.709991</td>\n",
       "      <td>494.470001</td>\n",
       "      <td>331.537048</td>\n",
       "      <td>116.691307</td>\n",
       "      <td>340.979500</td>\n",
       "      <td>1147.294830</td>\n",
       "      <td>405.284271</td>\n",
       "      <td>113.355064</td>\n",
       "      <td>11649.336983</td>\n",
       "      <td>-0.005964</td>\n",
       "    </tr>\n",
       "    <tr>\n",
       "      <th>2020-01-06</th>\n",
       "      <td>2531.250000</td>\n",
       "      <td>1869.799957</td>\n",
       "      <td>2746.578781</td>\n",
       "      <td>1258.139984</td>\n",
       "      <td>278.089996</td>\n",
       "      <td>497.450012</td>\n",
       "      <td>333.523895</td>\n",
       "      <td>116.853142</td>\n",
       "      <td>347.173347</td>\n",
       "      <td>1158.813278</td>\n",
       "      <td>401.870316</td>\n",
       "      <td>114.273457</td>\n",
       "      <td>11653.816166</td>\n",
       "      <td>0.000385</td>\n",
       "    </tr>\n",
       "    <tr>\n",
       "      <th>2020-01-07</th>\n",
       "      <td>2572.500038</td>\n",
       "      <td>1867.400055</td>\n",
       "      <td>2754.457840</td>\n",
       "      <td>1254.500000</td>\n",
       "      <td>279.489990</td>\n",
       "      <td>499.160004</td>\n",
       "      <td>327.796997</td>\n",
       "      <td>116.129654</td>\n",
       "      <td>344.521713</td>\n",
       "      <td>1158.009628</td>\n",
       "      <td>395.071014</td>\n",
       "      <td>114.929440</td>\n",
       "      <td>11683.966373</td>\n",
       "      <td>0.002587</td>\n",
       "    </tr>\n",
       "    <tr>\n",
       "      <th>2020-01-08</th>\n",
       "      <td>2500.749969</td>\n",
       "      <td>1880.200043</td>\n",
       "      <td>2767.443466</td>\n",
       "      <td>1243.580048</td>\n",
       "      <td>283.119995</td>\n",
       "      <td>500.769989</td>\n",
       "      <td>326.043884</td>\n",
       "      <td>116.624672</td>\n",
       "      <td>346.557770</td>\n",
       "      <td>1127.204544</td>\n",
       "      <td>396.721069</td>\n",
       "      <td>110.534319</td>\n",
       "      <td>11599.549768</td>\n",
       "      <td>-0.007225</td>\n",
       "    </tr>\n",
       "    <tr>\n",
       "      <th>...</th>\n",
       "      <td>...</td>\n",
       "      <td>...</td>\n",
       "      <td>...</td>\n",
       "      <td>...</td>\n",
       "      <td>...</td>\n",
       "      <td>...</td>\n",
       "      <td>...</td>\n",
       "      <td>...</td>\n",
       "      <td>...</td>\n",
       "      <td>...</td>\n",
       "      <td>...</td>\n",
       "      <td>...</td>\n",
       "      <td>...</td>\n",
       "      <td>...</td>\n",
       "    </tr>\n",
       "    <tr>\n",
       "      <th>2021-10-25</th>\n",
       "      <td>11752.999878</td>\n",
       "      <td>3065.599976</td>\n",
       "      <td>7143.400269</td>\n",
       "      <td>3181.360016</td>\n",
       "      <td>538.929993</td>\n",
       "      <td>731.010010</td>\n",
       "      <td>322.720001</td>\n",
       "      <td>140.850006</td>\n",
       "      <td>481.749992</td>\n",
       "      <td>1621.479996</td>\n",
       "      <td>532.919998</td>\n",
       "      <td>157.919996</td>\n",
       "      <td>29670.940130</td>\n",
       "      <td>0.005629</td>\n",
       "    </tr>\n",
       "    <tr>\n",
       "      <th>2021-10-26</th>\n",
       "      <td>11817.749786</td>\n",
       "      <td>3064.400024</td>\n",
       "      <td>7166.720215</td>\n",
       "      <td>3196.180008</td>\n",
       "      <td>537.190002</td>\n",
       "      <td>728.229980</td>\n",
       "      <td>324.239990</td>\n",
       "      <td>142.850006</td>\n",
       "      <td>481.250000</td>\n",
       "      <td>1615.600021</td>\n",
       "      <td>540.240005</td>\n",
       "      <td>157.289995</td>\n",
       "      <td>29771.940035</td>\n",
       "      <td>0.003404</td>\n",
       "    </tr>\n",
       "    <tr>\n",
       "      <th>2021-10-27</th>\n",
       "      <td>12222.000122</td>\n",
       "      <td>3031.799927</td>\n",
       "      <td>7125.580322</td>\n",
       "      <td>3179.279968</td>\n",
       "      <td>531.330017</td>\n",
       "      <td>714.510010</td>\n",
       "      <td>321.880005</td>\n",
       "      <td>141.830002</td>\n",
       "      <td>471.500015</td>\n",
       "      <td>1611.120026</td>\n",
       "      <td>534.750000</td>\n",
       "      <td>154.770004</td>\n",
       "      <td>30040.350418</td>\n",
       "      <td>0.009016</td>\n",
       "    </tr>\n",
       "    <tr>\n",
       "      <th>2021-10-28</th>\n",
       "      <td>12587.999725</td>\n",
       "      <td>3056.199951</td>\n",
       "      <td>7370.439758</td>\n",
       "      <td>3150.160095</td>\n",
       "      <td>537.320007</td>\n",
       "      <td>706.270020</td>\n",
       "      <td>324.720001</td>\n",
       "      <td>142.679993</td>\n",
       "      <td>478.450012</td>\n",
       "      <td>1537.759949</td>\n",
       "      <td>545.699982</td>\n",
       "      <td>153.159994</td>\n",
       "      <td>30590.859488</td>\n",
       "      <td>0.018326</td>\n",
       "    </tr>\n",
       "    <tr>\n",
       "      <th>2021-10-29</th>\n",
       "      <td>12463.999939</td>\n",
       "      <td>3105.799866</td>\n",
       "      <td>7509.700134</td>\n",
       "      <td>3125.980087</td>\n",
       "      <td>547.849976</td>\n",
       "      <td>674.890015</td>\n",
       "      <td>320.920013</td>\n",
       "      <td>142.990005</td>\n",
       "      <td>474.399986</td>\n",
       "      <td>1512.000000</td>\n",
       "      <td>540.900009</td>\n",
       "      <td>149.239998</td>\n",
       "      <td>30568.670029</td>\n",
       "      <td>-0.000725</td>\n",
       "    </tr>\n",
       "  </tbody>\n",
       "</table>\n",
       "<p>462 rows × 14 columns</p>\n",
       "</div>"
      ],
      "text/plain": [
       "                    GNRC         CPRT         ODFL          AMD        PAYC  \\\n",
       "Date                                                                          \n",
       "2020-01-02   2550.250053  1869.600067  2801.878220  1276.599960  271.799988   \n",
       "2020-01-03   2541.749954  1853.200073  2768.464981  1263.599960  272.709991   \n",
       "2020-01-06   2531.250000  1869.799957  2746.578781  1258.139984  278.089996   \n",
       "2020-01-07   2572.500038  1867.400055  2754.457840  1254.500000  279.489990   \n",
       "2020-01-08   2500.749969  1880.200043  2767.443466  1243.580048  283.119995   \n",
       "...                  ...          ...          ...          ...         ...   \n",
       "2021-10-25  11752.999878  3065.599976  7143.400269  3181.360016  538.929993   \n",
       "2021-10-26  11817.749786  3064.400024  7166.720215  3196.180008  537.190002   \n",
       "2021-10-27  12222.000122  3031.799927  7125.580322  3179.279968  531.330017   \n",
       "2021-10-28  12587.999725  3056.199951  7370.439758  3150.160095  537.320007   \n",
       "2021-10-29  12463.999939  3105.799866  7509.700134  3125.980087  547.849976   \n",
       "\n",
       "                  CHTR         MKC          PG         PGR          NEM  \\\n",
       "Date                                                                      \n",
       "2020-01-02  490.429993  326.336029  117.481445  341.025391  1157.741852   \n",
       "2020-01-03  494.470001  331.537048  116.691307  340.979500  1147.294830   \n",
       "2020-01-06  497.450012  333.523895  116.853142  347.173347  1158.813278   \n",
       "2020-01-07  499.160004  327.796997  116.129654  344.521713  1158.009628   \n",
       "2020-01-08  500.769989  326.043884  116.624672  346.557770  1127.204544   \n",
       "...                ...         ...         ...         ...          ...   \n",
       "2021-10-25  731.010010  322.720001  140.850006  481.749992  1621.479996   \n",
       "2021-10-26  728.229980  324.239990  142.850006  481.250000  1615.600021   \n",
       "2021-10-27  714.510010  321.880005  141.830002  471.500015  1611.120026   \n",
       "2021-10-28  706.270020  324.720001  142.679993  478.450012  1537.759949   \n",
       "2021-10-29  674.890015  320.920013  142.990005  474.399986  1512.000000   \n",
       "\n",
       "                   CCI         COG         Total  daily_return  \n",
       "Date                                                            \n",
       "2020-01-02  403.065216  113.027060  11719.235273           NaN  \n",
       "2020-01-03  405.284271  113.355064  11649.336983     -0.005964  \n",
       "2020-01-06  401.870316  114.273457  11653.816166      0.000385  \n",
       "2020-01-07  395.071014  114.929440  11683.966373      0.002587  \n",
       "2020-01-08  396.721069  110.534319  11599.549768     -0.007225  \n",
       "...                ...         ...           ...           ...  \n",
       "2021-10-25  532.919998  157.919996  29670.940130      0.005629  \n",
       "2021-10-26  540.240005  157.289995  29771.940035      0.003404  \n",
       "2021-10-27  534.750000  154.770004  30040.350418      0.009016  \n",
       "2021-10-28  545.699982  153.159994  30590.859488      0.018326  \n",
       "2021-10-29  540.900009  149.239998  30568.670029     -0.000725  \n",
       "\n",
       "[462 rows x 14 columns]"
      ]
     },
     "execution_count": 20,
     "metadata": {},
     "output_type": "execute_result"
    }
   ],
   "source": [
    "tot_port_df = get_port_daily_return('2020-01-02', '2021-10-29', \n",
    "                                    port_shares, port_list)\n",
    "tot_port_df"
   ]
  },
  {
   "cell_type": "markdown",
   "metadata": {},
   "source": [
    "# Find Portfolio Beta"
   ]
  },
  {
   "cell_type": "code",
   "execution_count": 21,
   "metadata": {},
   "outputs": [],
   "source": [
    "def find_port_beta(port_df, sdate, edate):\n",
    "    # Will hold data for S&P and my portfolio\n",
    "    mult_df = pd.DataFrame()\n",
    "    \n",
    "    # Mask defining the dates worth of data that we want\n",
    "    port_mask = (port_df.index >= sdate) & (port_df.index <= edate)\n",
    "    \n",
    "    # Get S&P Dataframe\n",
    "    sp_df = get_df_from_csv('^GSPC')\n",
    "    \n",
    "    sp_mask = (sp_df.index >= sdate) & (sp_df.index <= edate)\n",
    "    \n",
    "    # Add S&P daily return to dataframe\n",
    "    mult_df['^GSPC'] = sp_df.loc[sp_mask]['daily_return']\n",
    "    \n",
    "    # Add the portfolio daily return data\n",
    "    mult_df['Portfolio'] = port_df.loc[port_mask]['daily_return']\n",
    "    \n",
    "    # Provides the covariance between the securities\n",
    "    cov = mult_df.cov() * 253\n",
    "    \n",
    "    # Get the covariance of the stocks and the market\n",
    "    cov_vs_market = cov.iloc[0,1]\n",
    "    \n",
    "    # Get annualized variance of the S&P\n",
    "    sp_var = mult_df['^GSPC'].var() * 253\n",
    "    \n",
    "    # Beta is normally calculated over a 5 year period which is why you may see a difference\n",
    "    beta = cov_vs_market / sp_var\n",
    "    return beta"
   ]
  },
  {
   "cell_type": "code",
   "execution_count": 22,
   "metadata": {},
   "outputs": [
    {
     "name": "stdout",
     "output_type": "stream",
     "text": [
      "Portfolio Beta : 91.39 %\n"
     ]
    }
   ],
   "source": [
    "port_beta = find_port_beta(tot_port_df, '2020-01-02', '2020-12-31')\n",
    "print(\"Portfolio Beta : %2.2f %%\" % (port_beta * 100))"
   ]
  },
  {
   "cell_type": "markdown",
   "metadata": {},
   "source": [
    "# Calculating Alpha¶\n",
    "\n",
    "Alpha provides a measure of how well a portfolio has performed. The CAPM assumes an Alpha of 0. Good portfolios have a positive Alpha, while poor have negative.\n",
    "\n",
    "Alpha = R – Rf – beta ( Rm - Rf )\n",
    "\n",
    "- R represents the portfolio return\n",
    "- Rf represents the risk-free rate of return\n",
    "- Beta represents the systematic risk of a portfolio\n",
    "- Rm represents the market return, per a benchmark\n",
    "\n"
   ]
  },
  {
   "cell_type": "code",
   "execution_count": 23,
   "metadata": {},
   "outputs": [
    {
     "name": "stdout",
     "output_type": "stream",
     "text": [
      "Portfolio Alpha : 34.81 %\n"
     ]
    }
   ],
   "source": [
    "port_alpha = roi_port - risk_free_rate - (port_beta * (sp_roi - risk_free_rate))\n",
    "print(\"Portfolio Alpha : %2.2f %%\" % (port_alpha * 100))"
   ]
  }
 ],
 "metadata": {
  "interpreter": {
   "hash": "c910ff1971d1a35b86d57fc264bbf5a30ca5984c3d733b151c172360a879289c"
  },
  "kernelspec": {
   "display_name": "Python 3.9.7 64-bit",
   "name": "python3"
  },
  "language_info": {
   "codemirror_mode": {
    "name": "ipython",
    "version": 3
   },
   "file_extension": ".py",
   "mimetype": "text/x-python",
   "name": "python",
   "nbconvert_exporter": "python",
   "pygments_lexer": "ipython3",
   "version": "3.9.7"
  },
  "orig_nbformat": 4
 },
 "nbformat": 4,
 "nbformat_minor": 2
}
