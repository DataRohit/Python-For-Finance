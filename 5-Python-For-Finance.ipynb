{
 "cells": [
  {
   "cell_type": "markdown",
   "metadata": {},
   "source": [
    "# Imports"
   ]
  },
  {
   "cell_type": "code",
   "execution_count": 5,
   "metadata": {},
   "outputs": [],
   "source": [
    "# Provides ways to work with large multidimensional arrays\n",
    "import numpy as np \n",
    "# Allows for further data manipulation and analysis\n",
    "import pandas as pd\n",
    "from pandas_datareader import data as web # Reads stock data \n",
    "import matplotlib.pyplot as plt # Plotting\n",
    "import matplotlib.dates as mdates # Styling dates\n",
    "%matplotlib inline\n",
    "\n",
    "import datetime as dt # For defining dates\n",
    "import mplfinance as mpf # Matplotlib finance\n",
    "\n",
    "import time\n",
    "\n",
    "# Used to get data from a directory\n",
    "import os\n",
    "from os import listdir\n",
    "from os.path import isfile, join\n",
    "\n",
    "# Ignore any warnings that show up\n",
    "import warnings\n",
    "warnings.filterwarnings(\"ignore\")"
   ]
  },
  {
   "cell_type": "markdown",
   "metadata": {},
   "source": [
    "# New Imports"
   ]
  },
  {
   "cell_type": "code",
   "execution_count": 6,
   "metadata": {},
   "outputs": [],
   "source": [
    "#Statsmodels is a great library we can use to run regressions.\n",
    "import statsmodels.api as sm\n",
    "\n",
    "# Seaborn extends the capabilities of Matplotlib\n",
    "import seaborn as sns\n",
    "sns.set_style(\"darkgrid\")"
   ]
  },
  {
   "cell_type": "markdown",
   "metadata": {},
   "source": [
    "# Dates & Other Constants"
   ]
  },
  {
   "cell_type": "code",
   "execution_count": 3,
   "metadata": {},
   "outputs": [],
   "source": [
    "PATH = \"./Stocks/\"\n",
    "\n",
    "# Start date defaults\n",
    "S_YEAR = 2017\n",
    "S_MONTH = 1\n",
    "S_DAY = 3\n",
    "S_DATE_STR = \"2017-01-03\"\n",
    "S_DATE_DATETIME = dt.datetime(S_YEAR, S_MONTH, S_DAY)\n",
    "\n",
    "# End date defaults\n",
    "E_YEAR = 2021\n",
    "E_MONTH = 8\n",
    "E_DAY = 19\n",
    "E_DATE_STR = \"2021-08-19\"\n",
    "E_DATE_DATETIME = dt.datetime(E_YEAR, E_MONTH, E_DAY)"
   ]
  },
  {
   "cell_type": "markdown",
   "metadata": {},
   "source": [
    "# Function that Returns a Dataframe from a CSV"
   ]
  },
  {
   "cell_type": "code",
   "execution_count": 8,
   "metadata": {},
   "outputs": [],
   "source": [
    "def get_df_from_csv(ticker):\n",
    "    try:\n",
    "        df = pd.read_csv(PATH + ticker + '.csv', index_col='Date', parse_dates=True)\n",
    "    except FileNotFoundError:\n",
    "        pass\n",
    "        # print(\"File Doesn't Exist\")\n",
    "    else:\n",
    "        return df"
   ]
  },
  {
   "cell_type": "markdown",
   "metadata": {},
   "source": [
    "# Regression Analysis\n",
    "\n",
    "Used to examine the relationship between 2 or more variables. We use it to see what factors matter & which do not. The dependent variable is what you want to better understand, while the independent variable effects the dependent.\n",
    "\n",
    "When analyzing stocks the dependent variable is the price, while the independent may be the season, economic events, earnings, etc."
   ]
  },
  {
   "cell_type": "code",
   "execution_count": 9,
   "metadata": {},
   "outputs": [
    {
     "data": {
      "image/png": "[encoded data removed]",
      "text/plain": [
       "<Figure size 576x288 with 1 Axes>"
      ]
     },
     "metadata": {},
     "output_type": "display_data"
    }
   ],
   "source": [
    "# This is a dataset that evaluates beauty & teacher evaluations\n",
    "beauty = sm.datasets.get_rdataset(\"TeachingRatings\", \"AER\")\n",
    "\n",
    "# We are plotting a scatter plot with a regression line that\n",
    "# estimates the mean of the results.\n",
    "plt.figure(figsize=(8,4))\n",
    "sns.regplot(x=\"eval\", y=\"beauty\", data=beauty.data)\n",
    "plt.show()\n",
    "\n",
    "# This data is rather inconclusive"
   ]
  },
  {
   "cell_type": "markdown",
   "metadata": {},
   "source": [
    "# Tips Regression Line"
   ]
  },
  {
   "cell_type": "code",
   "execution_count": 13,
   "metadata": {},
   "outputs": [
    {
     "name": "stdout",
     "output_type": "stream",
     "text": [
      "Index(['total_bill', 'tip', 'sex', 'smoker', 'day', 'time', 'size'], dtype='object') \n",
      "\n",
      "                            OLS Regression Results                            \n",
      "==============================================================================\n",
      "Dep. Variable:             total_bill   R-squared:                       0.457\n",
      "Model:                            OLS   Adj. R-squared:                  0.454\n",
      "Method:                 Least Squares   F-statistic:                     203.4\n",
      "Date:                Sun, 31 Oct 2021   Prob (F-statistic):           6.69e-34\n",
      "Time:                        09:52:29   Log-Likelihood:                -804.77\n",
      "No. Observations:                 244   AIC:                             1614.\n",
      "Df Residuals:                     242   BIC:                             1621.\n",
      "Df Model:                           1                                         \n",
      "Covariance Type:            nonrobust                                         \n",
      "==============================================================================\n",
      "                 coef    std err          t      P>|t|      [0.025      0.975]\n",
      "------------------------------------------------------------------------------\n",
      "const          6.7503      1.006      6.707      0.000       4.768       8.733\n",
      "tip            4.3477      0.305     14.260      0.000       3.747       4.948\n",
      "==============================================================================\n",
      "Omnibus:                       58.831   Durbin-Watson:                   2.094\n",
      "Prob(Omnibus):                  0.000   Jarque-Bera (JB):              120.799\n",
      "Skew:                           1.185   Prob(JB):                     5.87e-27\n",
      "Kurtosis:                       5.502   Cond. No.                         8.50\n",
      "==============================================================================\n",
      "\n",
      "Notes:\n",
      "[1] Standard Errors assume that the covariance matrix of the errors is correctly specified. \n",
      "\n"
     ]
    },
    {
     "data": {
      "image/png": "[encoded data removed]",
      "text/plain": [
       "<Figure size 576x288 with 1 Axes>"
      ]
     },
     "metadata": {},
     "output_type": "display_data"
    }
   ],
   "source": [
    "# This time will we analyze whether the total bill effects\n",
    "# the tip people leave at restaurants\n",
    "# Load tip dataset\n",
    "tips = sns.load_dataset(\"tips\")\n",
    "# Get column data in dataset\n",
    "print(tips.columns, \"\\n\")\n",
    "\n",
    "y = tips['total_bill']\n",
    "x1 = tips['tip']\n",
    "\n",
    "# Define the intercept to the y line\n",
    "x = sm.add_constant(x1)\n",
    "\n",
    "# OLS Ordinary Least Squares : Estimates the data so a line can \n",
    "# be drawn through data points\n",
    "results = sm.OLS(y,x).fit()\n",
    "print(results.summary(), \"\\n\")\n",
    "\n",
    "plt.figure(figsize=(8,4))\n",
    "sns.regplot(x=\"total_bill\", y=\"tip\", data=tips)\n",
    "plt.show()\n",
    "\n",
    "# Here it is clear that are guess that bill amounts effect tips\n",
    "# seems to be true"
   ]
  },
  {
   "cell_type": "markdown",
   "metadata": {},
   "source": [
    "#  Forecasting\n",
    "\n",
    "You are going to choose different models depending upon the data you have. We will train our model on the first group of data (Training Data : 1st 80%). Then we test the model using the last part of our data (Test Date : Last 20%). All along we are modeling using real known true results. We should forecast into the future the same length of time we test for.\n",
    "\n",
    "These forecasts are based off of the trends provided by the data you supply. Will it definitely happen? No, but it is more likely to continue on its current trend depending on how dramatic the slope is for the prejection. If nothing dramatic occurs! But, as we know, dramatic things happen such as wars and pandemics."
   ]
  },
  {
   "cell_type": "markdown",
   "metadata": {},
   "source": [
    "#  ARIMA Model (Auto Regression)\n",
    "\n",
    "AutoRegressive Integrated Moving Average (ARIMA) is the basis for many other models. It focuses on trying to fit the data as well as possible by examining differences between values instead of the values themselves.\n",
    "\n",
    "ARIMA works very well when data values have a clear trend and seasonality. We can only make predictions based on the data we have. Any outside effects not in the data can't be used to make predictions. For example we could make predictions on stock prices, but since we don't know when a recession may occur that event can't be modeled.\n",
    "\n",
    "There is a seasonal (SARIMA) and a non-seasonal ARIMA. There is also SARIMAX which focuses on exogenous, or external factors. It differs from ARIMA in that it has a set of parameters (P, D, and Q) that focus on seasonality.\n",
    "\n",
    "AR (Autoregressions) refers to a model that regresses based on prior values."
   ]
  },
  {
   "cell_type": "markdown",
   "metadata": {},
   "source": [
    "# Regression Time Series Example with AutoReg"
   ]
  },
  {
   "cell_type": "code",
   "execution_count": 16,
   "metadata": {},
   "outputs": [
    {
     "data": {
      "text/plain": [
       "DatetimeIndex(['2017-01-03', '2017-01-04', '2017-01-05', '2017-01-06',\n",
       "               '2017-01-07', '2017-01-08', '2017-01-09', '2017-01-10',\n",
       "               '2017-01-11', '2017-01-12',\n",
       "               ...\n",
       "               '2021-08-10', '2021-08-11', '2021-08-12', '2021-08-13',\n",
       "               '2021-08-14', '2021-08-15', '2021-08-16', '2021-08-17',\n",
       "               '2021-08-18', '2021-08-19'],\n",
       "              dtype='datetime64[ns]', name='Date', length=1690, freq='D')"
      ]
     },
     "execution_count": 16,
     "metadata": {},
     "output_type": "execute_result"
    }
   ],
   "source": [
    "a_df = get_df_from_csv(\"GOOG\") \n",
    "\n",
    "a_df = a_df.asfreq('d') # Change frequency to day\n",
    "a_df = a_df.fillna(method='ffill') # Fill missing values\n",
    "a_df.index # Check frequency"
   ]
  },
  {
   "cell_type": "code",
   "execution_count": 17,
   "metadata": {},
   "outputs": [
    {
     "data": {
      "text/html": [
       "<div>\n",
       "<style scoped>\n",
       "    .dataframe tbody tr th:only-of-type {\n",
       "        vertical-align: middle;\n",
       "    }\n",
       "\n",
       "    .dataframe tbody tr th {\n",
       "        vertical-align: top;\n",
       "    }\n",
       "\n",
       "    .dataframe thead th {\n",
       "        text-align: right;\n",
       "    }\n",
       "</style>\n",
       "<table border=\"1\" class=\"dataframe\">\n",
       "  <thead>\n",
       "    <tr style=\"text-align: right;\">\n",
       "      <th></th>\n",
       "      <th>Unnamed: 0</th>\n",
       "      <th>Adj Close</th>\n",
       "      <th>daily_return</th>\n",
       "    </tr>\n",
       "    <tr>\n",
       "      <th>Date</th>\n",
       "      <th></th>\n",
       "      <th></th>\n",
       "      <th></th>\n",
       "    </tr>\n",
       "  </thead>\n",
       "  <tbody>\n",
       "    <tr>\n",
       "      <th>2017-01-03</th>\n",
       "      <td>0.0</td>\n",
       "      <td>786.140015</td>\n",
       "      <td>NaN</td>\n",
       "    </tr>\n",
       "    <tr>\n",
       "      <th>2017-01-04</th>\n",
       "      <td>1.0</td>\n",
       "      <td>786.900024</td>\n",
       "      <td>0.000967</td>\n",
       "    </tr>\n",
       "    <tr>\n",
       "      <th>2017-01-05</th>\n",
       "      <td>2.0</td>\n",
       "      <td>794.020020</td>\n",
       "      <td>0.009048</td>\n",
       "    </tr>\n",
       "    <tr>\n",
       "      <th>2017-01-06</th>\n",
       "      <td>3.0</td>\n",
       "      <td>806.150024</td>\n",
       "      <td>0.015277</td>\n",
       "    </tr>\n",
       "    <tr>\n",
       "      <th>2017-01-07</th>\n",
       "      <td>3.0</td>\n",
       "      <td>806.150024</td>\n",
       "      <td>0.015277</td>\n",
       "    </tr>\n",
       "    <tr>\n",
       "      <th>...</th>\n",
       "      <td>...</td>\n",
       "      <td>...</td>\n",
       "      <td>...</td>\n",
       "    </tr>\n",
       "    <tr>\n",
       "      <th>2021-08-15</th>\n",
       "      <td>1161.0</td>\n",
       "      <td>2768.120117</td>\n",
       "      <td>0.000119</td>\n",
       "    </tr>\n",
       "    <tr>\n",
       "      <th>2021-08-16</th>\n",
       "      <td>1162.0</td>\n",
       "      <td>2778.320068</td>\n",
       "      <td>0.003685</td>\n",
       "    </tr>\n",
       "    <tr>\n",
       "      <th>2021-08-17</th>\n",
       "      <td>1163.0</td>\n",
       "      <td>2746.010010</td>\n",
       "      <td>-0.011629</td>\n",
       "    </tr>\n",
       "    <tr>\n",
       "      <th>2021-08-18</th>\n",
       "      <td>1164.0</td>\n",
       "      <td>2731.399902</td>\n",
       "      <td>-0.005320</td>\n",
       "    </tr>\n",
       "    <tr>\n",
       "      <th>2021-08-19</th>\n",
       "      <td>1165.0</td>\n",
       "      <td>2738.270020</td>\n",
       "      <td>0.002515</td>\n",
       "    </tr>\n",
       "  </tbody>\n",
       "</table>\n",
       "<p>1690 rows × 3 columns</p>\n",
       "</div>"
      ],
      "text/plain": [
       "            Unnamed: 0    Adj Close  daily_return\n",
       "Date                                             \n",
       "2017-01-03         0.0   786.140015           NaN\n",
       "2017-01-04         1.0   786.900024      0.000967\n",
       "2017-01-05         2.0   794.020020      0.009048\n",
       "2017-01-06         3.0   806.150024      0.015277\n",
       "2017-01-07         3.0   806.150024      0.015277\n",
       "...                ...          ...           ...\n",
       "2021-08-15      1161.0  2768.120117      0.000119\n",
       "2021-08-16      1162.0  2778.320068      0.003685\n",
       "2021-08-17      1163.0  2746.010010     -0.011629\n",
       "2021-08-18      1164.0  2731.399902     -0.005320\n",
       "2021-08-19      1165.0  2738.270020      0.002515\n",
       "\n",
       "[1690 rows x 3 columns]"
      ]
     },
     "execution_count": 17,
     "metadata": {},
     "output_type": "execute_result"
    }
   ],
   "source": [
    "a_df"
   ]
  },
  {
   "cell_type": "code",
   "execution_count": 18,
   "metadata": {},
   "outputs": [
    {
     "data": {
      "text/html": [
       "<div>\n",
       "<style scoped>\n",
       "    .dataframe tbody tr th:only-of-type {\n",
       "        vertical-align: middle;\n",
       "    }\n",
       "\n",
       "    .dataframe tbody tr th {\n",
       "        vertical-align: top;\n",
       "    }\n",
       "\n",
       "    .dataframe thead th {\n",
       "        text-align: right;\n",
       "    }\n",
       "</style>\n",
       "<table border=\"1\" class=\"dataframe\">\n",
       "  <thead>\n",
       "    <tr style=\"text-align: right;\">\n",
       "      <th></th>\n",
       "      <th>Adj Close</th>\n",
       "    </tr>\n",
       "    <tr>\n",
       "      <th>Date</th>\n",
       "      <th></th>\n",
       "    </tr>\n",
       "  </thead>\n",
       "  <tbody>\n",
       "    <tr>\n",
       "      <th>2017-01-03</th>\n",
       "      <td>786.140015</td>\n",
       "    </tr>\n",
       "    <tr>\n",
       "      <th>2017-01-04</th>\n",
       "      <td>786.900024</td>\n",
       "    </tr>\n",
       "    <tr>\n",
       "      <th>2017-01-05</th>\n",
       "      <td>794.020020</td>\n",
       "    </tr>\n",
       "    <tr>\n",
       "      <th>2017-01-06</th>\n",
       "      <td>806.150024</td>\n",
       "    </tr>\n",
       "    <tr>\n",
       "      <th>2017-01-07</th>\n",
       "      <td>806.150024</td>\n",
       "    </tr>\n",
       "    <tr>\n",
       "      <th>...</th>\n",
       "      <td>...</td>\n",
       "    </tr>\n",
       "    <tr>\n",
       "      <th>2021-08-15</th>\n",
       "      <td>2768.120117</td>\n",
       "    </tr>\n",
       "    <tr>\n",
       "      <th>2021-08-16</th>\n",
       "      <td>2778.320068</td>\n",
       "    </tr>\n",
       "    <tr>\n",
       "      <th>2021-08-17</th>\n",
       "      <td>2746.010010</td>\n",
       "    </tr>\n",
       "    <tr>\n",
       "      <th>2021-08-18</th>\n",
       "      <td>2731.399902</td>\n",
       "    </tr>\n",
       "    <tr>\n",
       "      <th>2021-08-19</th>\n",
       "      <td>2738.270020</td>\n",
       "    </tr>\n",
       "  </tbody>\n",
       "</table>\n",
       "<p>1690 rows × 1 columns</p>\n",
       "</div>"
      ],
      "text/plain": [
       "              Adj Close\n",
       "Date                   \n",
       "2017-01-03   786.140015\n",
       "2017-01-04   786.900024\n",
       "2017-01-05   794.020020\n",
       "2017-01-06   806.150024\n",
       "2017-01-07   806.150024\n",
       "...                 ...\n",
       "2021-08-15  2768.120117\n",
       "2021-08-16  2778.320068\n",
       "2021-08-17  2746.010010\n",
       "2021-08-18  2731.399902\n",
       "2021-08-19  2738.270020\n",
       "\n",
       "[1690 rows x 1 columns]"
      ]
     },
     "execution_count": 18,
     "metadata": {},
     "output_type": "execute_result"
    }
   ],
   "source": [
    "# Delete unnamed column\n",
    "a_df.drop(a_df.columns[a_df.columns.str.contains('unnamed',case = False)], \n",
    "          axis = 1, inplace = True)\n",
    "\n",
    "# Delete daily return column\n",
    "a_df = a_df.drop(['daily_return'], axis=1)\n",
    "a_df"
   ]
  },
  {
   "cell_type": "code",
   "execution_count": 59,
   "metadata": {},
   "outputs": [
    {
     "data": {
      "image/png": "[encoded data removed]",
      "text/plain": [
       "<Figure size 1368x936 with 1 Axes>"
      ]
     },
     "metadata": {},
     "output_type": "display_data"
    }
   ],
   "source": [
    "from statsmodels.tsa.ar_model import AutoReg, ar_select_order\n",
    "\n",
    "# Set style for seaborn plot\n",
    "sns.set_style('darkgrid')\n",
    "# Add automatic datetime converters\n",
    "pd.plotting.register_matplotlib_converters()\n",
    "# Default figure size\n",
    "sns.mpl.rc('figure',figsize=(19, 13))\n",
    "\n",
    "# Set fig and ax\n",
    "fig, ax = plt.subplots()\n",
    "# ax = a_df.plot(ax=ax)\n",
    "\n",
    "# Figure out optimum lags which will be 1 or 2 for this data set\n",
    "lags = ar_select_order(a_df, maxlag=30)\n",
    "\n",
    "# Create our model using whole data set\n",
    "model = AutoReg(a_df['Adj Close'], lags.ar_lags)\n",
    "model_fit = model.fit()\n",
    "\n",
    "# Define training and testing area\n",
    "len(a_df) # 1166 observations\n",
    "train_df = a_df.iloc[50:1352] # 80% minus 1st 50\n",
    "test_df = a_df.iloc[1352:] # Last 20%\n",
    "\n",
    "# Define training model for 500 days (Play with Number & Test)\n",
    "# and White's covariance estimator\n",
    "train_model = AutoReg(a_df['Adj Close'], 800).fit(cov_type=\"HC0\")\n",
    "\n",
    "# Define start and end for prediction \n",
    "start = len(train_df)\n",
    "end = len(train_df) + len(test_df) - 1\n",
    "\n",
    "prediction = train_model.predict(start=start, end=end, dynamic=True)\n",
    "\n",
    "# Plot testing data with prediction\n",
    "ax = test_df.plot(ax=ax) # Orange\n",
    "ax = prediction.plot(ax=ax) # Green\n",
    "\n",
    "# Predict 100 days into the future\n",
    "forecast = train_model.predict(start=end, end=end+150, dynamic=True)\n",
    "ax = forecast.plot(ax=ax) # Green\n",
    "\n",
    "plt.legend([\"Testing Data\", \"Test Predictions\", \"Future Forecast\"])\n",
    "plt.title(\"Google Stock Price Data\")\n",
    "plt.show()"
   ]
  },
  {
   "cell_type": "code",
   "execution_count": 60,
   "metadata": {},
   "outputs": [],
   "source": [
    "import plotly.express as px\n",
    "# Allows us to create graph objects for making more customized plots\n",
    "import plotly.graph_objects as go"
   ]
  },
  {
   "cell_type": "code",
   "execution_count": 85,
   "metadata": {},
   "outputs": [
    {
     "data": {
      "application/vnd.plotly.v1+json": {
       "config": {
        "plotlyServerURL": "https://plot.ly"
       },
       "data": [
        {
         "mode": "lines",
         "name": "Test Data",
         "type": "scatter",
         "x": [
          "2020-09-16T00:00:00",
          "2020-09-17T00:00:00",
          "2020-09-18T00:00:00",
          "2020-09-19T00:00:00",
          "2020-09-20T00:00:00",
          "2020-09-21T00:00:00",
          "2020-09-22T00:00:00",
          "2020-09-23T00:00:00",
          "2020-09-24T00:00:00",
          "2020-09-25T00:00:00",
          "2020-09-26T00:00:00",
          "2020-09-27T00:00:00",
          "2020-09-28T00:00:00",
          "2020-09-29T00:00:00",
          "2020-09-30T00:00:00",
          "2020-10-01T00:00:00",
          "2020-10-02T00:00:00",
          "2020-10-03T00:00:00",
          "2020-10-04T00:00:00",
          "2020-10-05T00:00:00",
          "2020-10-06T00:00:00",
          "2020-10-07T00:00:00",
          "2020-10-08T00:00:00",
          "2020-10-09T00:00:00",
          "2020-10-10T00:00:00",
          "2020-10-11T00:00:00",
          "2020-10-12T00:00:00",
          "2020-10-13T00:00:00",
          "2020-10-14T00:00:00",
          "2020-10-15T00:00:00",
          "2020-10-16T00:00:00",
          "2020-10-17T00:00:00",
          "2020-10-18T00:00:00",
          "2020-10-19T00:00:00",
          "2020-10-20T00:00:00",
          "2020-10-21T00:00:00",
          "2020-10-22T00:00:00",
          "2020-10-23T00:00:00",
          "2020-10-24T00:00:00",
          "2020-10-25T00:00:00",
          "2020-10-26T00:00:00",
          "2020-10-27T00:00:00",
          "2020-10-28T00:00:00",
          "2020-10-29T00:00:00",
          "2020-10-30T00:00:00",
          "2020-10-31T00:00:00",
          "2020-11-01T00:00:00",
          "2020-11-02T00:00:00",
          "2020-11-03T00:00:00",
          "2020-11-04T00:00:00",
          "2020-11-05T00:00:00",
          "2020-11-06T00:00:00",
          "2020-11-07T00:00:00",
          "2020-11-08T00:00:00",
          "2020-11-09T00:00:00",
          "2020-11-10T00:00:00",
          "2020-11-11T00:00:00",
          "2020-11-12T00:00:00",
          "2020-11-13T00:00:00",
          "2020-11-14T00:00:00",
          "2020-11-15T00:00:00",
          "2020-11-16T00:00:00",
          "2020-11-17T00:00:00",
          "2020-11-18T00:00:00",
          "2020-11-19T00:00:00",
          "2020-11-20T00:00:00",
          "2020-11-21T00:00:00",
          "2020-11-22T00:00:00",
          "2020-11-23T00:00:00",
          "2020-11-24T00:00:00",
          "2020-11-25T00:00:00",
          "2020-11-26T00:00:00",
          "2020-11-27T00:00:00",
          "2020-11-28T00:00:00",
          "2020-11-29T00:00:00",
          "2020-11-30T00:00:00",
          "2020-12-01T00:00:00",
          "2020-12-02T00:00:00",
          "2020-12-03T00:00:00",
          "2020-12-04T00:00:00",
          "2020-12-05T00:00:00",
          "2020-12-06T00:00:00",
          "2020-12-07T00:00:00",
          "2020-12-08T00:00:00",
          "2020-12-09T00:00:00",
          "2020-12-10T00:00:00",
          "2020-12-11T00:00:00",
          "2020-12-12T00:00:00",
          "2020-12-13T00:00:00",
          "2020-12-14T00:00:00",
          "2020-12-15T00:00:00",
          "2020-12-16T00:00:00",
          "2020-12-17T00:00:00",
          "2020-12-18T00:00:00",
          "2020-12-19T00:00:00",
          "2020-12-20T00:00:00",
          "2020-12-21T00:00:00",
          "2020-12-22T00:00:00",
          "2020-12-23T00:00:00",
          "2020-12-24T00:00:00",
          "2020-12-25T00:00:00",
          "2020-12-26T00:00:00",
          "2020-12-27T00:00:00",
          "2020-12-28T00:00:00",
          "2020-12-29T00:00:00",
          "2020-12-30T00:00:00",
          "2020-12-31T00:00:00",
          "2021-01-01T00:00:00",
          "2021-01-02T00:00:00",
          "2021-01-03T00:00:00",
          "2021-01-04T00:00:00",
          "2021-01-05T00:00:00",
          "2021-01-06T00:00:00",
          "2021-01-07T00:00:00",
          "2021-01-08T00:00:00",
          "2021-01-09T00:00:00",
          "2021-01-10T00:00:00",
          "2021-01-11T00:00:00",
          "2021-01-12T00:00:00",
          "2021-01-13T00:00:00",
          "2021-01-14T00:00:00",
          "2021-01-15T00:00:00",
          "2021-01-16T00:00:00",
          "2021-01-17T00:00:00",
          "2021-01-18T00:00:00",
          "2021-01-19T00:00:00",
          "2021-01-20T00:00:00",
          "2021-01-21T00:00:00",
          "2021-01-22T00:00:00",
          "2021-01-23T00:00:00",
          "2021-01-24T00:00:00",
          "2021-01-25T00:00:00",
          "2021-01-26T00:00:00",
          "2021-01-27T00:00:00",
          "2021-01-28T00:00:00",
          "2021-01-29T00:00:00",
          "2021-01-30T00:00:00",
          "2021-01-31T00:00:00",
          "2021-02-01T00:00:00",
          "2021-02-02T00:00:00",
          "2021-02-03T00:00:00",
          "2021-02-04T00:00:00",
          "2021-02-05T00:00:00",
          "2021-02-06T00:00:00",
          "2021-02-07T00:00:00",
          "2021-02-08T00:00:00",
          "2021-02-09T00:00:00",
          "2021-02-10T00:00:00",
          "2021-02-11T00:00:00",
          "2021-02-12T00:00:00",
          "2021-02-13T00:00:00",
          "2021-02-14T00:00:00",
          "2021-02-15T00:00:00",
          "2021-02-16T00:00:00",
          "2021-02-17T00:00:00",
          "2021-02-18T00:00:00",
          "2021-02-19T00:00:00",
          "2021-02-20T00:00:00",
          "2021-02-21T00:00:00",
          "2021-02-22T00:00:00",
          "2021-02-23T00:00:00",
          "2021-02-24T00:00:00",
          "2021-02-25T00:00:00",
          "2021-02-26T00:00:00",
          "2021-02-27T00:00:00",
          "2021-02-28T00:00:00",
          "2021-03-01T00:00:00",
          "2021-03-02T00:00:00",
          "2021-03-03T00:00:00",
          "2021-03-04T00:00:00",
          "2021-03-05T00:00:00",
          "2021-03-06T00:00:00",
          "2021-03-07T00:00:00",
          "2021-03-08T00:00:00",
          "2021-03-09T00:00:00",
          "2021-03-10T00:00:00",
          "2021-03-11T00:00:00",
          "2021-03-12T00:00:00",
          "2021-03-13T00:00:00",
          "2021-03-14T00:00:00",
          "2021-03-15T00:00:00",
          "2021-03-16T00:00:00",
          "2021-03-17T00:00:00",
          "2021-03-18T00:00:00",
          "2021-03-19T00:00:00",
          "2021-03-20T00:00:00",
          "2021-03-21T00:00:00",
          "2021-03-22T00:00:00",
          "2021-03-23T00:00:00",
          "2021-03-24T00:00:00",
          "2021-03-25T00:00:00",
          "2021-03-26T00:00:00",
          "2021-03-27T00:00:00",
          "2021-03-28T00:00:00",
          "2021-03-29T00:00:00",
          "2021-03-30T00:00:00",
          "2021-03-31T00:00:00",
          "2021-04-01T00:00:00",
          "2021-04-02T00:00:00",
          "2021-04-03T00:00:00",
          "2021-04-04T00:00:00",
          "2021-04-05T00:00:00",
          "2021-04-06T00:00:00",
          "2021-04-07T00:00:00",
          "2021-04-08T00:00:00",
          "2021-04-09T00:00:00",
          "2021-04-10T00:00:00",
          "2021-04-11T00:00:00",
          "2021-04-12T00:00:00",
          "2021-04-13T00:00:00",
          "2021-04-14T00:00:00",
          "2021-04-15T00:00:00",
          "2021-04-16T00:00:00",
          "2021-04-17T00:00:00",
          "2021-04-18T00:00:00",
          "2021-04-19T00:00:00",
          "2021-04-20T00:00:00",
          "2021-04-21T00:00:00",
          "2021-04-22T00:00:00",
          "2021-04-23T00:00:00",
          "2021-04-24T00:00:00",
          "2021-04-25T00:00:00",
          "2021-04-26T00:00:00",
          "2021-04-27T00:00:00",
          "2021-04-28T00:00:00",
          "2021-04-29T00:00:00",
          "2021-04-30T00:00:00",
          "2021-05-01T00:00:00",
          "2021-05-02T00:00:00",
          "2021-05-03T00:00:00",
          "2021-05-04T00:00:00",
          "2021-05-05T00:00:00",
          "2021-05-06T00:00:00",
          "2021-05-07T00:00:00",
          "2021-05-08T00:00:00",
          "2021-05-09T00:00:00",
          "2021-05-10T00:00:00",
          "2021-05-11T00:00:00",
          "2021-05-12T00:00:00",
          "2021-05-13T00:00:00",
          "2021-05-14T00:00:00",
          "2021-05-15T00:00:00",
          "2021-05-16T00:00:00",
          "2021-05-17T00:00:00",
          "2021-05-18T00:00:00",
          "2021-05-19T00:00:00",
          "2021-05-20T00:00:00",
          "2021-05-21T00:00:00",
          "2021-05-22T00:00:00",
          "2021-05-23T00:00:00",
          "2021-05-24T00:00:00",
          "2021-05-25T00:00:00",
          "2021-05-26T00:00:00",
          "2021-05-27T00:00:00",
          "2021-05-28T00:00:00",
          "2021-05-29T00:00:00",
          "2021-05-30T00:00:00",
          "2021-05-31T00:00:00",
          "2021-06-01T00:00:00",
          "2021-06-02T00:00:00",
          "2021-06-03T00:00:00",
          "2021-06-04T00:00:00",
          "2021-06-05T00:00:00",
          "2021-06-06T00:00:00",
          "2021-06-07T00:00:00",
          "2021-06-08T00:00:00",
          "2021-06-09T00:00:00",
          "2021-06-10T00:00:00",
          "2021-06-11T00:00:00",
          "2021-06-12T00:00:00",
          "2021-06-13T00:00:00",
          "2021-06-14T00:00:00",
          "2021-06-15T00:00:00",
          "2021-06-16T00:00:00",
          "2021-06-17T00:00:00",
          "2021-06-18T00:00:00",
          "2021-06-19T00:00:00",
          "2021-06-20T00:00:00",
          "2021-06-21T00:00:00",
          "2021-06-22T00:00:00",
          "2021-06-23T00:00:00",
          "2021-06-24T00:00:00",
          "2021-06-25T00:00:00",
          "2021-06-26T00:00:00",
          "2021-06-27T00:00:00",
          "2021-06-28T00:00:00",
          "2021-06-29T00:00:00",
          "2021-06-30T00:00:00",
          "2021-07-01T00:00:00",
          "2021-07-02T00:00:00",
          "2021-07-03T00:00:00",
          "2021-07-04T00:00:00",
          "2021-07-05T00:00:00",
          "2021-07-06T00:00:00",
          "2021-07-07T00:00:00",
          "2021-07-08T00:00:00",
          "2021-07-09T00:00:00",
          "2021-07-10T00:00:00",
          "2021-07-11T00:00:00",
          "2021-07-12T00:00:00",
          "2021-07-13T00:00:00",
          "2021-07-14T00:00:00",
          "2021-07-15T00:00:00",
          "2021-07-16T00:00:00",
          "2021-07-17T00:00:00",
          "2021-07-18T00:00:00",
          "2021-07-19T00:00:00",
          "2021-07-20T00:00:00",
          "2021-07-21T00:00:00",
          "2021-07-22T00:00:00",
          "2021-07-23T00:00:00",
          "2021-07-24T00:00:00",
          "2021-07-25T00:00:00",
          "2021-07-26T00:00:00",
          "2021-07-27T00:00:00",
          "2021-07-28T00:00:00",
          "2021-07-29T00:00:00",
          "2021-07-30T00:00:00",
          "2021-07-31T00:00:00",
          "2021-08-01T00:00:00",
          "2021-08-02T00:00:00",
          "2021-08-03T00:00:00",
          "2021-08-04T00:00:00",
          "2021-08-05T00:00:00",
          "2021-08-06T00:00:00",
          "2021-08-07T00:00:00",
          "2021-08-08T00:00:00",
          "2021-08-09T00:00:00",
          "2021-08-10T00:00:00",
          "2021-08-11T00:00:00",
          "2021-08-12T00:00:00",
          "2021-08-13T00:00:00",
          "2021-08-14T00:00:00",
          "2021-08-15T00:00:00",
          "2021-08-16T00:00:00",
          "2021-08-17T00:00:00",
          "2021-08-18T00:00:00",
          "2021-08-19T00:00:00"
         ],
         "y": [
          1520.9000244140625,
          1495.530029296875,
          1459.989990234375,
          1459.989990234375,
          1459.989990234375,
          1431.1600341796875,
          1465.4599609375,
          1415.2099609375,
          1428.2900390625,
          1444.9599609375,
          1444.9599609375,
          1444.9599609375,
          1464.52001953125,
          1469.3299560546875,
          1469.5999755859375,
          1490.0899658203125,
          1458.4200439453125,
          1458.4200439453125,
          1458.4200439453125,
          1486.02001953125,
          1453.43994140625,
          1460.2900390625,
          1485.9300537109375,
          1515.219970703125,
          1515.219970703125,
          1515.219970703125,
          1569.1500244140625,
          1571.6800537109375,
          1568.0799560546875,
          1559.1300048828125,
          1573.010009765625,
          1573.010009765625,
          1573.010009765625,
          1534.6099853515625,
          1555.9300537109375,
          1593.31005859375,
          1615.3299560546875,
          1641,
          1641,
          1641,
          1590.449951171875,
          1604.260009765625,
          1516.6199951171875,
          1567.239990234375,
          1621.010009765625,
          1621.010009765625,
          1621.010009765625,
          1626.030029296875,
          1650.2099609375,
          1749.1300048828125,
          1763.3699951171875,
          1761.75,
          1761.75,
          1761.75,
          1763,
          1740.3900146484375,
          1752.7099609375,
          1749.8399658203125,
          1777.02001953125,
          1777.02001953125,
          1777.02001953125,
          1781.3800048828125,
          1770.1500244140625,
          1746.780029296875,
          1763.9200439453125,
          1742.18994140625,
          1742.18994140625,
          1742.18994140625,
          1734.8599853515625,
          1768.8800048828125,
          1771.4300537109375,
          1771.4300537109375,
          1793.18994140625,
          1793.18994140625,
          1793.18994140625,
          1760.739990234375,
          1798.0999755859375,
          1827.949951171875,
          1826.77001953125,
          1827.989990234375,
          1827.989990234375,
          1827.989990234375,
          1819.47998046875,
          1818.550048828125,
          1784.1300048828125,
          1775.3299560546875,
          1781.77001953125,
          1781.77001953125,
          1781.77001953125,
          1760.06005859375,
          1767.77001953125,
          1763,
          1747.9000244140625,
          1731.010009765625,
          1731.010009765625,
          1731.010009765625,
          1739.3699951171875,
          1723.5,
          1732.3800048828125,
          1738.8499755859375,
          1738.8499755859375,
          1738.8499755859375,
          1738.8499755859375,
          1776.0899658203125,
          1758.719970703125,
          1739.52001953125,
          1751.8800048828125,
          1751.8800048828125,
          1751.8800048828125,
          1751.8800048828125,
          1728.239990234375,
          1740.9200439453125,
          1735.2900390625,
          1787.25,
          1807.2099609375,
          1807.2099609375,
          1807.2099609375,
          1766.719970703125,
          1746.550048828125,
          1754.4000244140625,
          1740.1800537109375,
          1736.18994140625,
          1736.18994140625,
          1736.18994140625,
          1736.18994140625,
          1790.8599853515625,
          1886.9000244140625,
          1891.25,
          1901.050048828125,
          1901.050048828125,
          1901.050048828125,
          1899.4000244140625,
          1917.239990234375,
          1830.7900390625,
          1863.1099853515625,
          1835.739990234375,
          1835.739990234375,
          1835.739990234375,
          1901.3499755859373,
          1927.510009765625,
          2070.070068359375,
          2062.3701171875,
          2098,
          2098,
          2098,
          2092.909912109375,
          2083.510009765625,
          2095.3798828125,
          2095.889892578125,
          2104.110107421875,
          2104.110107421875,
          2104.110107421875,
          2104.110107421875,
          2121.89990234375,
          2128.31005859375,
          2117.199951171875,
          2101.139892578125,
          2101.139892578125,
          2101.139892578125,
          2064.8798828125,
          2070.860107421875,
          2095.169921875,
          2031.3599853515625,
          2036.8599853515625,
          2036.8599853515625,
          2036.8599853515625,
          2081.510009765625,
          2075.840087890625,
          2026.7099609375,
          2049.090087890625,
          2108.5400390625,
          2108.5400390625,
          2108.5400390625,
          2024.1700439453125,
          2052.699951171875,
          2055.030029296875,
          2114.77001953125,
          2061.919921875,
          2061.919921875,
          2061.919921875,
          2066.489990234375,
          2092.52001953125,
          2091.080078125,
          2036.219970703125,
          2043.199951171875,
          2043.199951171875,
          2043.199951171875,
          2038.5899658203125,
          2052.9599609375,
          2045.06005859375,
          2044.3599853515625,
          2035.550048828125,
          2035.550048828125,
          2035.550048828125,
          2055.949951171875,
          2055.5400390625,
          2068.6298828125,
          2137.75,
          2137.75,
          2137.75,
          2137.75,
          2225.550048828125,
          2224.75,
          2249.679931640625,
          2265.43994140625,
          2285.8798828125,
          2285.8798828125,
          2285.8798828125,
          2254.7900390625,
          2267.27001953125,
          2254.840087890625,
          2296.659912109375,
          2297.760009765625,
          2297.760009765625,
          2297.760009765625,
          2302.39990234375,
          2293.6298828125,
          2293.2900390625,
          2267.919921875,
          2315.300048828125,
          2315.300048828125,
          2315.300048828125,
          2326.739990234375,
          2307.1201171875,
          2379.909912109375,
          2429.889892578125,
          2410.1201171875,
          2410.1201171875,
          2410.1201171875,
          2395.169921875,
          2354.25,
          2356.739990234375,
          2381.35009765625,
          2398.68994140625,
          2398.68994140625,
          2398.68994140625,
          2341.659912109375,
          2308.760009765625,
          2239.080078125,
          2261.969970703125,
          2316.159912109375,
          2316.159912109375,
          2316.159912109375,
          2321.409912109375,
          2303.429931640625,
          2308.7099609375,
          2356.090087890625,
          2345.10009765625,
          2345.10009765625,
          2345.10009765625,
          2406.669921875,
          2409.070068359375,
          2433.530029296875,
          2402.510009765625,
          2411.56005859375,
          2411.56005859375,
          2411.56005859375,
          2411.56005859375,
          2429.81005859375,
          2421.280029296875,
          2404.610107421875,
          2451.760009765625,
          2451.760009765625,
          2451.760009765625,
          2466.090087890625,
          2482.85009765625,
          2491.39990234375,
          2521.60009765625,
          2513.929931640625,
          2513.929931640625,
          2513.929931640625,
          2527.0400390625,
          2520.659912109375,
          2513.929931640625,
          2527.419921875,
          2511.35009765625,
          2511.35009765625,
          2511.35009765625,
          2529.10009765625,
          2539.989990234375,
          2529.22998046875,
          2545.639892578125,
          2539.89990234375,
          2539.89990234375,
          2539.89990234375,
          2536.389892578125,
          2520.3701171875,
          2506.320068359375,
          2527.3701171875,
          2574.3798828125,
          2574.3798828125,
          2574.3798828125,
          2574.3798828125,
          2595.419921875,
          2601.550048828125,
          2583.5400390625,
          2591.489990234375,
          2591.489990234375,
          2591.489990234375,
          2611.280029296875,
          2619.889892578125,
          2641.64990234375,
          2625.330078125,
          2636.909912109375,
          2636.909912109375,
          2636.909912109375,
          2585.080078125,
          2622.030029296875,
          2652.010009765625,
          2666.570068359375,
          2756.320068359375,
          2756.320068359375,
          2756.320068359375,
          2792.889892578125,
          2735.929931640625,
          2727.6298828125,
          2730.81005859375,
          2704.419921875,
          2704.419921875,
          2704.419921875,
          2719.7900390625,
          2725.60009765625,
          2720.570068359375,
          2738.800048828125,
          2740.719970703125,
          2740.719970703125,
          2740.719970703125,
          2760.0400390625,
          2761.929931640625,
          2753.7900390625,
          2767.7900390625,
          2768.1201171875,
          2768.1201171875,
          2768.1201171875,
          2778.320068359375,
          2746.010009765625,
          2731.39990234375,
          2738.27001953125
         ]
        },
        {
         "mode": "lines",
         "name": "Test Predictions",
         "type": "scatter",
         "x": [
          "2020-07-28T00:00:00",
          "2020-07-29T00:00:00",
          "2020-07-30T00:00:00",
          "2020-07-31T00:00:00",
          "2020-08-01T00:00:00",
          "2020-08-02T00:00:00",
          "2020-08-03T00:00:00",
          "2020-08-04T00:00:00",
          "2020-08-05T00:00:00",
          "2020-08-06T00:00:00",
          "2020-08-07T00:00:00",
          "2020-08-08T00:00:00",
          "2020-08-09T00:00:00",
          "2020-08-10T00:00:00",
          "2020-08-11T00:00:00",
          "2020-08-12T00:00:00",
          "2020-08-13T00:00:00",
          "2020-08-14T00:00:00",
          "2020-08-15T00:00:00",
          "2020-08-16T00:00:00",
          "2020-08-17T00:00:00",
          "2020-08-18T00:00:00",
          "2020-08-19T00:00:00",
          "2020-08-20T00:00:00",
          "2020-08-21T00:00:00",
          "2020-08-22T00:00:00",
          "2020-08-23T00:00:00",
          "2020-08-24T00:00:00",
          "2020-08-25T00:00:00",
          "2020-08-26T00:00:00",
          "2020-08-27T00:00:00",
          "2020-08-28T00:00:00",
          "2020-08-29T00:00:00",
          "2020-08-30T00:00:00",
          "2020-08-31T00:00:00",
          "2020-09-01T00:00:00",
          "2020-09-02T00:00:00",
          "2020-09-03T00:00:00",
          "2020-09-04T00:00:00",
          "2020-09-05T00:00:00",
          "2020-09-06T00:00:00",
          "2020-09-07T00:00:00",
          "2020-09-08T00:00:00",
          "2020-09-09T00:00:00",
          "2020-09-10T00:00:00",
          "2020-09-11T00:00:00",
          "2020-09-12T00:00:00",
          "2020-09-13T00:00:00",
          "2020-09-14T00:00:00",
          "2020-09-15T00:00:00",
          "2020-09-16T00:00:00",
          "2020-09-17T00:00:00",
          "2020-09-18T00:00:00",
          "2020-09-19T00:00:00",
          "2020-09-20T00:00:00",
          "2020-09-21T00:00:00",
          "2020-09-22T00:00:00",
          "2020-09-23T00:00:00",
          "2020-09-24T00:00:00",
          "2020-09-25T00:00:00",
          "2020-09-26T00:00:00",
          "2020-09-27T00:00:00",
          "2020-09-28T00:00:00",
          "2020-09-29T00:00:00",
          "2020-09-30T00:00:00",
          "2020-10-01T00:00:00",
          "2020-10-02T00:00:00",
          "2020-10-03T00:00:00",
          "2020-10-04T00:00:00",
          "2020-10-05T00:00:00",
          "2020-10-06T00:00:00",
          "2020-10-07T00:00:00",
          "2020-10-08T00:00:00",
          "2020-10-09T00:00:00",
          "2020-10-10T00:00:00",
          "2020-10-11T00:00:00",
          "2020-10-12T00:00:00",
          "2020-10-13T00:00:00",
          "2020-10-14T00:00:00",
          "2020-10-15T00:00:00",
          "2020-10-16T00:00:00",
          "2020-10-17T00:00:00",
          "2020-10-18T00:00:00",
          "2020-10-19T00:00:00",
          "2020-10-20T00:00:00",
          "2020-10-21T00:00:00",
          "2020-10-22T00:00:00",
          "2020-10-23T00:00:00",
          "2020-10-24T00:00:00",
          "2020-10-25T00:00:00",
          "2020-10-26T00:00:00",
          "2020-10-27T00:00:00",
          "2020-10-28T00:00:00",
          "2020-10-29T00:00:00",
          "2020-10-30T00:00:00",
          "2020-10-31T00:00:00",
          "2020-11-01T00:00:00",
          "2020-11-02T00:00:00",
          "2020-11-03T00:00:00",
          "2020-11-04T00:00:00",
          "2020-11-05T00:00:00",
          "2020-11-06T00:00:00",
          "2020-11-07T00:00:00",
          "2020-11-08T00:00:00",
          "2020-11-09T00:00:00",
          "2020-11-10T00:00:00",
          "2020-11-11T00:00:00",
          "2020-11-12T00:00:00",
          "2020-11-13T00:00:00",
          "2020-11-14T00:00:00",
          "2020-11-15T00:00:00",
          "2020-11-16T00:00:00",
          "2020-11-17T00:00:00",
          "2020-11-18T00:00:00",
          "2020-11-19T00:00:00",
          "2020-11-20T00:00:00",
          "2020-11-21T00:00:00",
          "2020-11-22T00:00:00",
          "2020-11-23T00:00:00",
          "2020-11-24T00:00:00",
          "2020-11-25T00:00:00",
          "2020-11-26T00:00:00",
          "2020-11-27T00:00:00",
          "2020-11-28T00:00:00",
          "2020-11-29T00:00:00",
          "2020-11-30T00:00:00",
          "2020-12-01T00:00:00",
          "2020-12-02T00:00:00",
          "2020-12-03T00:00:00",
          "2020-12-04T00:00:00",
          "2020-12-05T00:00:00",
          "2020-12-06T00:00:00",
          "2020-12-07T00:00:00",
          "2020-12-08T00:00:00",
          "2020-12-09T00:00:00",
          "2020-12-10T00:00:00",
          "2020-12-11T00:00:00",
          "2020-12-12T00:00:00",
          "2020-12-13T00:00:00",
          "2020-12-14T00:00:00",
          "2020-12-15T00:00:00",
          "2020-12-16T00:00:00",
          "2020-12-17T00:00:00",
          "2020-12-18T00:00:00",
          "2020-12-19T00:00:00",
          "2020-12-20T00:00:00",
          "2020-12-21T00:00:00",
          "2020-12-22T00:00:00",
          "2020-12-23T00:00:00",
          "2020-12-24T00:00:00",
          "2020-12-25T00:00:00",
          "2020-12-26T00:00:00",
          "2020-12-27T00:00:00",
          "2020-12-28T00:00:00",
          "2020-12-29T00:00:00",
          "2020-12-30T00:00:00",
          "2020-12-31T00:00:00",
          "2021-01-01T00:00:00",
          "2021-01-02T00:00:00",
          "2021-01-03T00:00:00",
          "2021-01-04T00:00:00",
          "2021-01-05T00:00:00",
          "2021-01-06T00:00:00",
          "2021-01-07T00:00:00",
          "2021-01-08T00:00:00",
          "2021-01-09T00:00:00",
          "2021-01-10T00:00:00",
          "2021-01-11T00:00:00",
          "2021-01-12T00:00:00",
          "2021-01-13T00:00:00",
          "2021-01-14T00:00:00",
          "2021-01-15T00:00:00",
          "2021-01-16T00:00:00",
          "2021-01-17T00:00:00",
          "2021-01-18T00:00:00",
          "2021-01-19T00:00:00",
          "2021-01-20T00:00:00",
          "2021-01-21T00:00:00",
          "2021-01-22T00:00:00",
          "2021-01-23T00:00:00",
          "2021-01-24T00:00:00",
          "2021-01-25T00:00:00",
          "2021-01-26T00:00:00",
          "2021-01-27T00:00:00",
          "2021-01-28T00:00:00",
          "2021-01-29T00:00:00",
          "2021-01-30T00:00:00",
          "2021-01-31T00:00:00",
          "2021-02-01T00:00:00",
          "2021-02-02T00:00:00",
          "2021-02-03T00:00:00",
          "2021-02-04T00:00:00",
          "2021-02-05T00:00:00",
          "2021-02-06T00:00:00",
          "2021-02-07T00:00:00",
          "2021-02-08T00:00:00",
          "2021-02-09T00:00:00",
          "2021-02-10T00:00:00",
          "2021-02-11T00:00:00",
          "2021-02-12T00:00:00",
          "2021-02-13T00:00:00",
          "2021-02-14T00:00:00",
          "2021-02-15T00:00:00",
          "2021-02-16T00:00:00",
          "2021-02-17T00:00:00",
          "2021-02-18T00:00:00",
          "2021-02-19T00:00:00",
          "2021-02-20T00:00:00",
          "2021-02-21T00:00:00",
          "2021-02-22T00:00:00",
          "2021-02-23T00:00:00",
          "2021-02-24T00:00:00",
          "2021-02-25T00:00:00",
          "2021-02-26T00:00:00",
          "2021-02-27T00:00:00",
          "2021-02-28T00:00:00",
          "2021-03-01T00:00:00",
          "2021-03-02T00:00:00",
          "2021-03-03T00:00:00",
          "2021-03-04T00:00:00",
          "2021-03-05T00:00:00",
          "2021-03-06T00:00:00",
          "2021-03-07T00:00:00",
          "2021-03-08T00:00:00",
          "2021-03-09T00:00:00",
          "2021-03-10T00:00:00",
          "2021-03-11T00:00:00",
          "2021-03-12T00:00:00",
          "2021-03-13T00:00:00",
          "2021-03-14T00:00:00",
          "2021-03-15T00:00:00",
          "2021-03-16T00:00:00",
          "2021-03-17T00:00:00",
          "2021-03-18T00:00:00",
          "2021-03-19T00:00:00",
          "2021-03-20T00:00:00",
          "2021-03-21T00:00:00",
          "2021-03-22T00:00:00",
          "2021-03-23T00:00:00",
          "2021-03-24T00:00:00",
          "2021-03-25T00:00:00",
          "2021-03-26T00:00:00",
          "2021-03-27T00:00:00",
          "2021-03-28T00:00:00",
          "2021-03-29T00:00:00",
          "2021-03-30T00:00:00",
          "2021-03-31T00:00:00",
          "2021-04-01T00:00:00",
          "2021-04-02T00:00:00",
          "2021-04-03T00:00:00",
          "2021-04-04T00:00:00",
          "2021-04-05T00:00:00",
          "2021-04-06T00:00:00",
          "2021-04-07T00:00:00",
          "2021-04-08T00:00:00",
          "2021-04-09T00:00:00",
          "2021-04-10T00:00:00",
          "2021-04-11T00:00:00",
          "2021-04-12T00:00:00",
          "2021-04-13T00:00:00",
          "2021-04-14T00:00:00",
          "2021-04-15T00:00:00",
          "2021-04-16T00:00:00",
          "2021-04-17T00:00:00",
          "2021-04-18T00:00:00",
          "2021-04-19T00:00:00",
          "2021-04-20T00:00:00",
          "2021-04-21T00:00:00",
          "2021-04-22T00:00:00",
          "2021-04-23T00:00:00",
          "2021-04-24T00:00:00",
          "2021-04-25T00:00:00",
          "2021-04-26T00:00:00",
          "2021-04-27T00:00:00",
          "2021-04-28T00:00:00",
          "2021-04-29T00:00:00",
          "2021-04-30T00:00:00",
          "2021-05-01T00:00:00",
          "2021-05-02T00:00:00",
          "2021-05-03T00:00:00",
          "2021-05-04T00:00:00",
          "2021-05-05T00:00:00",
          "2021-05-06T00:00:00",
          "2021-05-07T00:00:00",
          "2021-05-08T00:00:00",
          "2021-05-09T00:00:00",
          "2021-05-10T00:00:00",
          "2021-05-11T00:00:00",
          "2021-05-12T00:00:00",
          "2021-05-13T00:00:00",
          "2021-05-14T00:00:00",
          "2021-05-15T00:00:00",
          "2021-05-16T00:00:00",
          "2021-05-17T00:00:00",
          "2021-05-18T00:00:00",
          "2021-05-19T00:00:00",
          "2021-05-20T00:00:00",
          "2021-05-21T00:00:00",
          "2021-05-22T00:00:00",
          "2021-05-23T00:00:00",
          "2021-05-24T00:00:00",
          "2021-05-25T00:00:00",
          "2021-05-26T00:00:00",
          "2021-05-27T00:00:00",
          "2021-05-28T00:00:00",
          "2021-05-29T00:00:00",
          "2021-05-30T00:00:00",
          "2021-05-31T00:00:00",
          "2021-06-01T00:00:00",
          "2021-06-02T00:00:00",
          "2021-06-03T00:00:00",
          "2021-06-04T00:00:00",
          "2021-06-05T00:00:00",
          "2021-06-06T00:00:00",
          "2021-06-07T00:00:00",
          "2021-06-08T00:00:00",
          "2021-06-09T00:00:00",
          "2021-06-10T00:00:00",
          "2021-06-11T00:00:00",
          "2021-06-12T00:00:00",
          "2021-06-13T00:00:00",
          "2021-06-14T00:00:00",
          "2021-06-15T00:00:00",
          "2021-06-16T00:00:00",
          "2021-06-17T00:00:00",
          "2021-06-18T00:00:00",
          "2021-06-19T00:00:00",
          "2021-06-20T00:00:00",
          "2021-06-21T00:00:00",
          "2021-06-22T00:00:00",
          "2021-06-23T00:00:00",
          "2021-06-24T00:00:00",
          "2021-06-25T00:00:00",
          "2021-06-26T00:00:00",
          "2021-06-27T00:00:00",
          "2021-06-28T00:00:00",
          "2021-06-29T00:00:00",
          "2021-06-30T00:00:00"
         ],
         "y": [
          1505.5281554562864,
          1519.4048079533438,
          1531.6674010269542,
          1471.5960133239262,
          1490.8257189039273,
          1494.5176606494358,
          1481.623326282846,
          1469.2860755129911,
          1477.6200347254762,
          1498.5633034046466,
          1495.3214571509836,
          1491.0220881388532,
          1502.5495383869663,
          1505.8161676820746,
          1490.4807680252945,
          1511.5939463635389,
          1522.8972197124576,
          1519.4175503053439,
          1529.268992473569,
          1517.957894496746,
          1529.102989794487,
          1571.777904094816,
          1564.6465319811218,
          1572.5578769884683,
          1563.5717730132305,
          1555.3310150675084,
          1579.321837884389,
          1593.0705353405133,
          1594.9764444108132,
          1627.0265143913157,
          1612.6026340738808,
          1613.615969374559,
          1609.307202913963,
          1594.232387948935,
          1597.6040355403918,
          1621.8432648117307,
          1682.1600584659525,
          1604.5738688304054,
          1565.3279103778448,
          1589.827359376953,
          1583.6551397043063,
          1574.2032221258778,
          1536.1529299246956,
          1564.5049207137113,
          1548.6786476088566,
          1529.78840490199,
          1522.1244131402243,
          1526.539717204468,
          1533.3343651126652,
          1560.9036258229164,
          1542.4968855064178,
          1521.2018269413059,
          1482.2971877944533,
          1483.4654909057963,
          1482.666032844477,
          1441.4613105103635,
          1477.4524439847219,
          1428.9715994482087,
          1435.2585838392074,
          1452.4397910836042,
          1467.8043442899727,
          1460.8875219074168,
          1477.2658258393546,
          1472.528100570808,
          1463.3520311172904,
          1493.8404700570277,
          1477.4219044040783,
          1480.7072442277838,
          1466.5836631317618,
          1492.317857898445,
          1462.2266511353237,
          1475.7800318236805,
          1495.5921220194302,
          1510.4524937794008,
          1507.0092809801065,
          1516.3673839733349,
          1555.1975655898664,
          1548.9184793924248,
          1545.6500166336473,
          1546.5021681620415,
          1581.7502655739854,
          1577.1720800143964,
          1584.0220126240301,
          1558.214853292041,
          1578.096111549534,
          1611.0260153162237,
          1611.572132678748,
          1620.4932927480083,
          1634.052689658188,
          1633.9185405032802,
          1585.8234295383004,
          1603.0092838560784,
          1544.0758684870532,
          1591.5607239028209,
          1633.3703345950646,
          1634.8887102571352,
          1638.6762103805424,
          1644.4647105833933,
          1648.3062607257282,
          1729.1380347529227,
          1745.8085227782253,
          1758.3848668737587,
          1755.8019486513053,
          1750.8766173595595,
          1753.3452774911816,
          1736.9030369695954,
          1762.6943821874538,
          1763.4730257971905,
          1766.4310277680986,
          1758.0112062940066,
          1754.6418055512104,
          1756.1494281768375,
          1769.0593505582833,
          1737.1276018829694,
          1766.5692103141957,
          1760.6972888308285,
          1755.466767558154,
          1760.803928112102,
          1752.313035971865,
          1776.9288300779042,
          1767.128768460287,
          1764.5915096393508,
          1775.238767773464,
          1776.685579782913,
          1783.802502662635,
          1747.9966333139178,
          1785.216503645861,
          1810.4703012381065,
          1807.188336031615,
          1835.0873132747008,
          1822.792042374793,
          1816.3576427328285,
          1793.7939176933337,
          1806.1426181303514,
          1777.261315722958,
          1775.6365304827127,
          1779.873033488366,
          1786.7862712188382,
          1778.771130348211,
          1755.6087205710537,
          1755.1753396766926,
          1759.2255126768102,
          1743.8108892366781,
          1726.072376470343,
          1721.2705278033077,
          1715.0298802711134,
          1727.5943896696365,
          1722.9878296190977,
          1720.1902026721737,
          1725.249749736875,
          1734.5427562160553,
          1725.1111715124252,
          1718.1170723907276,
          1757.341804002122,
          1724.7704626112818,
          1716.083371655304,
          1720.7859693799778,
          1721.2449321511456,
          1721.2141300782284,
          1723.0508688542495,
          1692.9047940771402,
          1716.0780455494362,
          1707.1763131339924,
          1747.0128049438697,
          1767.429372011572,
          1776.1346058216707,
          1778.3509720094498,
          1755.6662075789034,
          1738.2077786702814,
          1755.522215422798,
          1742.5809189807355,
          1717.019327460209,
          1717.7766226212361,
          1720.7399695069482,
          1719.4835360642337,
          1759.8402912444883,
          1834.514103506135,
          1841.638302176548,
          1855.2107519884435,
          1871.6747072070664,
          1880.8153999913027,
          1879.1996692674106,
          1904.359627843154,
          1818.4793322230034,
          1849.8904906664234,
          1824.5253121009057,
          1811.0893964238635,
          1827.4773056895356,
          1876.2858324065655,
          1887.942534927734,
          2034.4784130329094,
          2042.9627910957656,
          2084.43496252297,
          2077.992992540924,
          2068.9955846085204,
          2070.5472483030508,
          2060.1849446090428,
          2073.8400885545916,
          2060.2763574588353,
          2073.991969570102,
          2078.3746583155676,
          2092.6191352512656,
          2089.3658344619407,
          2103.2951382956307,
          2107.9043552657413,
          2118.312212810332,
          2109.785708728279,
          2101.956582915111,
          2097.101960759711,
          2063.9998818117583,
          2056.9234956025284,
          2083.740934369929,
          2014.9184545677217,
          2039.2107386338596,
          2041.7353200594373,
          2032.0431463701102,
          2058.79069167844,
          2061.1466138552405,
          2015.6444401033966,
          2057.503247730537,
          2087.394636504041,
          2078.078086292727,
          2079.1618641523414,
          2023.6444011518736,
          2040.666376007687,
          2038.9148946100345,
          2080.807703865712,
          2046.5412881737604,
          2065.7326473461053,
          2053.2148602670854,
          2064.630428215156,
          2111.8175386696885,
          2106.847406108828,
          2060.509730939091,
          2067.179024112788,
          2067.9595115063566,
          2063.3943343228516,
          2072.526812288814,
          2074.392022820066,
          2051.2286896188675,
          2048.7741708893705,
          2034.4806541144574,
          2036.6666190309,
          2031.0354546309597,
          2033.768539413121,
          2053.8186439050373,
          2067.7477939904693,
          2113.305578267512,
          2118.20886402858,
          2120.5267869248773,
          2122.611346658846,
          2202.561497729395,
          2189.0486664838163,
          2212.4001871589862,
          2253.9107048388328,
          2266.6949935470525,
          2254.6329070528277,
          2268.7144507825697,
          2247.5299121610446,
          2259.9295707935803,
          2249.8440039145034,
          2272.448063948663,
          2283.3596570557793,
          2286.878842017429,
          2285.7629535955894,
          2282.1525619016043,
          2285.2872019661963,
          2300.947580685449,
          2281.927461586969,
          2315.304403524662,
          2314.7360031801095,
          2318.6786419976634,
          2329.8610093114476,
          2284.0869508359747,
          2344.9077890840977,
          2386.355885643875,
          2366.9653426385285,
          2366.9383081688297,
          2360.4546014888083,
          2343.7881000893935,
          2320.534401088205,
          2337.428893085537,
          2352.527849723765,
          2375.262187365328,
          2378.1185199953857,
          2373.592980868761,
          2330.2596440942293,
          2298.607771800656,
          2227.051048125375,
          2270.5453069586088,
          2328.44527788202,
          2344.2182121353594,
          2349.9429167225426,
          2343.7631114354654,
          2321.115943025752,
          2321.343138759397,
          2360.6969436000377,
          2342.2932061665024,
          2345.0820577500876,
          2339.1507167699956,
          2379.357182112079,
          2393.8173235096765,
          2410.268894917929,
          2402.020507031843,
          2406.134769688187,
          2394.4383698583833,
          2379.680469863417,
          2409.598287708944,
          2429.179826039016,
          2408.5612509760576,
          2402.045579833002,
          2434.9300693159416,
          2441.751322172073,
          2457.9265555622296,
          2448.495895877242,
          2464.690516721236,
          2468.250429895312,
          2489.2049011610866,
          2498.8234627365505,
          2508.7182925752504,
          2504.319365867583,
          2515.8001274834505,
          2499.5361298755593,
          2501.191389200657,
          2524.689590406532,
          2508.8108439230373,
          2492.610937058237,
          2489.2833494288807,
          2491.4216938851805,
          2505.2344112171204,
          2514.282095819627,
          2518.259426704094,
          2528.0257484524313,
          2527.455406179012,
          2524.32603738557,
          2535.0299685376954,
          2531.0856944074026,
          2523.3763657960303
         ]
        },
        {
         "mode": "lines",
         "name": "Test Predictions",
         "type": "scatter",
         "x": [
          "2021-06-30T00:00:00",
          "2021-07-01T00:00:00",
          "2021-07-02T00:00:00",
          "2021-07-03T00:00:00",
          "2021-07-04T00:00:00",
          "2021-07-05T00:00:00",
          "2021-07-06T00:00:00",
          "2021-07-07T00:00:00",
          "2021-07-08T00:00:00",
          "2021-07-09T00:00:00",
          "2021-07-10T00:00:00",
          "2021-07-11T00:00:00",
          "2021-07-12T00:00:00",
          "2021-07-13T00:00:00",
          "2021-07-14T00:00:00",
          "2021-07-15T00:00:00",
          "2021-07-16T00:00:00",
          "2021-07-17T00:00:00",
          "2021-07-18T00:00:00",
          "2021-07-19T00:00:00",
          "2021-07-20T00:00:00",
          "2021-07-21T00:00:00",
          "2021-07-22T00:00:00",
          "2021-07-23T00:00:00",
          "2021-07-24T00:00:00",
          "2021-07-25T00:00:00",
          "2021-07-26T00:00:00",
          "2021-07-27T00:00:00",
          "2021-07-28T00:00:00",
          "2021-07-29T00:00:00",
          "2021-07-30T00:00:00",
          "2021-07-31T00:00:00",
          "2021-08-01T00:00:00",
          "2021-08-02T00:00:00",
          "2021-08-03T00:00:00",
          "2021-08-04T00:00:00",
          "2021-08-05T00:00:00",
          "2021-08-06T00:00:00",
          "2021-08-07T00:00:00",
          "2021-08-08T00:00:00",
          "2021-08-09T00:00:00",
          "2021-08-10T00:00:00",
          "2021-08-11T00:00:00",
          "2021-08-12T00:00:00",
          "2021-08-13T00:00:00",
          "2021-08-14T00:00:00",
          "2021-08-15T00:00:00",
          "2021-08-16T00:00:00",
          "2021-08-17T00:00:00",
          "2021-08-18T00:00:00",
          "2021-08-19T00:00:00",
          "2021-08-20T00:00:00",
          "2021-08-21T00:00:00",
          "2021-08-22T00:00:00",
          "2021-08-23T00:00:00",
          "2021-08-24T00:00:00",
          "2021-08-25T00:00:00",
          "2021-08-26T00:00:00",
          "2021-08-27T00:00:00",
          "2021-08-28T00:00:00",
          "2021-08-29T00:00:00",
          "2021-08-30T00:00:00",
          "2021-08-31T00:00:00",
          "2021-09-01T00:00:00",
          "2021-09-02T00:00:00",
          "2021-09-03T00:00:00",
          "2021-09-04T00:00:00",
          "2021-09-05T00:00:00",
          "2021-09-06T00:00:00",
          "2021-09-07T00:00:00",
          "2021-09-08T00:00:00",
          "2021-09-09T00:00:00",
          "2021-09-10T00:00:00",
          "2021-09-11T00:00:00",
          "2021-09-12T00:00:00",
          "2021-09-13T00:00:00",
          "2021-09-14T00:00:00",
          "2021-09-15T00:00:00",
          "2021-09-16T00:00:00",
          "2021-09-17T00:00:00",
          "2021-09-18T00:00:00",
          "2021-09-19T00:00:00",
          "2021-09-20T00:00:00",
          "2021-09-21T00:00:00",
          "2021-09-22T00:00:00",
          "2021-09-23T00:00:00",
          "2021-09-24T00:00:00",
          "2021-09-25T00:00:00",
          "2021-09-26T00:00:00",
          "2021-09-27T00:00:00",
          "2021-09-28T00:00:00",
          "2021-09-29T00:00:00",
          "2021-09-30T00:00:00",
          "2021-10-01T00:00:00",
          "2021-10-02T00:00:00",
          "2021-10-03T00:00:00",
          "2021-10-04T00:00:00",
          "2021-10-05T00:00:00",
          "2021-10-06T00:00:00",
          "2021-10-07T00:00:00",
          "2021-10-08T00:00:00",
          "2021-10-09T00:00:00",
          "2021-10-10T00:00:00",
          "2021-10-11T00:00:00",
          "2021-10-12T00:00:00",
          "2021-10-13T00:00:00",
          "2021-10-14T00:00:00",
          "2021-10-15T00:00:00",
          "2021-10-16T00:00:00",
          "2021-10-17T00:00:00",
          "2021-10-18T00:00:00",
          "2021-10-19T00:00:00",
          "2021-10-20T00:00:00",
          "2021-10-21T00:00:00",
          "2021-10-22T00:00:00",
          "2021-10-23T00:00:00",
          "2021-10-24T00:00:00",
          "2021-10-25T00:00:00",
          "2021-10-26T00:00:00",
          "2021-10-27T00:00:00",
          "2021-10-28T00:00:00",
          "2021-10-29T00:00:00",
          "2021-10-30T00:00:00",
          "2021-10-31T00:00:00",
          "2021-11-01T00:00:00",
          "2021-11-02T00:00:00",
          "2021-11-03T00:00:00",
          "2021-11-04T00:00:00",
          "2021-11-05T00:00:00",
          "2021-11-06T00:00:00",
          "2021-11-07T00:00:00",
          "2021-11-08T00:00:00",
          "2021-11-09T00:00:00",
          "2021-11-10T00:00:00",
          "2021-11-11T00:00:00",
          "2021-11-12T00:00:00",
          "2021-11-13T00:00:00",
          "2021-11-14T00:00:00",
          "2021-11-15T00:00:00",
          "2021-11-16T00:00:00",
          "2021-11-17T00:00:00",
          "2021-11-18T00:00:00",
          "2021-11-19T00:00:00",
          "2021-11-20T00:00:00",
          "2021-11-21T00:00:00",
          "2021-11-22T00:00:00",
          "2021-11-23T00:00:00",
          "2021-11-24T00:00:00",
          "2021-11-25T00:00:00",
          "2021-11-26T00:00:00",
          "2021-11-27T00:00:00"
         ],
         "y": [
          2511.519974812234,
          2531.121412061021,
          2577.3299092434436,
          2583.874380328771,
          2587.5092660432606,
          2588.1320285194556,
          2614.2364370652535,
          2620.320448042252,
          2596.5647721540618,
          2609.734391132102,
          2608.7752780474857,
          2606.8809255758865,
          2610.120138781942,
          2616.529672802552,
          2623.8567920931646,
          2615.620928753677,
          2619.494873625166,
          2614.5387209521855,
          2616.804505767434,
          2570.022154543874,
          2611.106327215083,
          2637.5239621969745,
          2652.247911384388,
          2735.3084354683147,
          2742.1312889713017,
          2742.9737473591954,
          2772.836784844849,
          2733.348051769547,
          2729.8510261274646,
          2746.237962079437,
          2722.862239704562,
          2720.009388924632,
          2715.834278330427,
          2731.656496337391,
          2741.9663804845977,
          2743.413845440429,
          2766.789331276307,
          2773.7468351641405,
          2769.7917765402044,
          2767.447111958198,
          2766.4235144747363,
          2771.4646281218074,
          2769.127887225953,
          2774.930745458813,
          2766.5730262287193,
          2765.3297670913103,
          2750.647847657519,
          2770.639698899773,
          2736.992284721971,
          2725.403400087037,
          2739.5451877932405,
          2558.9124299175364,
          2648.8322259471574,
          2637.907359656072,
          2576.408976555638,
          2800.180405110921,
          2684.092915445384,
          2698.365722786022,
          2676.3674353450892,
          2644.3842345939347,
          2591.294752510861,
          2628.1222504387815,
          2517.51028769752,
          2581.8570953520884,
          2577.7163057517864,
          2648.8017790365852,
          2644.2676012187067,
          2694.600705723718,
          2792.367837809461,
          2671.0716714758296,
          2601.8776222646716,
          2408.0654705475113,
          2443.357984314594,
          2250.532378387476,
          2214.542215727098,
          2278.9662210530178,
          2319.582827201906,
          2332.7249166706492,
          2429.215112930231,
          2563.8798914761237,
          2417.1272291780842,
          2567.837570274603,
          2420.56183118397,
          2352.0870104242026,
          2383.500045648168,
          2436.5243751763314,
          2256.3231114566333,
          2272.8177957146527,
          2395.1932828092313,
          2305.98364855562,
          2453.8873018602703,
          2401.38108035406,
          2600.6564346152027,
          2552.8847264619753,
          2536.948036018827,
          2498.625154727415,
          2593.5751666680003,
          2404.9800825199904,
          2504.5385098964366,
          2665.0823737144183,
          2528.681323546736,
          2667.114736099039,
          2687.8186474585527,
          2726.9103355647953,
          2799.704129836625,
          2889.5032751380622,
          2833.188271060802,
          2824.56276326085,
          3016.472197956323,
          2928.5456496344577,
          3050.713373236442,
          3050.7258449346114,
          3033.8848400996194,
          3104.0795086374496,
          3079.4235511678025,
          3185.3314504480722,
          3244.1194559086202,
          3180.9615096839243,
          3001.3233010171502,
          3252.018392556675,
          3162.518948753505,
          3230.335079185291,
          3234.4003220473373,
          3265.554828863165,
          3293.394552529287,
          3464.2946478501067,
          3517.150800022986,
          3412.4350022433846,
          3567.37402374326,
          3427.7717076016206,
          3537.9362766605163,
          3497.4900901166016,
          3438.1735769818797,
          3484.9791734546548,
          3383.8740090910683,
          3341.705756869147,
          3445.5631241641263,
          3486.9885892687967,
          3401.253863670071,
          3620.969672223492,
          3491.895733168454,
          3424.386746494088,
          3650.2143056807063,
          3645.865939237333,
          3519.2738962239896,
          3506.933945606824,
          3500.097069761802,
          3412.5544883092025,
          3521.1792266688603,
          3374.53135929358,
          3408.828476404552
         ]
        }
       ],
       "layout": {
        "height": 600,
        "template": {
         "data": {
          "bar": [
           {
            "error_x": {
             "color": "#2a3f5f"
            },
            "error_y": {
             "color": "#2a3f5f"
            },
            "marker": {
             "line": {
              "color": "#E5ECF6",
              "width": 0.5
             },
             "pattern": {
              "fillmode": "overlay",
              "size": 10,
              "solidity": 0.2
             }
            },
            "type": "bar"
           }
          ],
          "barpolar": [
           {
            "marker": {
             "line": {
              "color": "#E5ECF6",
              "width": 0.5
             },
             "pattern": {
              "fillmode": "overlay",
              "size": 10,
              "solidity": 0.2
             }
            },
            "type": "barpolar"
           }
          ],
          "carpet": [
           {
            "aaxis": {
             "endlinecolor": "#2a3f5f",
             "gridcolor": "white",
             "linecolor": "white",
             "minorgridcolor": "white",
             "startlinecolor": "#2a3f5f"
            },
            "baxis": {
             "endlinecolor": "#2a3f5f",
             "gridcolor": "white",
             "linecolor": "white",
             "minorgridcolor": "white",
             "startlinecolor": "#2a3f5f"
            },
            "type": "carpet"
           }
          ],
          "choropleth": [
           {
            "colorbar": {
             "outlinewidth": 0,
             "ticks": ""
            },
            "type": "choropleth"
           }
          ],
          "contour": [
           {
            "colorbar": {
             "outlinewidth": 0,
             "ticks": ""
            },
            "colorscale": [
             [
              0,
              "#0d0887"
             ],
             [
              0.1111111111111111,
              "#46039f"
             ],
             [
              0.2222222222222222,
              "#7201a8"
             ],
             [
              0.3333333333333333,
              "#9c179e"
             ],
             [
              0.4444444444444444,
              "#bd3786"
             ],
             [
              0.5555555555555556,
              "#d8576b"
             ],
             [
              0.6666666666666666,
              "#ed7953"
             ],
             [
              0.7777777777777778,
              "#fb9f3a"
             ],
             [
              0.8888888888888888,
              "#fdca26"
             ],
             [
              1,
              "#f0f921"
             ]
            ],
            "type": "contour"
           }
          ],
          "contourcarpet": [
           {
            "colorbar": {
             "outlinewidth": 0,
             "ticks": ""
            },
            "type": "contourcarpet"
           }
          ],
          "heatmap": [
           {
            "colorbar": {
             "outlinewidth": 0,
             "ticks": ""
            },
            "colorscale": [
             [
              0,
              "#0d0887"
             ],
             [
              0.1111111111111111,
              "#46039f"
             ],
             [
              0.2222222222222222,
              "#7201a8"
             ],
             [
              0.3333333333333333,
              "#9c179e"
             ],
             [
              0.4444444444444444,
              "#bd3786"
             ],
             [
              0.5555555555555556,
              "#d8576b"
             ],
             [
              0.6666666666666666,
              "#ed7953"
             ],
             [
              0.7777777777777778,
              "#fb9f3a"
             ],
             [
              0.8888888888888888,
              "#fdca26"
             ],
             [
              1,
              "#f0f921"
             ]
            ],
            "type": "heatmap"
           }
          ],
          "heatmapgl": [
           {
            "colorbar": {
             "outlinewidth": 0,
             "ticks": ""
            },
            "colorscale": [
             [
              0,
              "#0d0887"
             ],
             [
              0.1111111111111111,
              "#46039f"
             ],
             [
              0.2222222222222222,
              "#7201a8"
             ],
             [
              0.3333333333333333,
              "#9c179e"
             ],
             [
              0.4444444444444444,
              "#bd3786"
             ],
             [
              0.5555555555555556,
              "#d8576b"
             ],
             [
              0.6666666666666666,
              "#ed7953"
             ],
             [
              0.7777777777777778,
              "#fb9f3a"
             ],
             [
              0.8888888888888888,
              "#fdca26"
             ],
             [
              1,
              "#f0f921"
             ]
            ],
            "type": "heatmapgl"
           }
          ],
          "histogram": [
           {
            "marker": {
             "pattern": {
              "fillmode": "overlay",
              "size": 10,
              "solidity": 0.2
             }
            },
            "type": "histogram"
           }
          ],
          "histogram2d": [
           {
            "colorbar": {
             "outlinewidth": 0,
             "ticks": ""
            },
            "colorscale": [
             [
              0,
              "#0d0887"
             ],
             [
              0.1111111111111111,
              "#46039f"
             ],
             [
              0.2222222222222222,
              "#7201a8"
             ],
             [
              0.3333333333333333,
              "#9c179e"
             ],
             [
              0.4444444444444444,
              "#bd3786"
             ],
             [
              0.5555555555555556,
              "#d8576b"
             ],
             [
              0.6666666666666666,
              "#ed7953"
             ],
             [
              0.7777777777777778,
              "#fb9f3a"
             ],
             [
              0.8888888888888888,
              "#fdca26"
             ],
             [
              1,
              "#f0f921"
             ]
            ],
            "type": "histogram2d"
           }
          ],
          "histogram2dcontour": [
           {
            "colorbar": {
             "outlinewidth": 0,
             "ticks": ""
            },
            "colorscale": [
             [
              0,
              "#0d0887"
             ],
             [
              0.1111111111111111,
              "#46039f"
             ],
             [
              0.2222222222222222,
              "#7201a8"
             ],
             [
              0.3333333333333333,
              "#9c179e"
             ],
             [
              0.4444444444444444,
              "#bd3786"
             ],
             [
              0.5555555555555556,
              "#d8576b"
             ],
             [
              0.6666666666666666,
              "#ed7953"
             ],
             [
              0.7777777777777778,
              "#fb9f3a"
             ],
             [
              0.8888888888888888,
              "#fdca26"
             ],
             [
              1,
              "#f0f921"
             ]
            ],
            "type": "histogram2dcontour"
           }
          ],
          "mesh3d": [
           {
            "colorbar": {
             "outlinewidth": 0,
             "ticks": ""
            },
            "type": "mesh3d"
           }
          ],
          "parcoords": [
           {
            "line": {
             "colorbar": {
              "outlinewidth": 0,
              "ticks": ""
             }
            },
            "type": "parcoords"
           }
          ],
          "pie": [
           {
            "automargin": true,
            "type": "pie"
           }
          ],
          "scatter": [
           {
            "marker": {
             "colorbar": {
              "outlinewidth": 0,
              "ticks": ""
             }
            },
            "type": "scatter"
           }
          ],
          "scatter3d": [
           {
            "line": {
             "colorbar": {
              "outlinewidth": 0,
              "ticks": ""
             }
            },
            "marker": {
             "colorbar": {
              "outlinewidth": 0,
              "ticks": ""
             }
            },
            "type": "scatter3d"
           }
          ],
          "scattercarpet": [
           {
            "marker": {
             "colorbar": {
              "outlinewidth": 0,
              "ticks": ""
             }
            },
            "type": "scattercarpet"
           }
          ],
          "scattergeo": [
           {
            "marker": {
             "colorbar": {
              "outlinewidth": 0,
              "ticks": ""
             }
            },
            "type": "scattergeo"
           }
          ],
          "scattergl": [
           {
            "marker": {
             "colorbar": {
              "outlinewidth": 0,
              "ticks": ""
             }
            },
            "type": "scattergl"
           }
          ],
          "scattermapbox": [
           {
            "marker": {
             "colorbar": {
              "outlinewidth": 0,
              "ticks": ""
             }
            },
            "type": "scattermapbox"
           }
          ],
          "scatterpolar": [
           {
            "marker": {
             "colorbar": {
              "outlinewidth": 0,
              "ticks": ""
             }
            },
            "type": "scatterpolar"
           }
          ],
          "scatterpolargl": [
           {
            "marker": {
             "colorbar": {
              "outlinewidth": 0,
              "ticks": ""
             }
            },
            "type": "scatterpolargl"
           }
          ],
          "scatterternary": [
           {
            "marker": {
             "colorbar": {
              "outlinewidth": 0,
              "ticks": ""
             }
            },
            "type": "scatterternary"
           }
          ],
          "surface": [
           {
            "colorbar": {
             "outlinewidth": 0,
             "ticks": ""
            },
            "colorscale": [
             [
              0,
              "#0d0887"
             ],
             [
              0.1111111111111111,
              "#46039f"
             ],
             [
              0.2222222222222222,
              "#7201a8"
             ],
             [
              0.3333333333333333,
              "#9c179e"
             ],
             [
              0.4444444444444444,
              "#bd3786"
             ],
             [
              0.5555555555555556,
              "#d8576b"
             ],
             [
              0.6666666666666666,
              "#ed7953"
             ],
             [
              0.7777777777777778,
              "#fb9f3a"
             ],
             [
              0.8888888888888888,
              "#fdca26"
             ],
             [
              1,
              "#f0f921"
             ]
            ],
            "type": "surface"
           }
          ],
          "table": [
           {
            "cells": {
             "fill": {
              "color": "#EBF0F8"
             },
             "line": {
              "color": "white"
             }
            },
            "header": {
             "fill": {
              "color": "#C8D4E3"
             },
             "line": {
              "color": "white"
             }
            },
            "type": "table"
           }
          ]
         },
         "layout": {
          "annotationdefaults": {
           "arrowcolor": "#2a3f5f",
           "arrowhead": 0,
           "arrowwidth": 1
          },
          "autotypenumbers": "strict",
          "coloraxis": {
           "colorbar": {
            "outlinewidth": 0,
            "ticks": ""
           }
          },
          "colorscale": {
           "diverging": [
            [
             0,
             "#8e0152"
            ],
            [
             0.1,
             "#c51b7d"
            ],
            [
             0.2,
             "#de77ae"
            ],
            [
             0.3,
             "#f1b6da"
            ],
            [
             0.4,
             "#fde0ef"
            ],
            [
             0.5,
             "#f7f7f7"
            ],
            [
             0.6,
             "#e6f5d0"
            ],
            [
             0.7,
             "#b8e186"
            ],
            [
             0.8,
             "#7fbc41"
            ],
            [
             0.9,
             "#4d9221"
            ],
            [
             1,
             "#276419"
            ]
           ],
           "sequential": [
            [
             0,
             "#0d0887"
            ],
            [
             0.1111111111111111,
             "#46039f"
            ],
            [
             0.2222222222222222,
             "#7201a8"
            ],
            [
             0.3333333333333333,
             "#9c179e"
            ],
            [
             0.4444444444444444,
             "#bd3786"
            ],
            [
             0.5555555555555556,
             "#d8576b"
            ],
            [
             0.6666666666666666,
             "#ed7953"
            ],
            [
             0.7777777777777778,
             "#fb9f3a"
            ],
            [
             0.8888888888888888,
             "#fdca26"
            ],
            [
             1,
             "#f0f921"
            ]
           ],
           "sequentialminus": [
            [
             0,
             "#0d0887"
            ],
            [
             0.1111111111111111,
             "#46039f"
            ],
            [
             0.2222222222222222,
             "#7201a8"
            ],
            [
             0.3333333333333333,
             "#9c179e"
            ],
            [
             0.4444444444444444,
             "#bd3786"
            ],
            [
             0.5555555555555556,
             "#d8576b"
            ],
            [
             0.6666666666666666,
             "#ed7953"
            ],
            [
             0.7777777777777778,
             "#fb9f3a"
            ],
            [
             0.8888888888888888,
             "#fdca26"
            ],
            [
             1,
             "#f0f921"
            ]
           ]
          },
          "colorway": [
           "#636efa",
           "#EF553B",
           "#00cc96",
           "#ab63fa",
           "#FFA15A",
           "#19d3f3",
           "#FF6692",
           "#B6E880",
           "#FF97FF",
           "#FECB52"
          ],
          "font": {
           "color": "#2a3f5f"
          },
          "geo": {
           "bgcolor": "white",
           "lakecolor": "white",
           "landcolor": "#E5ECF6",
           "showlakes": true,
           "showland": true,
           "subunitcolor": "white"
          },
          "hoverlabel": {
           "align": "left"
          },
          "hovermode": "closest",
          "mapbox": {
           "style": "light"
          },
          "paper_bgcolor": "white",
          "plot_bgcolor": "#E5ECF6",
          "polar": {
           "angularaxis": {
            "gridcolor": "white",
            "linecolor": "white",
            "ticks": ""
           },
           "bgcolor": "#E5ECF6",
           "radialaxis": {
            "gridcolor": "white",
            "linecolor": "white",
            "ticks": ""
           }
          },
          "scene": {
           "xaxis": {
            "backgroundcolor": "#E5ECF6",
            "gridcolor": "white",
            "gridwidth": 2,
            "linecolor": "white",
            "showbackground": true,
            "ticks": "",
            "zerolinecolor": "white"
           },
           "yaxis": {
            "backgroundcolor": "#E5ECF6",
            "gridcolor": "white",
            "gridwidth": 2,
            "linecolor": "white",
            "showbackground": true,
            "ticks": "",
            "zerolinecolor": "white"
           },
           "zaxis": {
            "backgroundcolor": "#E5ECF6",
            "gridcolor": "white",
            "gridwidth": 2,
            "linecolor": "white",
            "showbackground": true,
            "ticks": "",
            "zerolinecolor": "white"
           }
          },
          "shapedefaults": {
           "line": {
            "color": "#2a3f5f"
           }
          },
          "ternary": {
           "aaxis": {
            "gridcolor": "white",
            "linecolor": "white",
            "ticks": ""
           },
           "baxis": {
            "gridcolor": "white",
            "linecolor": "white",
            "ticks": ""
           },
           "bgcolor": "#E5ECF6",
           "caxis": {
            "gridcolor": "white",
            "linecolor": "white",
            "ticks": ""
           }
          },
          "title": {
           "x": 0.05
          },
          "xaxis": {
           "automargin": true,
           "gridcolor": "white",
           "linecolor": "white",
           "ticks": "",
           "title": {
            "standoff": 15
           },
           "zerolinecolor": "white",
           "zerolinewidth": 2
          },
          "yaxis": {
           "automargin": true,
           "gridcolor": "white",
           "linecolor": "white",
           "ticks": "",
           "title": {
            "standoff": 15
           },
           "zerolinecolor": "white",
           "zerolinewidth": 2
          }
         }
        },
        "title": {
         "text": "Google Stock Price Data"
        },
        "xaxis": {
         "title": {
          "text": "Date"
         }
        },
        "yaxis": {
         "title": {
          "text": "Price"
         }
        }
       }
      }
     },
     "metadata": {},
     "output_type": "display_data"
    }
   ],
   "source": [
    "fig = go.Figure()\n",
    "\n",
    "fig.add_trace(go.Scatter(x=test_df.index, y=test_df[\"Adj Close\"].values, mode=\"lines\", name=\"Test Data\"))\n",
    "fig.add_trace(go.Scatter(x=prediction.index, y=prediction.values, mode=\"lines\", name=\"Test Predictions\"))\n",
    "fig.add_trace(go.Scatter(x=forecast.index, y=forecast.values, mode=\"lines\", name=\"Test Predictions\"))\n",
    "\n",
    "fig.update_layout(title=\"Google Stock Price Data\",\n",
    "                  xaxis_title=\"Date\",\n",
    "                  yaxis_title=\"Price\",\n",
    "                  height=600)"
   ]
  }
 ],
 "metadata": {
  "interpreter": {
   "hash": "c910ff1971d1a35b86d57fc264bbf5a30ca5984c3d733b151c172360a879289c"
  },
  "kernelspec": {
   "display_name": "Python 3.9.7 64-bit",
   "name": "python3"
  },
  "language_info": {
   "codemirror_mode": {
    "name": "ipython",
    "version": 3
   },
   "file_extension": ".py",
   "mimetype": "text/x-python",
   "name": "python",
   "nbconvert_exporter": "python",
   "pygments_lexer": "ipython3",
   "version": "3.9.7"
  },
  "orig_nbformat": 4
 },
 "nbformat": 4,
 "nbformat_minor": 2
}
